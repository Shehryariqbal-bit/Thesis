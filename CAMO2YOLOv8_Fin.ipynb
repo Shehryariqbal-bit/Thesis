{
  "nbformat": 4,
  "nbformat_minor": 0,
  "metadata": {
    "colab": {
      "provenance": [],
      "machine_shape": "hm",
      "gpuType": "V28"
    },
    "kernelspec": {
      "name": "python3",
      "display_name": "Python 3"
    },
    "language_info": {
      "name": "python"
    },
    "accelerator": "TPU"
  },
  "cells": [
    {
      "cell_type": "code",
      "execution_count": null,
      "metadata": {
        "colab": {
          "base_uri": "https://localhost:8080/"
        },
        "id": "rUf6e8KuslVJ",
        "outputId": "b8d580ac-e3f1-46c7-dd9a-0bf0626023c8"
      },
      "outputs": [
        {
          "output_type": "stream",
          "name": "stdout",
          "text": [
            "Mounted at /content/drive\n"
          ]
        }
      ],
      "source": [
        "from google.colab import drive\n",
        "drive.mount('/content/drive')"
      ]
    },
    {
      "cell_type": "code",
      "source": [
        "!pip install opencv-python-headless"
      ],
      "metadata": {
        "colab": {
          "base_uri": "https://localhost:8080/"
        },
        "id": "65KdDfnFDoks",
        "outputId": "bc60faa3-51ac-47aa-80fc-23078ba1c04f"
      },
      "execution_count": null,
      "outputs": [
        {
          "output_type": "stream",
          "name": "stdout",
          "text": [
            "Collecting opencv-python-headless\n",
            "  Downloading opencv_python_headless-4.12.0.88-cp37-abi3-manylinux2014_x86_64.manylinux_2_17_x86_64.whl.metadata (19 kB)\n",
            "Requirement already satisfied: numpy<2.3.0,>=2 in /usr/local/lib/python3.11/dist-packages (from opencv-python-headless) (2.0.2)\n",
            "Downloading opencv_python_headless-4.12.0.88-cp37-abi3-manylinux2014_x86_64.manylinux_2_17_x86_64.whl (54.0 MB)\n",
            "\u001b[2K   \u001b[90m━━━━━━━━━━━━━━━━━━━━━━━━━━━━━━━━━━━━━━━━\u001b[0m \u001b[32m54.0/54.0 MB\u001b[0m \u001b[31m24.9 MB/s\u001b[0m eta \u001b[36m0:00:00\u001b[0m\n",
            "\u001b[?25hInstalling collected packages: opencv-python-headless\n",
            "Successfully installed opencv-python-headless-4.12.0.88\n"
          ]
        }
      ]
    },
    {
      "cell_type": "code",
      "source": [
        "import os\n",
        "import cv2\n",
        "from PIL import Image\n",
        "from glob import glob\n",
        "\n",
        "# === Paths ===\n",
        "BASE_PATH = '/content/drive/MyDrive/Colab Notebooks/Dataset/CAMO'\n",
        "IMAGE_TRAIN_DIR = os.path.join(BASE_PATH, 'images/train')\n",
        "IMAGE_TEST_DIR = os.path.join(BASE_PATH, 'images/test')\n",
        "GT_MASK_DIR = os.path.join(BASE_PATH, 'GT')\n",
        "\n",
        "LABEL_TRAIN_DIR = os.path.join(BASE_PATH, 'labels/train')\n",
        "LABEL_TEST_DIR = os.path.join(BASE_PATH, 'labels/test')\n",
        "\n",
        "# === Create label directories ===\n",
        "os.makedirs(LABEL_TRAIN_DIR, exist_ok=True)\n",
        "os.makedirs(LABEL_TEST_DIR, exist_ok=True)\n",
        "\n",
        "# === Convert mask to YOLO polygon format ===\n",
        "def mask_to_yolo(mask_path, image_shape):\n",
        "    mask = cv2.imread(mask_path, 0)\n",
        "    contours, _ = cv2.findContours(mask, cv2.RETR_EXTERNAL, cv2.CHAIN_APPROX_SIMPLE)\n",
        "    h, w = image_shape\n",
        "    yolo_annotations = []\n",
        "\n",
        "    for contour in contours:\n",
        "        if len(contour) < 3:\n",
        "            continue\n",
        "        contour = contour.squeeze()\n",
        "        points = []\n",
        "        for x, y in contour:\n",
        "            x_norm = x / w\n",
        "            y_norm = y / h\n",
        "            points.extend([x_norm, y_norm])\n",
        "        label_line = f\"0 \" + \" \".join([f\"{p:.6f}\" for p in points])\n",
        "        yolo_annotations.append(label_line)\n",
        "    return yolo_annotations\n",
        "\n",
        "# === Main processing function ===\n",
        "def process_split(image_dir, label_dir):\n",
        "    image_files = glob(f\"{image_dir}/*.jpg\")\n",
        "    for img_path in image_files:\n",
        "        filename = os.path.basename(img_path).replace('.jpg', '')\n",
        "        mask_path = os.path.join(GT_MASK_DIR, filename + '.png')  # assume GT masks are PNG\n",
        "        if not os.path.exists(mask_path):\n",
        "            print(f\"[!] Missing mask: {mask_path}\")\n",
        "            continue\n",
        "\n",
        "        with Image.open(img_path) as im:\n",
        "            w, h = im.size\n",
        "        yolo_labels = mask_to_yolo(mask_path, (h, w))\n",
        "\n",
        "        label_path = os.path.join(label_dir, filename + '.txt')\n",
        "        with open(label_path, 'w') as f:\n",
        "            for line in yolo_labels:\n",
        "                f.write(line + '\\n')\n",
        "\n",
        "# === Run for both train and test ===\n",
        "process_split(IMAGE_TRAIN_DIR, LABEL_TRAIN_DIR)\n",
        "process_split(IMAGE_TEST_DIR, LABEL_TEST_DIR)\n",
        "\n",
        "print(\"✅ Conversion complete.\")"
      ],
      "metadata": {
        "colab": {
          "base_uri": "https://localhost:8080/"
        },
        "id": "r85BaczwBvX0",
        "outputId": "eea68432-a082-4c39-f59b-0ca29ae00987"
      },
      "execution_count": null,
      "outputs": [
        {
          "output_type": "stream",
          "name": "stdout",
          "text": [
            "✅ Conversion complete.\n"
          ]
        }
      ]
    },
    {
      "cell_type": "code",
      "source": [
        "yaml_content = \"\"\"\\\n",
        "path: /content/drive/MyDrive/Colab Notebooks/Dataset/CAMO\n",
        "train: images/train\n",
        "val: images/test\n",
        "test: images/test\n",
        "nc: 1\n",
        "names:\n",
        "  - Camo\n",
        "\"\"\"\n",
        "\n",
        "with open('/content/drive/MyDrive/Colab Notebooks/Dataset/CAMO/data.yaml', 'w') as f:\n",
        "    f.write(yaml_content)\n",
        "\n",
        "print(\"✅ data.yaml created correctly.\")"
      ],
      "metadata": {
        "colab": {
          "base_uri": "https://localhost:8080/"
        },
        "id": "5CZjEe4hB8u7",
        "outputId": "70e420e1-2713-45db-c6c8-813842fc9bc3"
      },
      "execution_count": null,
      "outputs": [
        {
          "output_type": "stream",
          "name": "stdout",
          "text": [
            "✅ data.yaml created correctly.\n"
          ]
        }
      ]
    },
    {
      "cell_type": "markdown",
      "source": [
        "Convert GT Masks → YOLO Segmentation Format"
      ],
      "metadata": {
        "id": "V5i_XQ0TTnNf"
      }
    },
    {
      "cell_type": "code",
      "source": [
        "import os\n",
        "import cv2\n",
        "import numpy as np\n",
        "from glob import glob\n",
        "from tqdm import tqdm\n",
        "\n",
        "# Paths\n",
        "GT_PATH = '/content/drive/MyDrive/Colab Notebooks/Dataset/CAMO/GT'\n",
        "TRAIN_IMG_PATH = '/content/drive/MyDrive/Colab Notebooks/Dataset/CAMO/images/train'\n",
        "TEST_IMG_PATH = '/content/drive/MyDrive/Colab Notebooks/Dataset/CAMO/images/test'\n",
        "LABEL_PATH = '/content/drive/MyDrive/Colab Notebooks/Dataset/CAMO/labels'\n",
        "os.makedirs(f'{LABEL_PATH}/Train', exist_ok=True)\n",
        "os.makedirs(f'{LABEL_PATH}/Test', exist_ok=True)\n",
        "\n",
        "# Get image filenames without extensions\n",
        "train_files = [os.path.splitext(f)[0] for f in os.listdir(TRAIN_IMG_PATH) if f.endswith(('.jpg', '.png'))]\n",
        "test_files = [os.path.splitext(f)[0] for f in os.listdir(TEST_IMG_PATH) if f.endswith(('.jpg', '.png'))]\n",
        "\n",
        "def create_yolo_segmentation_labels(mask_path, save_path, class_id=0):\n",
        "    mask = cv2.imread(mask_path, cv2.IMREAD_GRAYSCALE)\n",
        "    h, w = mask.shape\n",
        "\n",
        "    _, thresh = cv2.threshold(mask, 127, 255, cv2.THRESH_BINARY)\n",
        "    contours, _ = cv2.findContours(thresh, cv2.RETR_EXTERNAL, cv2.CHAIN_APPROX_SIMPLE)\n",
        "\n",
        "    label_lines = []\n",
        "    for contour in contours:\n",
        "        if len(contour) < 6:\n",
        "            continue\n",
        "\n",
        "        contour = contour.squeeze()\n",
        "        norm_points = [(x / w, y / h) for x, y in contour]\n",
        "        norm_points = [str(round(coord, 6)) for point in norm_points for coord in point]\n",
        "\n",
        "        line = f\"{class_id} \" + \" \".join(norm_points)\n",
        "        label_lines.append(line)\n",
        "\n",
        "    if label_lines:\n",
        "        filename = os.path.splitext(os.path.basename(mask_path))[0] + \".txt\"\n",
        "        with open(os.path.join(save_path, filename), \"w\") as f:\n",
        "            f.write(\"\\n\".join(label_lines))\n",
        "\n",
        "# Process all masks from GT\n",
        "all_masks = glob(f'{GT_PATH}/*.png')\n",
        "print(f\"Found {len(all_masks)} mask files in GT.\")\n",
        "\n",
        "for mask_file in tqdm(all_masks):\n",
        "    base_name = os.path.splitext(os.path.basename(mask_file))[0]\n",
        "\n",
        "    if base_name in train_files:\n",
        "        dest_dir = os.path.join(LABEL_PATH, 'Train')\n",
        "    elif base_name in test_files:\n",
        "        dest_dir = os.path.join(LABEL_PATH, 'Test')\n",
        "    else:\n",
        "        print(f\"⚠️ No matching image found for mask {base_name}\")\n",
        "        continue\n",
        "\n",
        "    create_yolo_segmentation_labels(mask_file, dest_dir)\n"
      ],
      "metadata": {
        "colab": {
          "base_uri": "https://localhost:8080/"
        },
        "id": "FhL58jYoQ1FG",
        "outputId": "c0eff08a-eace-485d-fb96-b668ee73050c"
      },
      "execution_count": null,
      "outputs": [
        {
          "output_type": "stream",
          "name": "stdout",
          "text": [
            "Found 1250 mask files in GT.\n"
          ]
        },
        {
          "output_type": "stream",
          "name": "stderr",
          "text": [
            "100%|██████████| 1250/1250 [06:13<00:00,  3.34it/s]\n"
          ]
        }
      ]
    },
    {
      "cell_type": "code",
      "source": [
        "!pip install ultralytics"
      ],
      "metadata": {
        "colab": {
          "base_uri": "https://localhost:8080/",
          "height": 985
        },
        "collapsed": true,
        "id": "qltzIJqPCAyC",
        "outputId": "6527066e-7431-46a7-8083-7fd4bd81df1e"
      },
      "execution_count": null,
      "outputs": [
        {
          "output_type": "stream",
          "name": "stdout",
          "text": [
            "Collecting ultralytics\n",
            "  Downloading ultralytics-8.3.168-py3-none-any.whl.metadata (37 kB)\n",
            "Requirement already satisfied: numpy>=1.23.0 in /usr/local/lib/python3.11/dist-packages (from ultralytics) (2.0.2)\n",
            "Requirement already satisfied: matplotlib>=3.3.0 in /usr/local/lib/python3.11/dist-packages (from ultralytics) (3.10.0)\n",
            "Collecting opencv-python>=4.6.0 (from ultralytics)\n",
            "  Downloading opencv_python-4.12.0.88-cp37-abi3-manylinux2014_x86_64.manylinux_2_17_x86_64.whl.metadata (19 kB)\n",
            "Requirement already satisfied: pillow>=7.1.2 in /usr/local/lib/python3.11/dist-packages (from ultralytics) (11.3.0)\n",
            "Requirement already satisfied: pyyaml>=5.3.1 in /usr/local/lib/python3.11/dist-packages (from ultralytics) (6.0.2)\n",
            "Requirement already satisfied: requests>=2.23.0 in /usr/local/lib/python3.11/dist-packages (from ultralytics) (2.32.3)\n",
            "Requirement already satisfied: scipy>=1.4.1 in /usr/local/lib/python3.11/dist-packages (from ultralytics) (1.15.3)\n",
            "Requirement already satisfied: torch>=1.8.0 in /usr/local/lib/python3.11/dist-packages (from ultralytics) (2.6.0+cpu)\n",
            "Requirement already satisfied: torchvision>=0.9.0 in /usr/local/lib/python3.11/dist-packages (from ultralytics) (0.21.0+cpu)\n",
            "Requirement already satisfied: tqdm>=4.64.0 in /usr/local/lib/python3.11/dist-packages (from ultralytics) (4.67.1)\n",
            "Requirement already satisfied: psutil in /usr/local/lib/python3.11/dist-packages (from ultralytics) (5.9.5)\n",
            "Collecting py-cpuinfo (from ultralytics)\n",
            "  Downloading py_cpuinfo-9.0.0-py3-none-any.whl.metadata (794 bytes)\n",
            "Requirement already satisfied: pandas>=1.1.4 in /usr/local/lib/python3.11/dist-packages (from ultralytics) (2.2.2)\n",
            "Collecting ultralytics-thop>=2.0.0 (from ultralytics)\n",
            "  Downloading ultralytics_thop-2.0.14-py3-none-any.whl.metadata (9.4 kB)\n",
            "Requirement already satisfied: contourpy>=1.0.1 in /usr/local/lib/python3.11/dist-packages (from matplotlib>=3.3.0->ultralytics) (1.3.2)\n",
            "Requirement already satisfied: cycler>=0.10 in /usr/local/lib/python3.11/dist-packages (from matplotlib>=3.3.0->ultralytics) (0.12.1)\n",
            "Requirement already satisfied: fonttools>=4.22.0 in /usr/local/lib/python3.11/dist-packages (from matplotlib>=3.3.0->ultralytics) (4.58.5)\n",
            "Requirement already satisfied: kiwisolver>=1.3.1 in /usr/local/lib/python3.11/dist-packages (from matplotlib>=3.3.0->ultralytics) (1.4.8)\n",
            "Requirement already satisfied: packaging>=20.0 in /usr/local/lib/python3.11/dist-packages (from matplotlib>=3.3.0->ultralytics) (25.0)\n",
            "Requirement already satisfied: pyparsing>=2.3.1 in /usr/local/lib/python3.11/dist-packages (from matplotlib>=3.3.0->ultralytics) (3.2.3)\n",
            "Requirement already satisfied: python-dateutil>=2.7 in /usr/local/lib/python3.11/dist-packages (from matplotlib>=3.3.0->ultralytics) (2.9.0.post0)\n",
            "Requirement already satisfied: pytz>=2020.1 in /usr/local/lib/python3.11/dist-packages (from pandas>=1.1.4->ultralytics) (2025.2)\n",
            "Requirement already satisfied: tzdata>=2022.7 in /usr/local/lib/python3.11/dist-packages (from pandas>=1.1.4->ultralytics) (2025.2)\n",
            "Requirement already satisfied: charset-normalizer<4,>=2 in /usr/local/lib/python3.11/dist-packages (from requests>=2.23.0->ultralytics) (3.4.2)\n",
            "Requirement already satisfied: idna<4,>=2.5 in /usr/local/lib/python3.11/dist-packages (from requests>=2.23.0->ultralytics) (3.10)\n",
            "Requirement already satisfied: urllib3<3,>=1.21.1 in /usr/local/lib/python3.11/dist-packages (from requests>=2.23.0->ultralytics) (2.4.0)\n",
            "Requirement already satisfied: certifi>=2017.4.17 in /usr/local/lib/python3.11/dist-packages (from requests>=2.23.0->ultralytics) (2025.7.14)\n",
            "Requirement already satisfied: filelock in /usr/local/lib/python3.11/dist-packages (from torch>=1.8.0->ultralytics) (3.18.0)\n",
            "Requirement already satisfied: typing-extensions>=4.10.0 in /usr/local/lib/python3.11/dist-packages (from torch>=1.8.0->ultralytics) (4.14.1)\n",
            "Requirement already satisfied: networkx in /usr/local/lib/python3.11/dist-packages (from torch>=1.8.0->ultralytics) (3.5)\n",
            "Requirement already satisfied: jinja2 in /usr/local/lib/python3.11/dist-packages (from torch>=1.8.0->ultralytics) (3.1.6)\n",
            "Requirement already satisfied: fsspec in /usr/local/lib/python3.11/dist-packages (from torch>=1.8.0->ultralytics) (2025.7.0)\n",
            "Requirement already satisfied: sympy==1.13.1 in /usr/local/lib/python3.11/dist-packages (from torch>=1.8.0->ultralytics) (1.13.1)\n",
            "Requirement already satisfied: mpmath<1.4,>=1.1.0 in /usr/local/lib/python3.11/dist-packages (from sympy==1.13.1->torch>=1.8.0->ultralytics) (1.3.0)\n",
            "Requirement already satisfied: six>=1.5 in /usr/local/lib/python3.11/dist-packages (from python-dateutil>=2.7->matplotlib>=3.3.0->ultralytics) (1.17.0)\n",
            "Requirement already satisfied: MarkupSafe>=2.0 in /usr/local/lib/python3.11/dist-packages (from jinja2->torch>=1.8.0->ultralytics) (3.0.2)\n",
            "Downloading ultralytics-8.3.168-py3-none-any.whl (1.0 MB)\n",
            "\u001b[2K   \u001b[90m━━━━━━━━━━━━━━━━━━━━━━━━━━━━━━━━━━━━━━━━\u001b[0m \u001b[32m1.0/1.0 MB\u001b[0m \u001b[31m18.4 MB/s\u001b[0m eta \u001b[36m0:00:00\u001b[0m\n",
            "\u001b[?25hDownloading opencv_python-4.12.0.88-cp37-abi3-manylinux2014_x86_64.manylinux_2_17_x86_64.whl (67.0 MB)\n",
            "\u001b[2K   \u001b[90m━━━━━━━━━━━━━━━━━━━━━━━━━━━━━━━━━━━━━━━━\u001b[0m \u001b[32m67.0/67.0 MB\u001b[0m \u001b[31m19.1 MB/s\u001b[0m eta \u001b[36m0:00:00\u001b[0m\n",
            "\u001b[?25hDownloading ultralytics_thop-2.0.14-py3-none-any.whl (26 kB)\n",
            "Downloading py_cpuinfo-9.0.0-py3-none-any.whl (22 kB)\n",
            "Installing collected packages: py-cpuinfo, opencv-python, ultralytics-thop, ultralytics\n",
            "Successfully installed opencv-python-4.12.0.88 py-cpuinfo-9.0.0 ultralytics-8.3.168 ultralytics-thop-2.0.14\n"
          ]
        },
        {
          "output_type": "display_data",
          "data": {
            "application/vnd.colab-display-data+json": {
              "pip_warning": {
                "packages": [
                  "cv2"
                ]
              },
              "id": "c3f3fe3bdee14191af888c3b10b93d76"
            }
          },
          "metadata": {}
        }
      ]
    },
    {
      "cell_type": "code",
      "source": [
        "from ultralytics import YOLO"
      ],
      "metadata": {
        "colab": {
          "base_uri": "https://localhost:8080/"
        },
        "id": "sgFOOcOuCBlu",
        "outputId": "9d07561c-68a6-4876-fd5e-968ab86c8179"
      },
      "execution_count": null,
      "outputs": [
        {
          "output_type": "stream",
          "name": "stdout",
          "text": [
            "Creating new Ultralytics Settings v0.0.6 file ✅ \n",
            "View Ultralytics Settings with 'yolo settings' or at '/root/.config/Ultralytics/settings.json'\n",
            "Update Settings with 'yolo settings key=value', i.e. 'yolo settings runs_dir=path/to/dir'. For help see https://docs.ultralytics.com/quickstart/#ultralytics-settings.\n"
          ]
        }
      ]
    },
    {
      "cell_type": "code",
      "source": [
        "# Path to your YAML config\n",
        "DATA_YAML = \"/content/drive/MyDrive/Colab Notebooks/Dataset/CAMO/data.yaml\"\n",
        "\n",
        "# Create model instance (Nano segmentation model)\n",
        "model = YOLO(\"yolov8s-seg.pt\")  # yolov8s-seg.pt for better accuracy\n",
        "\n",
        "# Start training\n",
        "model.train(\n",
        "    data=DATA_YAML,\n",
        "    epochs=50,\n",
        "    imgsz=416,\n",
        "    batch=8,\n",
        "    name=\"yolo_seg_CAMO\",\n",
        "    project=\"/content/drive/MyDrive/Colab Notebooks/Dataset/CAMO/runs\"\n",
        ")\n"
      ],
      "metadata": {
        "colab": {
          "base_uri": "https://localhost:8080/"
        },
        "collapsed": true,
        "id": "U4ydi9-wCCxb",
        "outputId": "351867a9-d294-440e-e684-fad262e44abf"
      },
      "execution_count": null,
      "outputs": [
        {
          "output_type": "stream",
          "name": "stdout",
          "text": [
            "Ultralytics 8.3.168 🚀 Python-3.11.13 torch-2.6.0+cpu CPU (Intel Xeon 2.00GHz)\n",
            "\u001b[34m\u001b[1mengine/trainer: \u001b[0magnostic_nms=False, amp=True, augment=False, auto_augment=randaugment, batch=8, bgr=0.0, box=7.5, cache=False, cfg=None, classes=None, close_mosaic=10, cls=0.5, conf=None, copy_paste=0.0, copy_paste_mode=flip, cos_lr=False, cutmix=0.0, data=/content/drive/MyDrive/Colab Notebooks/Dataset/CAMO/data.yaml, degrees=0.0, deterministic=True, device=cpu, dfl=1.5, dnn=False, dropout=0.0, dynamic=False, embed=None, epochs=50, erasing=0.4, exist_ok=False, fliplr=0.5, flipud=0.0, format=torchscript, fraction=1.0, freeze=None, half=False, hsv_h=0.015, hsv_s=0.7, hsv_v=0.4, imgsz=640, int8=False, iou=0.7, keras=False, kobj=1.0, line_width=None, lr0=0.01, lrf=0.01, mask_ratio=4, max_det=300, mixup=0.0, mode=train, model=yolov8s-seg.pt, momentum=0.937, mosaic=1.0, multi_scale=False, name=yolo_seg_CAMO7, nbs=64, nms=False, opset=None, optimize=False, optimizer=auto, overlap_mask=True, patience=100, perspective=0.0, plots=True, pose=12.0, pretrained=True, profile=False, project=/content/drive/MyDrive/Colab Notebooks/Dataset/CAMO/runs, rect=False, resume=False, retina_masks=False, save=True, save_conf=False, save_crop=False, save_dir=/content/drive/MyDrive/Colab Notebooks/Dataset/CAMO/runs/yolo_seg_CAMO7, save_frames=False, save_json=False, save_period=-1, save_txt=False, scale=0.5, seed=0, shear=0.0, show=False, show_boxes=True, show_conf=True, show_labels=True, simplify=True, single_cls=False, source=None, split=val, stream_buffer=False, task=segment, time=None, tracker=botsort.yaml, translate=0.1, val=True, verbose=True, vid_stride=1, visualize=False, warmup_bias_lr=0.1, warmup_epochs=3.0, warmup_momentum=0.8, weight_decay=0.0005, workers=8, workspace=None\n",
            "Downloading https://ultralytics.com/assets/Arial.ttf to '/root/.config/Ultralytics/Arial.ttf'...\n"
          ]
        },
        {
          "output_type": "stream",
          "name": "stderr",
          "text": [
            "100%|██████████| 755k/755k [00:00<00:00, 14.7MB/s]"
          ]
        },
        {
          "output_type": "stream",
          "name": "stdout",
          "text": [
            "Overriding model.yaml nc=80 with nc=1\n",
            "\n",
            "                   from  n    params  module                                       arguments                     \n",
            "  0                  -1  1       928  ultralytics.nn.modules.conv.Conv             [3, 32, 3, 2]                 \n",
            "  1                  -1  1     18560  ultralytics.nn.modules.conv.Conv             [32, 64, 3, 2]                \n",
            "  2                  -1  1     29056  ultralytics.nn.modules.block.C2f             [64, 64, 1, True]             \n",
            "  3                  -1  1     73984  ultralytics.nn.modules.conv.Conv             [64, 128, 3, 2]               \n",
            "  4                  -1  2    197632  ultralytics.nn.modules.block.C2f             [128, 128, 2, True]           \n",
            "  5                  -1  1    295424  ultralytics.nn.modules.conv.Conv             [128, 256, 3, 2]              \n",
            "  6                  -1  2    788480  ultralytics.nn.modules.block.C2f             [256, 256, 2, True]           \n",
            "  7                  -1  1   1180672  ultralytics.nn.modules.conv.Conv             [256, 512, 3, 2]              \n",
            "  8                  -1  1   1838080  ultralytics.nn.modules.block.C2f             [512, 512, 1, True]           \n",
            "  9                  -1  1    656896  ultralytics.nn.modules.block.SPPF            [512, 512, 5]                 \n",
            " 10                  -1  1         0  torch.nn.modules.upsampling.Upsample         [None, 2, 'nearest']          \n",
            " 11             [-1, 6]  1         0  ultralytics.nn.modules.conv.Concat           [1]                           \n",
            " 12                  -1  1    591360  ultralytics.nn.modules.block.C2f             [768, 256, 1]                 \n",
            " 13                  -1  1         0  torch.nn.modules.upsampling.Upsample         [None, 2, 'nearest']          \n",
            " 14             [-1, 4]  1         0  ultralytics.nn.modules.conv.Concat           [1]                           \n",
            " 15                  -1  1    148224  ultralytics.nn.modules.block.C2f             [384, 128, 1]                 \n",
            " 16                  -1  1    147712  ultralytics.nn.modules.conv.Conv             [128, 128, 3, 2]              \n",
            " 17            [-1, 12]  1         0  ultralytics.nn.modules.conv.Concat           [1]                           \n",
            " 18                  -1  1    493056  ultralytics.nn.modules.block.C2f             [384, 256, 1]                 \n",
            " 19                  -1  1    590336  ultralytics.nn.modules.conv.Conv             [256, 256, 3, 2]              \n",
            " 20             [-1, 9]  1         0  ultralytics.nn.modules.conv.Concat           [1]                           \n",
            " 21                  -1  1   1969152  ultralytics.nn.modules.block.C2f             [768, 512, 1]                 \n",
            " 22        [15, 18, 21]  1   2770931  ultralytics.nn.modules.head.Segment          [1, 32, 128, [128, 256, 512]] \n"
          ]
        },
        {
          "output_type": "stream",
          "name": "stderr",
          "text": [
            "\n"
          ]
        },
        {
          "output_type": "stream",
          "name": "stdout",
          "text": [
            "YOLOv8s-seg summary: 151 layers, 11,790,483 parameters, 11,790,467 gradients, 42.7 GFLOPs\n",
            "\n",
            "Transferred 411/417 items from pretrained weights\n",
            "Freezing layer 'model.22.dfl.conv.weight'\n",
            "\u001b[34m\u001b[1mtrain: \u001b[0mFast image access ✅ (ping: 0.4±0.2 ms, read: 24.1±26.9 MB/s, size: 59.2 KB)\n"
          ]
        },
        {
          "output_type": "stream",
          "name": "stderr",
          "text": [
            "\u001b[34m\u001b[1mtrain: \u001b[0mScanning /content/drive/MyDrive/Colab Notebooks/Dataset/CAMO/labels/train.cache... 1000 images, 0 backgrounds, 0 corrupt: 100%|██████████| 1000/1000 [00:00<?, ?it/s]\n"
          ]
        },
        {
          "output_type": "stream",
          "name": "stdout",
          "text": [
            "\u001b[34m\u001b[1mval: \u001b[0mFast image access ✅ (ping: 0.8±0.7 ms, read: 56.4±78.3 MB/s, size: 118.8 KB)\n"
          ]
        },
        {
          "output_type": "stream",
          "name": "stderr",
          "text": [
            "\u001b[34m\u001b[1mval: \u001b[0mScanning /content/drive/MyDrive/Colab Notebooks/Dataset/CAMO/labels/test.cache... 250 images, 0 backgrounds, 0 corrupt: 100%|██████████| 250/250 [00:00<?, ?it/s]\n"
          ]
        },
        {
          "output_type": "stream",
          "name": "stdout",
          "text": [
            "Plotting labels to /content/drive/MyDrive/Colab Notebooks/Dataset/CAMO/runs/yolo_seg_CAMO7/labels.jpg... \n",
            "\u001b[34m\u001b[1moptimizer:\u001b[0m 'optimizer=auto' found, ignoring 'lr0=0.01' and 'momentum=0.937' and determining best 'optimizer', 'lr0' and 'momentum' automatically... \n",
            "\u001b[34m\u001b[1moptimizer:\u001b[0m AdamW(lr=0.002, momentum=0.9) with parameter groups 66 weight(decay=0.0), 77 weight(decay=0.0005), 76 bias(decay=0.0)\n",
            "Image sizes 640 train, 640 val\n",
            "Using 0 dataloader workers\n",
            "Logging results to \u001b[1m/content/drive/MyDrive/Colab Notebooks/Dataset/CAMO/runs/yolo_seg_CAMO7\u001b[0m\n",
            "Starting training for 50 epochs...\n",
            "\n",
            "      Epoch    GPU_mem   box_loss   seg_loss   cls_loss   dfl_loss  Instances       Size\n"
          ]
        },
        {
          "output_type": "stream",
          "name": "stderr",
          "text": [
            "       1/50         0G       1.48      3.218      2.304      1.695         25        640: 100%|██████████| 125/125 [05:35<00:00,  2.68s/it]\n",
            "                 Class     Images  Instances      Box(P          R      mAP50  mAP50-95)     Mask(P          R      mAP50  mAP50-95): 100%|██████████| 16/16 [00:30<00:00,  1.90s/it]"
          ]
        },
        {
          "output_type": "stream",
          "name": "stdout",
          "text": [
            "                   all        250        276        0.1      0.262     0.0512     0.0115      0.059      0.112     0.0185    0.00335\n"
          ]
        },
        {
          "output_type": "stream",
          "name": "stderr",
          "text": [
            "\n"
          ]
        },
        {
          "output_type": "stream",
          "name": "stdout",
          "text": [
            "\n",
            "      Epoch    GPU_mem   box_loss   seg_loss   cls_loss   dfl_loss  Instances       Size\n"
          ]
        },
        {
          "output_type": "stream",
          "name": "stderr",
          "text": [
            "       2/50         0G        1.9      3.868      2.267      2.005         18        640: 100%|██████████| 125/125 [05:15<00:00,  2.53s/it]\n",
            "                 Class     Images  Instances      Box(P          R      mAP50  mAP50-95)     Mask(P          R      mAP50  mAP50-95): 100%|██████████| 16/16 [00:26<00:00,  1.67s/it]"
          ]
        },
        {
          "output_type": "stream",
          "name": "stdout",
          "text": [
            "                   all        250        276      0.146      0.293      0.104     0.0278     0.0875      0.163      0.028    0.00572\n"
          ]
        },
        {
          "output_type": "stream",
          "name": "stderr",
          "text": [
            "\n"
          ]
        },
        {
          "output_type": "stream",
          "name": "stdout",
          "text": [
            "\n",
            "      Epoch    GPU_mem   box_loss   seg_loss   cls_loss   dfl_loss  Instances       Size\n"
          ]
        },
        {
          "output_type": "stream",
          "name": "stderr",
          "text": [
            "       3/50         0G      2.027       4.02       2.36       2.12         24        640: 100%|██████████| 125/125 [06:08<00:00,  2.95s/it]\n",
            "                 Class     Images  Instances      Box(P          R      mAP50  mAP50-95)     Mask(P          R      mAP50  mAP50-95): 100%|██████████| 16/16 [00:27<00:00,  1.73s/it]"
          ]
        },
        {
          "output_type": "stream",
          "name": "stdout",
          "text": [
            "                   all        250        276      0.195      0.326      0.151     0.0455      0.168     0.0833     0.0408     0.0104\n"
          ]
        },
        {
          "output_type": "stream",
          "name": "stderr",
          "text": [
            "\n"
          ]
        },
        {
          "output_type": "stream",
          "name": "stdout",
          "text": [
            "\n",
            "      Epoch    GPU_mem   box_loss   seg_loss   cls_loss   dfl_loss  Instances       Size\n"
          ]
        },
        {
          "output_type": "stream",
          "name": "stderr",
          "text": [
            "       4/50         0G       2.01      4.081      2.392       2.11         29        640: 100%|██████████| 125/125 [06:09<00:00,  2.96s/it]\n",
            "                 Class     Images  Instances      Box(P          R      mAP50  mAP50-95)     Mask(P          R      mAP50  mAP50-95): 100%|██████████| 16/16 [00:28<00:00,  1.77s/it]"
          ]
        },
        {
          "output_type": "stream",
          "name": "stdout",
          "text": [
            "                   all        250        276     0.0791      0.138      0.056     0.0154     0.0685     0.0978     0.0256    0.00585\n"
          ]
        },
        {
          "output_type": "stream",
          "name": "stderr",
          "text": [
            "\n"
          ]
        },
        {
          "output_type": "stream",
          "name": "stdout",
          "text": [
            "\n",
            "      Epoch    GPU_mem   box_loss   seg_loss   cls_loss   dfl_loss  Instances       Size\n"
          ]
        },
        {
          "output_type": "stream",
          "name": "stderr",
          "text": [
            "       5/50         0G      1.937      3.952      2.286      2.045         22        640: 100%|██████████| 125/125 [05:43<00:00,  2.75s/it]\n",
            "                 Class     Images  Instances      Box(P          R      mAP50  mAP50-95)     Mask(P          R      mAP50  mAP50-95): 100%|██████████| 16/16 [00:29<00:00,  1.83s/it]"
          ]
        },
        {
          "output_type": "stream",
          "name": "stdout",
          "text": [
            "                   all        250        276      0.163      0.351      0.108     0.0334       0.12      0.192     0.0429    0.00835\n"
          ]
        },
        {
          "output_type": "stream",
          "name": "stderr",
          "text": [
            "\n"
          ]
        },
        {
          "output_type": "stream",
          "name": "stdout",
          "text": [
            "\n",
            "      Epoch    GPU_mem   box_loss   seg_loss   cls_loss   dfl_loss  Instances       Size\n"
          ]
        },
        {
          "output_type": "stream",
          "name": "stderr",
          "text": [
            "       6/50         0G      1.871       3.84      2.219       2.02         20        640: 100%|██████████| 125/125 [06:05<00:00,  2.92s/it]\n",
            "                 Class     Images  Instances      Box(P          R      mAP50  mAP50-95)     Mask(P          R      mAP50  mAP50-95): 100%|██████████| 16/16 [00:31<00:00,  2.00s/it]"
          ]
        },
        {
          "output_type": "stream",
          "name": "stdout",
          "text": [
            "                   all        250        276      0.201      0.348      0.163     0.0501      0.159      0.225     0.0816     0.0239\n"
          ]
        },
        {
          "output_type": "stream",
          "name": "stderr",
          "text": [
            "\n"
          ]
        },
        {
          "output_type": "stream",
          "name": "stdout",
          "text": [
            "\n",
            "      Epoch    GPU_mem   box_loss   seg_loss   cls_loss   dfl_loss  Instances       Size\n"
          ]
        },
        {
          "output_type": "stream",
          "name": "stderr",
          "text": [
            "       7/50         0G      1.824      3.762      2.159      1.967         21        640: 100%|██████████| 125/125 [06:09<00:00,  2.95s/it]\n",
            "                 Class     Images  Instances      Box(P          R      mAP50  mAP50-95)     Mask(P          R      mAP50  mAP50-95): 100%|██████████| 16/16 [00:31<00:00,  1.97s/it]"
          ]
        },
        {
          "output_type": "stream",
          "name": "stdout",
          "text": [
            "                   all        250        276      0.269      0.286      0.218     0.0792      0.232      0.214      0.142       0.04\n"
          ]
        },
        {
          "output_type": "stream",
          "name": "stderr",
          "text": [
            "\n"
          ]
        },
        {
          "output_type": "stream",
          "name": "stdout",
          "text": [
            "\n",
            "      Epoch    GPU_mem   box_loss   seg_loss   cls_loss   dfl_loss  Instances       Size\n"
          ]
        },
        {
          "output_type": "stream",
          "name": "stderr",
          "text": [
            "       8/50         0G      1.788       3.69      2.127      1.937         25        640: 100%|██████████| 125/125 [06:11<00:00,  2.98s/it]\n",
            "                 Class     Images  Instances      Box(P          R      mAP50  mAP50-95)     Mask(P          R      mAP50  mAP50-95): 100%|██████████| 16/16 [00:31<00:00,  1.95s/it]"
          ]
        },
        {
          "output_type": "stream",
          "name": "stdout",
          "text": [
            "                   all        250        276      0.239      0.286      0.174      0.062      0.214      0.174     0.0876     0.0247\n"
          ]
        },
        {
          "output_type": "stream",
          "name": "stderr",
          "text": [
            "\n"
          ]
        },
        {
          "output_type": "stream",
          "name": "stdout",
          "text": [
            "\n",
            "      Epoch    GPU_mem   box_loss   seg_loss   cls_loss   dfl_loss  Instances       Size\n"
          ]
        },
        {
          "output_type": "stream",
          "name": "stderr",
          "text": [
            "       9/50         0G      1.743      3.588      2.065       1.88         24        640: 100%|██████████| 125/125 [06:14<00:00,  3.00s/it]\n",
            "                 Class     Images  Instances      Box(P          R      mAP50  mAP50-95)     Mask(P          R      mAP50  mAP50-95): 100%|██████████| 16/16 [00:31<00:00,  1.97s/it]"
          ]
        },
        {
          "output_type": "stream",
          "name": "stdout",
          "text": [
            "                   all        250        276      0.348      0.344      0.295      0.103      0.303      0.254      0.186     0.0591\n"
          ]
        },
        {
          "output_type": "stream",
          "name": "stderr",
          "text": [
            "\n"
          ]
        },
        {
          "output_type": "stream",
          "name": "stdout",
          "text": [
            "\n",
            "      Epoch    GPU_mem   box_loss   seg_loss   cls_loss   dfl_loss  Instances       Size\n"
          ]
        },
        {
          "output_type": "stream",
          "name": "stderr",
          "text": [
            "      10/50         0G      1.725      3.523      2.035      1.889         24        640: 100%|██████████| 125/125 [06:21<00:00,  3.05s/it]\n",
            "                 Class     Images  Instances      Box(P          R      mAP50  mAP50-95)     Mask(P          R      mAP50  mAP50-95): 100%|██████████| 16/16 [00:32<00:00,  2.00s/it]"
          ]
        },
        {
          "output_type": "stream",
          "name": "stdout",
          "text": [
            "                   all        250        276      0.355      0.359      0.291      0.113      0.269      0.232      0.161     0.0583\n"
          ]
        },
        {
          "output_type": "stream",
          "name": "stderr",
          "text": [
            "\n"
          ]
        },
        {
          "output_type": "stream",
          "name": "stdout",
          "text": [
            "\n",
            "      Epoch    GPU_mem   box_loss   seg_loss   cls_loss   dfl_loss  Instances       Size\n"
          ]
        },
        {
          "output_type": "stream",
          "name": "stderr",
          "text": [
            "      11/50         0G      1.669      3.653      2.033      1.853         18        640: 100%|██████████| 125/125 [06:22<00:00,  3.06s/it]\n",
            "                 Class     Images  Instances      Box(P          R      mAP50  mAP50-95)     Mask(P          R      mAP50  mAP50-95): 100%|██████████| 16/16 [00:31<00:00,  1.94s/it]"
          ]
        },
        {
          "output_type": "stream",
          "name": "stdout",
          "text": [
            "                   all        250        276      0.374       0.38      0.336      0.134      0.433      0.257      0.239     0.0837\n"
          ]
        },
        {
          "output_type": "stream",
          "name": "stderr",
          "text": [
            "\n"
          ]
        },
        {
          "output_type": "stream",
          "name": "stdout",
          "text": [
            "\n",
            "      Epoch    GPU_mem   box_loss   seg_loss   cls_loss   dfl_loss  Instances       Size\n"
          ]
        },
        {
          "output_type": "stream",
          "name": "stderr",
          "text": [
            "      12/50         0G      1.619      3.435      1.937      1.811         26        640: 100%|██████████| 125/125 [06:17<00:00,  3.02s/it]\n",
            "                 Class     Images  Instances      Box(P          R      mAP50  mAP50-95)     Mask(P          R      mAP50  mAP50-95): 100%|██████████| 16/16 [00:30<00:00,  1.89s/it]"
          ]
        },
        {
          "output_type": "stream",
          "name": "stdout",
          "text": [
            "                   all        250        276      0.387       0.37      0.304      0.127      0.375      0.246      0.175     0.0677\n"
          ]
        },
        {
          "output_type": "stream",
          "name": "stderr",
          "text": [
            "\n"
          ]
        },
        {
          "output_type": "stream",
          "name": "stdout",
          "text": [
            "\n",
            "      Epoch    GPU_mem   box_loss   seg_loss   cls_loss   dfl_loss  Instances       Size\n"
          ]
        },
        {
          "output_type": "stream",
          "name": "stderr",
          "text": [
            "      13/50         0G      1.636      3.341      1.944      1.797         26        640: 100%|██████████| 125/125 [06:11<00:00,  2.97s/it]\n",
            "                 Class     Images  Instances      Box(P          R      mAP50  mAP50-95)     Mask(P          R      mAP50  mAP50-95): 100%|██████████| 16/16 [00:31<00:00,  1.96s/it]"
          ]
        },
        {
          "output_type": "stream",
          "name": "stdout",
          "text": [
            "                   all        250        276       0.45      0.399       0.38      0.168      0.424       0.29      0.268      0.107\n"
          ]
        },
        {
          "output_type": "stream",
          "name": "stderr",
          "text": [
            "\n"
          ]
        },
        {
          "output_type": "stream",
          "name": "stdout",
          "text": [
            "\n",
            "      Epoch    GPU_mem   box_loss   seg_loss   cls_loss   dfl_loss  Instances       Size\n"
          ]
        },
        {
          "output_type": "stream",
          "name": "stderr",
          "text": [
            "      14/50         0G      1.568      3.289      1.884      1.774         21        640: 100%|██████████| 125/125 [06:22<00:00,  3.06s/it]\n",
            "                 Class     Images  Instances      Box(P          R      mAP50  mAP50-95)     Mask(P          R      mAP50  mAP50-95): 100%|██████████| 16/16 [00:30<00:00,  1.92s/it]"
          ]
        },
        {
          "output_type": "stream",
          "name": "stdout",
          "text": [
            "                   all        250        276      0.352      0.351      0.326      0.156      0.433      0.272      0.229     0.0909\n"
          ]
        },
        {
          "output_type": "stream",
          "name": "stderr",
          "text": [
            "\n"
          ]
        },
        {
          "output_type": "stream",
          "name": "stdout",
          "text": [
            "\n",
            "      Epoch    GPU_mem   box_loss   seg_loss   cls_loss   dfl_loss  Instances       Size\n"
          ]
        },
        {
          "output_type": "stream",
          "name": "stderr",
          "text": [
            "      15/50         0G      1.582      3.195      1.837      1.774         23        640: 100%|██████████| 125/125 [06:21<00:00,  3.05s/it]\n",
            "                 Class     Images  Instances      Box(P          R      mAP50  mAP50-95)     Mask(P          R      mAP50  mAP50-95): 100%|██████████| 16/16 [00:30<00:00,  1.93s/it]"
          ]
        },
        {
          "output_type": "stream",
          "name": "stdout",
          "text": [
            "                   all        250        276       0.45      0.446      0.396      0.165      0.512      0.254      0.238     0.0949\n"
          ]
        },
        {
          "output_type": "stream",
          "name": "stderr",
          "text": [
            "\n"
          ]
        },
        {
          "output_type": "stream",
          "name": "stdout",
          "text": [
            "\n",
            "      Epoch    GPU_mem   box_loss   seg_loss   cls_loss   dfl_loss  Instances       Size\n"
          ]
        },
        {
          "output_type": "stream",
          "name": "stderr",
          "text": [
            "      16/50         0G      1.512      3.119      1.757       1.72         20        640: 100%|██████████| 125/125 [06:22<00:00,  3.06s/it]\n",
            "                 Class     Images  Instances      Box(P          R      mAP50  mAP50-95)     Mask(P          R      mAP50  mAP50-95): 100%|██████████| 16/16 [00:30<00:00,  1.92s/it]"
          ]
        },
        {
          "output_type": "stream",
          "name": "stdout",
          "text": [
            "                   all        250        276      0.375       0.42       0.36      0.142      0.361      0.246      0.216     0.0772\n"
          ]
        },
        {
          "output_type": "stream",
          "name": "stderr",
          "text": [
            "\n"
          ]
        },
        {
          "output_type": "stream",
          "name": "stdout",
          "text": [
            "\n",
            "      Epoch    GPU_mem   box_loss   seg_loss   cls_loss   dfl_loss  Instances       Size\n"
          ]
        },
        {
          "output_type": "stream",
          "name": "stderr",
          "text": [
            "      17/50         0G      1.525      3.108      1.804      1.725         23        640: 100%|██████████| 125/125 [06:23<00:00,  3.07s/it]\n",
            "                 Class     Images  Instances      Box(P          R      mAP50  mAP50-95)     Mask(P          R      mAP50  mAP50-95): 100%|██████████| 16/16 [00:31<00:00,  1.98s/it]"
          ]
        },
        {
          "output_type": "stream",
          "name": "stdout",
          "text": [
            "                   all        250        276      0.502      0.413      0.429      0.183      0.497      0.355      0.336      0.133\n"
          ]
        },
        {
          "output_type": "stream",
          "name": "stderr",
          "text": [
            "\n"
          ]
        },
        {
          "output_type": "stream",
          "name": "stdout",
          "text": [
            "\n",
            "      Epoch    GPU_mem   box_loss   seg_loss   cls_loss   dfl_loss  Instances       Size\n"
          ]
        },
        {
          "output_type": "stream",
          "name": "stderr",
          "text": [
            "      18/50         0G      1.475      2.993      1.763      1.703         23        640: 100%|██████████| 125/125 [06:20<00:00,  3.04s/it]\n",
            "                 Class     Images  Instances      Box(P          R      mAP50  mAP50-95)     Mask(P          R      mAP50  mAP50-95): 100%|██████████| 16/16 [00:30<00:00,  1.92s/it]"
          ]
        },
        {
          "output_type": "stream",
          "name": "stdout",
          "text": [
            "                   all        250        276      0.474      0.413      0.392      0.186      0.441      0.301      0.268      0.115\n"
          ]
        },
        {
          "output_type": "stream",
          "name": "stderr",
          "text": [
            "\n"
          ]
        },
        {
          "output_type": "stream",
          "name": "stdout",
          "text": [
            "\n",
            "      Epoch    GPU_mem   box_loss   seg_loss   cls_loss   dfl_loss  Instances       Size\n"
          ]
        },
        {
          "output_type": "stream",
          "name": "stderr",
          "text": [
            "      19/50         0G      1.456      2.934      1.717      1.672         16        640: 100%|██████████| 125/125 [06:25<00:00,  3.09s/it]\n",
            "                 Class     Images  Instances      Box(P          R      mAP50  mAP50-95)     Mask(P          R      mAP50  mAP50-95): 100%|██████████| 16/16 [00:30<00:00,  1.91s/it]"
          ]
        },
        {
          "output_type": "stream",
          "name": "stdout",
          "text": [
            "                   all        250        276      0.436      0.409      0.413      0.192      0.434      0.331      0.308      0.133\n"
          ]
        },
        {
          "output_type": "stream",
          "name": "stderr",
          "text": [
            "\n"
          ]
        },
        {
          "output_type": "stream",
          "name": "stdout",
          "text": [
            "\n",
            "      Epoch    GPU_mem   box_loss   seg_loss   cls_loss   dfl_loss  Instances       Size\n"
          ]
        },
        {
          "output_type": "stream",
          "name": "stderr",
          "text": [
            "      20/50         0G      1.402       2.87      1.588      1.636         25        640: 100%|██████████| 125/125 [06:33<00:00,  3.15s/it]\n",
            "                 Class     Images  Instances      Box(P          R      mAP50  mAP50-95)     Mask(P          R      mAP50  mAP50-95): 100%|██████████| 16/16 [00:30<00:00,  1.94s/it]"
          ]
        },
        {
          "output_type": "stream",
          "name": "stdout",
          "text": [
            "                   all        250        276      0.621      0.406      0.475      0.225      0.582      0.373      0.376      0.171\n"
          ]
        },
        {
          "output_type": "stream",
          "name": "stderr",
          "text": [
            "\n"
          ]
        },
        {
          "output_type": "stream",
          "name": "stdout",
          "text": [
            "\n",
            "      Epoch    GPU_mem   box_loss   seg_loss   cls_loss   dfl_loss  Instances       Size\n"
          ]
        },
        {
          "output_type": "stream",
          "name": "stderr",
          "text": [
            "      21/50         0G      1.448      2.944      1.669      1.666         21        640: 100%|██████████| 125/125 [06:26<00:00,  3.09s/it]\n",
            "                 Class     Images  Instances      Box(P          R      mAP50  mAP50-95)     Mask(P          R      mAP50  mAP50-95): 100%|██████████| 16/16 [00:30<00:00,  1.90s/it]"
          ]
        },
        {
          "output_type": "stream",
          "name": "stdout",
          "text": [
            "                   all        250        276      0.573      0.452      0.488      0.228      0.519      0.366      0.366       0.16\n"
          ]
        },
        {
          "output_type": "stream",
          "name": "stderr",
          "text": [
            "\n"
          ]
        },
        {
          "output_type": "stream",
          "name": "stdout",
          "text": [
            "\n",
            "      Epoch    GPU_mem   box_loss   seg_loss   cls_loss   dfl_loss  Instances       Size\n"
          ]
        },
        {
          "output_type": "stream",
          "name": "stderr",
          "text": [
            "      22/50         0G      1.412      2.835      1.611      1.638         27        640: 100%|██████████| 125/125 [06:33<00:00,  3.15s/it]\n",
            "                 Class     Images  Instances      Box(P          R      mAP50  mAP50-95)     Mask(P          R      mAP50  mAP50-95): 100%|██████████| 16/16 [00:30<00:00,  1.94s/it]"
          ]
        },
        {
          "output_type": "stream",
          "name": "stdout",
          "text": [
            "                   all        250        276      0.482      0.446       0.44      0.209      0.512      0.337      0.348      0.153\n"
          ]
        },
        {
          "output_type": "stream",
          "name": "stderr",
          "text": [
            "\n"
          ]
        },
        {
          "output_type": "stream",
          "name": "stdout",
          "text": [
            "\n",
            "      Epoch    GPU_mem   box_loss   seg_loss   cls_loss   dfl_loss  Instances       Size\n"
          ]
        },
        {
          "output_type": "stream",
          "name": "stderr",
          "text": [
            "      23/50         0G      1.354      2.758      1.568       1.61         22        640: 100%|██████████| 125/125 [06:21<00:00,  3.05s/it]\n",
            "                 Class     Images  Instances      Box(P          R      mAP50  mAP50-95)     Mask(P          R      mAP50  mAP50-95): 100%|██████████| 16/16 [00:30<00:00,  1.92s/it]"
          ]
        },
        {
          "output_type": "stream",
          "name": "stdout",
          "text": [
            "                   all        250        276      0.547      0.547      0.526      0.243      0.532      0.399       0.38       0.17\n"
          ]
        },
        {
          "output_type": "stream",
          "name": "stderr",
          "text": [
            "\n"
          ]
        },
        {
          "output_type": "stream",
          "name": "stdout",
          "text": [
            "\n",
            "      Epoch    GPU_mem   box_loss   seg_loss   cls_loss   dfl_loss  Instances       Size\n"
          ]
        },
        {
          "output_type": "stream",
          "name": "stderr",
          "text": [
            "      24/50         0G      1.354      2.776      1.511      1.603         24        640: 100%|██████████| 125/125 [06:19<00:00,  3.04s/it]\n",
            "                 Class     Images  Instances      Box(P          R      mAP50  mAP50-95)     Mask(P          R      mAP50  mAP50-95): 100%|██████████| 16/16 [00:29<00:00,  1.87s/it]"
          ]
        },
        {
          "output_type": "stream",
          "name": "stdout",
          "text": [
            "                   all        250        276      0.577      0.449      0.481      0.214      0.486      0.377       0.34      0.146\n"
          ]
        },
        {
          "output_type": "stream",
          "name": "stderr",
          "text": [
            "\n"
          ]
        },
        {
          "output_type": "stream",
          "name": "stdout",
          "text": [
            "\n",
            "      Epoch    GPU_mem   box_loss   seg_loss   cls_loss   dfl_loss  Instances       Size\n"
          ]
        },
        {
          "output_type": "stream",
          "name": "stderr",
          "text": [
            "      25/50         0G      1.348      2.723      1.529      1.596         26        640: 100%|██████████| 125/125 [06:18<00:00,  3.03s/it]\n",
            "                 Class     Images  Instances      Box(P          R      mAP50  mAP50-95)     Mask(P          R      mAP50  mAP50-95): 100%|██████████| 16/16 [00:29<00:00,  1.86s/it]"
          ]
        },
        {
          "output_type": "stream",
          "name": "stdout",
          "text": [
            "                   all        250        276      0.535      0.435      0.445      0.203      0.443       0.38      0.333      0.138\n"
          ]
        },
        {
          "output_type": "stream",
          "name": "stderr",
          "text": [
            "\n"
          ]
        },
        {
          "output_type": "stream",
          "name": "stdout",
          "text": [
            "\n",
            "      Epoch    GPU_mem   box_loss   seg_loss   cls_loss   dfl_loss  Instances       Size\n"
          ]
        },
        {
          "output_type": "stream",
          "name": "stderr",
          "text": [
            "      26/50         0G      1.351      2.696      1.499      1.572         26        640: 100%|██████████| 125/125 [06:23<00:00,  3.07s/it]\n",
            "                 Class     Images  Instances      Box(P          R      mAP50  mAP50-95)     Mask(P          R      mAP50  mAP50-95): 100%|██████████| 16/16 [00:29<00:00,  1.86s/it]"
          ]
        },
        {
          "output_type": "stream",
          "name": "stdout",
          "text": [
            "                   all        250        276      0.537        0.5      0.512      0.237      0.572      0.395      0.412      0.183\n"
          ]
        },
        {
          "output_type": "stream",
          "name": "stderr",
          "text": [
            "\n"
          ]
        },
        {
          "output_type": "stream",
          "name": "stdout",
          "text": [
            "\n",
            "      Epoch    GPU_mem   box_loss   seg_loss   cls_loss   dfl_loss  Instances       Size\n"
          ]
        },
        {
          "output_type": "stream",
          "name": "stderr",
          "text": [
            "      27/50         0G      1.349      2.677      1.529      1.587         23        640: 100%|██████████| 125/125 [06:26<00:00,  3.09s/it]\n",
            "                 Class     Images  Instances      Box(P          R      mAP50  mAP50-95)     Mask(P          R      mAP50  mAP50-95): 100%|██████████| 16/16 [00:30<00:00,  1.91s/it]"
          ]
        },
        {
          "output_type": "stream",
          "name": "stdout",
          "text": [
            "                   all        250        276      0.498      0.514      0.492      0.232      0.557       0.38      0.383      0.175\n"
          ]
        },
        {
          "output_type": "stream",
          "name": "stderr",
          "text": [
            "\n"
          ]
        },
        {
          "output_type": "stream",
          "name": "stdout",
          "text": [
            "\n",
            "      Epoch    GPU_mem   box_loss   seg_loss   cls_loss   dfl_loss  Instances       Size\n"
          ]
        },
        {
          "output_type": "stream",
          "name": "stderr",
          "text": [
            "      28/50         0G      1.271      2.571      1.445      1.532         18        640: 100%|██████████| 125/125 [06:20<00:00,  3.05s/it]\n",
            "                 Class     Images  Instances      Box(P          R      mAP50  mAP50-95)     Mask(P          R      mAP50  mAP50-95): 100%|██████████| 16/16 [00:30<00:00,  1.89s/it]"
          ]
        },
        {
          "output_type": "stream",
          "name": "stdout",
          "text": [
            "                   all        250        276      0.497      0.525      0.516      0.259      0.542      0.395        0.4      0.185\n"
          ]
        },
        {
          "output_type": "stream",
          "name": "stderr",
          "text": [
            "\n"
          ]
        },
        {
          "output_type": "stream",
          "name": "stdout",
          "text": [
            "\n",
            "      Epoch    GPU_mem   box_loss   seg_loss   cls_loss   dfl_loss  Instances       Size\n"
          ]
        },
        {
          "output_type": "stream",
          "name": "stderr",
          "text": [
            "      29/50         0G      1.263      2.571      1.406       1.52         23        640: 100%|██████████| 125/125 [06:13<00:00,  2.99s/it]\n",
            "                 Class     Images  Instances      Box(P          R      mAP50  mAP50-95)     Mask(P          R      mAP50  mAP50-95): 100%|██████████| 16/16 [00:29<00:00,  1.85s/it]"
          ]
        },
        {
          "output_type": "stream",
          "name": "stdout",
          "text": [
            "                   all        250        276       0.56      0.533      0.528      0.252      0.498       0.42      0.384      0.179\n"
          ]
        },
        {
          "output_type": "stream",
          "name": "stderr",
          "text": [
            "\n"
          ]
        },
        {
          "output_type": "stream",
          "name": "stdout",
          "text": [
            "\n",
            "      Epoch    GPU_mem   box_loss   seg_loss   cls_loss   dfl_loss  Instances       Size\n"
          ]
        },
        {
          "output_type": "stream",
          "name": "stderr",
          "text": [
            "      30/50         0G      1.271      2.559      1.425      1.537         22        640: 100%|██████████| 125/125 [06:24<00:00,  3.08s/it]\n",
            "                 Class     Images  Instances      Box(P          R      mAP50  mAP50-95)     Mask(P          R      mAP50  mAP50-95): 100%|██████████| 16/16 [00:30<00:00,  1.90s/it]"
          ]
        },
        {
          "output_type": "stream",
          "name": "stdout",
          "text": [
            "                   all        250        276      0.592      0.522      0.571      0.275      0.587      0.438      0.474      0.226\n"
          ]
        },
        {
          "output_type": "stream",
          "name": "stderr",
          "text": [
            "\n"
          ]
        },
        {
          "output_type": "stream",
          "name": "stdout",
          "text": [
            "\n",
            "      Epoch    GPU_mem   box_loss   seg_loss   cls_loss   dfl_loss  Instances       Size\n"
          ]
        },
        {
          "output_type": "stream",
          "name": "stderr",
          "text": [
            "      31/50         0G      1.239       2.44      1.367      1.531         19        640: 100%|██████████| 125/125 [06:25<00:00,  3.08s/it]\n",
            "                 Class     Images  Instances      Box(P          R      mAP50  mAP50-95)     Mask(P          R      mAP50  mAP50-95): 100%|██████████| 16/16 [00:30<00:00,  1.91s/it]"
          ]
        },
        {
          "output_type": "stream",
          "name": "stdout",
          "text": [
            "                   all        250        276      0.566      0.558       0.55      0.261      0.567      0.424      0.445      0.202\n"
          ]
        },
        {
          "output_type": "stream",
          "name": "stderr",
          "text": [
            "\n"
          ]
        },
        {
          "output_type": "stream",
          "name": "stdout",
          "text": [
            "\n",
            "      Epoch    GPU_mem   box_loss   seg_loss   cls_loss   dfl_loss  Instances       Size\n"
          ]
        },
        {
          "output_type": "stream",
          "name": "stderr",
          "text": [
            "      32/50         0G      1.221      2.435      1.342      1.506         20        640: 100%|██████████| 125/125 [06:25<00:00,  3.09s/it]\n",
            "                 Class     Images  Instances      Box(P          R      mAP50  mAP50-95)     Mask(P          R      mAP50  mAP50-95): 100%|██████████| 16/16 [00:30<00:00,  1.93s/it]"
          ]
        },
        {
          "output_type": "stream",
          "name": "stdout",
          "text": [
            "                   all        250        276      0.558      0.553      0.544      0.275      0.517      0.453      0.447      0.229\n"
          ]
        },
        {
          "output_type": "stream",
          "name": "stderr",
          "text": [
            "\n"
          ]
        },
        {
          "output_type": "stream",
          "name": "stdout",
          "text": [
            "\n",
            "      Epoch    GPU_mem   box_loss   seg_loss   cls_loss   dfl_loss  Instances       Size\n"
          ]
        },
        {
          "output_type": "stream",
          "name": "stderr",
          "text": [
            "      33/50         0G      1.213      2.423      1.309      1.493         24        640: 100%|██████████| 125/125 [06:28<00:00,  3.11s/it]\n",
            "                 Class     Images  Instances      Box(P          R      mAP50  mAP50-95)     Mask(P          R      mAP50  mAP50-95): 100%|██████████| 16/16 [00:31<00:00,  1.96s/it]"
          ]
        },
        {
          "output_type": "stream",
          "name": "stdout",
          "text": [
            "                   all        250        276      0.586      0.504      0.541      0.272      0.587      0.449       0.46      0.215\n"
          ]
        },
        {
          "output_type": "stream",
          "name": "stderr",
          "text": [
            "\n"
          ]
        },
        {
          "output_type": "stream",
          "name": "stdout",
          "text": [
            "\n",
            "      Epoch    GPU_mem   box_loss   seg_loss   cls_loss   dfl_loss  Instances       Size\n"
          ]
        },
        {
          "output_type": "stream",
          "name": "stderr",
          "text": [
            "      34/50         0G      1.208      2.354      1.325      1.481         25        640: 100%|██████████| 125/125 [06:23<00:00,  3.07s/it]\n",
            "                 Class     Images  Instances      Box(P          R      mAP50  mAP50-95)     Mask(P          R      mAP50  mAP50-95): 100%|██████████| 16/16 [00:30<00:00,  1.90s/it]"
          ]
        },
        {
          "output_type": "stream",
          "name": "stdout",
          "text": [
            "                   all        250        276      0.622      0.478      0.548      0.279      0.625      0.424      0.471      0.218\n"
          ]
        },
        {
          "output_type": "stream",
          "name": "stderr",
          "text": [
            "\n"
          ]
        },
        {
          "output_type": "stream",
          "name": "stdout",
          "text": [
            "\n",
            "      Epoch    GPU_mem   box_loss   seg_loss   cls_loss   dfl_loss  Instances       Size\n"
          ]
        },
        {
          "output_type": "stream",
          "name": "stderr",
          "text": [
            "      35/50         0G        1.2       2.38      1.318      1.484         21        640: 100%|██████████| 125/125 [06:29<00:00,  3.12s/it]\n",
            "                 Class     Images  Instances      Box(P          R      mAP50  mAP50-95)     Mask(P          R      mAP50  mAP50-95): 100%|██████████| 16/16 [00:30<00:00,  1.88s/it]"
          ]
        },
        {
          "output_type": "stream",
          "name": "stdout",
          "text": [
            "                   all        250        276      0.645      0.565      0.603      0.295      0.575      0.496       0.48      0.229\n"
          ]
        },
        {
          "output_type": "stream",
          "name": "stderr",
          "text": [
            "\n"
          ]
        },
        {
          "output_type": "stream",
          "name": "stdout",
          "text": [
            "\n",
            "      Epoch    GPU_mem   box_loss   seg_loss   cls_loss   dfl_loss  Instances       Size\n"
          ]
        },
        {
          "output_type": "stream",
          "name": "stderr",
          "text": [
            "      36/50         0G      1.171      2.341      1.265      1.472         21        640: 100%|██████████| 125/125 [06:22<00:00,  3.06s/it]\n",
            "                 Class     Images  Instances      Box(P          R      mAP50  mAP50-95)     Mask(P          R      mAP50  mAP50-95): 100%|██████████| 16/16 [00:29<00:00,  1.84s/it]"
          ]
        },
        {
          "output_type": "stream",
          "name": "stdout",
          "text": [
            "                   all        250        276      0.646      0.541      0.601      0.305       0.62      0.475        0.5      0.245\n"
          ]
        },
        {
          "output_type": "stream",
          "name": "stderr",
          "text": [
            "\n"
          ]
        },
        {
          "output_type": "stream",
          "name": "stdout",
          "text": [
            "\n",
            "      Epoch    GPU_mem   box_loss   seg_loss   cls_loss   dfl_loss  Instances       Size\n"
          ]
        },
        {
          "output_type": "stream",
          "name": "stderr",
          "text": [
            "      37/50         0G       1.13      2.277      1.211       1.43         22        640: 100%|██████████| 125/125 [06:14<00:00,  2.99s/it]\n",
            "                 Class     Images  Instances      Box(P          R      mAP50  mAP50-95)     Mask(P          R      mAP50  mAP50-95): 100%|██████████| 16/16 [00:29<00:00,  1.83s/it]"
          ]
        },
        {
          "output_type": "stream",
          "name": "stdout",
          "text": [
            "                   all        250        276      0.623      0.547      0.588      0.291      0.628      0.484      0.512      0.232\n"
          ]
        },
        {
          "output_type": "stream",
          "name": "stderr",
          "text": [
            "\n"
          ]
        },
        {
          "output_type": "stream",
          "name": "stdout",
          "text": [
            "\n",
            "      Epoch    GPU_mem   box_loss   seg_loss   cls_loss   dfl_loss  Instances       Size\n"
          ]
        },
        {
          "output_type": "stream",
          "name": "stderr",
          "text": [
            "      38/50         0G      1.139      2.272      1.206      1.438         18        640: 100%|██████████| 125/125 [06:14<00:00,  3.00s/it]\n",
            "                 Class     Images  Instances      Box(P          R      mAP50  mAP50-95)     Mask(P          R      mAP50  mAP50-95): 100%|██████████| 16/16 [00:29<00:00,  1.83s/it]"
          ]
        },
        {
          "output_type": "stream",
          "name": "stdout",
          "text": [
            "                   all        250        276      0.622      0.532      0.574      0.298      0.578      0.478      0.492      0.253\n"
          ]
        },
        {
          "output_type": "stream",
          "name": "stderr",
          "text": [
            "\n"
          ]
        },
        {
          "output_type": "stream",
          "name": "stdout",
          "text": [
            "\n",
            "      Epoch    GPU_mem   box_loss   seg_loss   cls_loss   dfl_loss  Instances       Size\n"
          ]
        },
        {
          "output_type": "stream",
          "name": "stderr",
          "text": [
            "      39/50         0G      1.138       2.22       1.18      1.428         24        640: 100%|██████████| 125/125 [06:16<00:00,  3.01s/it]\n",
            "                 Class     Images  Instances      Box(P          R      mAP50  mAP50-95)     Mask(P          R      mAP50  mAP50-95): 100%|██████████| 16/16 [00:29<00:00,  1.84s/it]"
          ]
        },
        {
          "output_type": "stream",
          "name": "stdout",
          "text": [
            "                   all        250        276      0.621      0.493       0.56      0.279      0.679      0.453        0.5      0.236\n"
          ]
        },
        {
          "output_type": "stream",
          "name": "stderr",
          "text": [
            "\n"
          ]
        },
        {
          "output_type": "stream",
          "name": "stdout",
          "text": [
            "\n",
            "      Epoch    GPU_mem   box_loss   seg_loss   cls_loss   dfl_loss  Instances       Size\n"
          ]
        },
        {
          "output_type": "stream",
          "name": "stderr",
          "text": [
            "      40/50         0G      1.119      2.221      1.189      1.419         24        640: 100%|██████████| 125/125 [06:23<00:00,  3.07s/it]\n",
            "                 Class     Images  Instances      Box(P          R      mAP50  mAP50-95)     Mask(P          R      mAP50  mAP50-95): 100%|██████████| 16/16 [00:29<00:00,  1.86s/it]"
          ]
        },
        {
          "output_type": "stream",
          "name": "stdout",
          "text": [
            "                   all        250        276      0.515      0.554      0.553      0.289      0.631      0.417      0.457      0.228\n"
          ]
        },
        {
          "output_type": "stream",
          "name": "stderr",
          "text": [
            "\n"
          ]
        },
        {
          "output_type": "stream",
          "name": "stdout",
          "text": [
            "Closing dataloader mosaic\n",
            "\n",
            "      Epoch    GPU_mem   box_loss   seg_loss   cls_loss   dfl_loss  Instances       Size\n"
          ]
        },
        {
          "output_type": "stream",
          "name": "stderr",
          "text": [
            "      41/50         0G      1.148      2.138      1.118      1.575          9        640: 100%|██████████| 125/125 [06:17<00:00,  3.02s/it]\n",
            "                 Class     Images  Instances      Box(P          R      mAP50  mAP50-95)     Mask(P          R      mAP50  mAP50-95): 100%|██████████| 16/16 [00:29<00:00,  1.86s/it]"
          ]
        },
        {
          "output_type": "stream",
          "name": "stdout",
          "text": [
            "                   all        250        276      0.659      0.529      0.611      0.293      0.637      0.477      0.503      0.225\n"
          ]
        },
        {
          "output_type": "stream",
          "name": "stderr",
          "text": [
            "\n"
          ]
        },
        {
          "output_type": "stream",
          "name": "stdout",
          "text": [
            "\n",
            "      Epoch    GPU_mem   box_loss   seg_loss   cls_loss   dfl_loss  Instances       Size\n"
          ]
        },
        {
          "output_type": "stream",
          "name": "stderr",
          "text": [
            "      42/50         0G      1.137      1.977      1.058      1.558          8        640: 100%|██████████| 125/125 [06:14<00:00,  3.00s/it]\n",
            "                 Class     Images  Instances      Box(P          R      mAP50  mAP50-95)     Mask(P          R      mAP50  mAP50-95): 100%|██████████| 16/16 [00:29<00:00,  1.86s/it]"
          ]
        },
        {
          "output_type": "stream",
          "name": "stdout",
          "text": [
            "                   all        250        276       0.63      0.554      0.617      0.332      0.661      0.504      0.535      0.263\n"
          ]
        },
        {
          "output_type": "stream",
          "name": "stderr",
          "text": [
            "\n"
          ]
        },
        {
          "output_type": "stream",
          "name": "stdout",
          "text": [
            "\n",
            "      Epoch    GPU_mem   box_loss   seg_loss   cls_loss   dfl_loss  Instances       Size\n"
          ]
        },
        {
          "output_type": "stream",
          "name": "stderr",
          "text": [
            "      43/50         0G      1.084      1.924     0.9787      1.512          8        640: 100%|██████████| 125/125 [06:21<00:00,  3.05s/it]\n",
            "                 Class     Images  Instances      Box(P          R      mAP50  mAP50-95)     Mask(P          R      mAP50  mAP50-95): 100%|██████████| 16/16 [00:29<00:00,  1.87s/it]"
          ]
        },
        {
          "output_type": "stream",
          "name": "stdout",
          "text": [
            "                   all        250        276      0.736      0.515      0.647       0.34      0.689      0.475      0.541      0.273\n"
          ]
        },
        {
          "output_type": "stream",
          "name": "stderr",
          "text": [
            "\n"
          ]
        },
        {
          "output_type": "stream",
          "name": "stdout",
          "text": [
            "\n",
            "      Epoch    GPU_mem   box_loss   seg_loss   cls_loss   dfl_loss  Instances       Size\n"
          ]
        },
        {
          "output_type": "stream",
          "name": "stderr",
          "text": [
            "      44/50         0G       1.04      1.874     0.9467      1.481          8        640: 100%|██████████| 125/125 [06:09<00:00,  2.95s/it]\n",
            "                 Class     Images  Instances      Box(P          R      mAP50  mAP50-95)     Mask(P          R      mAP50  mAP50-95): 100%|██████████| 16/16 [00:30<00:00,  1.88s/it]"
          ]
        },
        {
          "output_type": "stream",
          "name": "stdout",
          "text": [
            "                   all        250        276      0.628      0.511      0.588      0.312      0.606      0.493      0.503      0.262\n"
          ]
        },
        {
          "output_type": "stream",
          "name": "stderr",
          "text": [
            "\n"
          ]
        },
        {
          "output_type": "stream",
          "name": "stdout",
          "text": [
            "\n",
            "      Epoch    GPU_mem   box_loss   seg_loss   cls_loss   dfl_loss  Instances       Size\n"
          ]
        },
        {
          "output_type": "stream",
          "name": "stderr",
          "text": [
            "      45/50         0G       1.05       1.88     0.9372      1.482          9        640: 100%|██████████| 125/125 [06:13<00:00,  2.99s/it]\n",
            "                 Class     Images  Instances      Box(P          R      mAP50  mAP50-95)     Mask(P          R      mAP50  mAP50-95): 100%|██████████| 16/16 [00:30<00:00,  1.90s/it]"
          ]
        },
        {
          "output_type": "stream",
          "name": "stdout",
          "text": [
            "                   all        250        276      0.635      0.616      0.636      0.339       0.64      0.522      0.542      0.275\n"
          ]
        },
        {
          "output_type": "stream",
          "name": "stderr",
          "text": [
            "\n"
          ]
        },
        {
          "output_type": "stream",
          "name": "stdout",
          "text": [
            "\n",
            "      Epoch    GPU_mem   box_loss   seg_loss   cls_loss   dfl_loss  Instances       Size\n"
          ]
        },
        {
          "output_type": "stream",
          "name": "stderr",
          "text": [
            "      46/50         0G     0.9991      1.819     0.9055      1.432          8        640: 100%|██████████| 125/125 [06:17<00:00,  3.02s/it]\n",
            "                 Class     Images  Instances      Box(P          R      mAP50  mAP50-95)     Mask(P          R      mAP50  mAP50-95): 100%|██████████| 16/16 [00:29<00:00,  1.83s/it]"
          ]
        },
        {
          "output_type": "stream",
          "name": "stdout",
          "text": [
            "                   all        250        276      0.708      0.543      0.601      0.332      0.694      0.518      0.536      0.271\n"
          ]
        },
        {
          "output_type": "stream",
          "name": "stderr",
          "text": [
            "\n"
          ]
        },
        {
          "output_type": "stream",
          "name": "stdout",
          "text": [
            "\n",
            "      Epoch    GPU_mem   box_loss   seg_loss   cls_loss   dfl_loss  Instances       Size\n"
          ]
        },
        {
          "output_type": "stream",
          "name": "stderr",
          "text": [
            "      47/50         0G     0.9714      1.771     0.8473      1.417         10        640: 100%|██████████| 125/125 [06:08<00:00,  2.95s/it]\n",
            "                 Class     Images  Instances      Box(P          R      mAP50  mAP50-95)     Mask(P          R      mAP50  mAP50-95): 100%|██████████| 16/16 [00:29<00:00,  1.83s/it]"
          ]
        },
        {
          "output_type": "stream",
          "name": "stdout",
          "text": [
            "                   all        250        276      0.754      0.525      0.647      0.351      0.734        0.5      0.548      0.285\n"
          ]
        },
        {
          "output_type": "stream",
          "name": "stderr",
          "text": [
            "\n"
          ]
        },
        {
          "output_type": "stream",
          "name": "stdout",
          "text": [
            "\n",
            "      Epoch    GPU_mem   box_loss   seg_loss   cls_loss   dfl_loss  Instances       Size\n"
          ]
        },
        {
          "output_type": "stream",
          "name": "stderr",
          "text": [
            "      48/50         0G     0.9555      1.724     0.8321       1.39          9        640: 100%|██████████| 125/125 [06:20<00:00,  3.04s/it]\n",
            "                 Class     Images  Instances      Box(P          R      mAP50  mAP50-95)     Mask(P          R      mAP50  mAP50-95): 100%|██████████| 16/16 [00:28<00:00,  1.81s/it]"
          ]
        },
        {
          "output_type": "stream",
          "name": "stdout",
          "text": [
            "                   all        250        276      0.665      0.565      0.642       0.35      0.659       0.54      0.549       0.28\n"
          ]
        },
        {
          "output_type": "stream",
          "name": "stderr",
          "text": [
            "\n"
          ]
        },
        {
          "output_type": "stream",
          "name": "stdout",
          "text": [
            "\n",
            "      Epoch    GPU_mem   box_loss   seg_loss   cls_loss   dfl_loss  Instances       Size\n"
          ]
        },
        {
          "output_type": "stream",
          "name": "stderr",
          "text": [
            "      49/50         0G     0.9637      1.731     0.8059      1.403          8        640: 100%|██████████| 125/125 [06:08<00:00,  2.95s/it]\n",
            "                 Class     Images  Instances      Box(P          R      mAP50  mAP50-95)     Mask(P          R      mAP50  mAP50-95): 100%|██████████| 16/16 [00:29<00:00,  1.83s/it]"
          ]
        },
        {
          "output_type": "stream",
          "name": "stdout",
          "text": [
            "                   all        250        276      0.721      0.562      0.656      0.353      0.693      0.548      0.564      0.287\n"
          ]
        },
        {
          "output_type": "stream",
          "name": "stderr",
          "text": [
            "\n"
          ]
        },
        {
          "output_type": "stream",
          "name": "stdout",
          "text": [
            "\n",
            "      Epoch    GPU_mem   box_loss   seg_loss   cls_loss   dfl_loss  Instances       Size\n"
          ]
        },
        {
          "output_type": "stream",
          "name": "stderr",
          "text": [
            "      50/50         0G     0.9495      1.707     0.7889      1.393         10        640: 100%|██████████| 125/125 [06:08<00:00,  2.95s/it]\n",
            "                 Class     Images  Instances      Box(P          R      mAP50  mAP50-95)     Mask(P          R      mAP50  mAP50-95): 100%|██████████| 16/16 [00:28<00:00,  1.79s/it]"
          ]
        },
        {
          "output_type": "stream",
          "name": "stdout",
          "text": [
            "                   all        250        276      0.671      0.583      0.637      0.355      0.641      0.562      0.557      0.293\n"
          ]
        },
        {
          "output_type": "stream",
          "name": "stderr",
          "text": [
            "\n"
          ]
        },
        {
          "output_type": "stream",
          "name": "stdout",
          "text": [
            "\n",
            "50 epochs completed in 5.651 hours.\n",
            "Optimizer stripped from /content/drive/MyDrive/Colab Notebooks/Dataset/CAMO/runs/yolo_seg_CAMO7/weights/last.pt, 23.8MB\n",
            "Optimizer stripped from /content/drive/MyDrive/Colab Notebooks/Dataset/CAMO/runs/yolo_seg_CAMO7/weights/best.pt, 23.8MB\n",
            "\n",
            "Validating /content/drive/MyDrive/Colab Notebooks/Dataset/CAMO/runs/yolo_seg_CAMO7/weights/best.pt...\n",
            "Ultralytics 8.3.168 🚀 Python-3.11.13 torch-2.6.0+cpu CPU (Intel Xeon 2.00GHz)\n",
            "YOLOv8s-seg summary (fused): 85 layers, 11,779,987 parameters, 0 gradients, 42.4 GFLOPs\n"
          ]
        },
        {
          "output_type": "stream",
          "name": "stderr",
          "text": [
            "\r                 Class     Images  Instances      Box(P          R      mAP50  mAP50-95)     Mask(P          R      mAP50  mAP50-95):   0%|          | 0/16 [00:00<?, ?it/s]"
          ]
        },
        {
          "output_type": "stream",
          "name": "stdout",
          "text": [
            "WARNING ⚠️ Limiting validation plots to first 50 items per image for speed...\n"
          ]
        },
        {
          "output_type": "stream",
          "name": "stderr",
          "text": [
            "\r                 Class     Images  Instances      Box(P          R      mAP50  mAP50-95)     Mask(P          R      mAP50  mAP50-95):   6%|▋         | 1/16 [00:01<00:16,  1.11s/it]"
          ]
        },
        {
          "output_type": "stream",
          "name": "stdout",
          "text": [
            "WARNING ⚠️ Limiting validation plots to first 50 items per image for speed...\n",
            "WARNING ⚠️ Limiting validation plots to first 50 items per image for speed...\n",
            "WARNING ⚠️ Limiting validation plots to first 50 items per image for speed...\n",
            "WARNING ⚠️ Limiting validation plots to first 50 items per image for speed...\n"
          ]
        },
        {
          "output_type": "stream",
          "name": "stderr",
          "text": [
            "\r                 Class     Images  Instances      Box(P          R      mAP50  mAP50-95)     Mask(P          R      mAP50  mAP50-95):  12%|█▎        | 2/16 [00:02<00:19,  1.37s/it]"
          ]
        },
        {
          "output_type": "stream",
          "name": "stdout",
          "text": [
            "WARNING ⚠️ Limiting validation plots to first 50 items per image for speed...\n",
            "WARNING ⚠️ Limiting validation plots to first 50 items per image for speed...\n",
            "WARNING ⚠️ Limiting validation plots to first 50 items per image for speed...\n",
            "WARNING ⚠️ Limiting validation plots to first 50 items per image for speed...\n",
            "WARNING ⚠️ Limiting validation plots to first 50 items per image for speed...\n",
            "WARNING ⚠️ Limiting validation plots to first 50 items per image for speed...\n",
            "WARNING ⚠️ Limiting validation plots to first 50 items per image for speed...\n",
            "WARNING ⚠️ Limiting validation plots to first 50 items per image for speed...\n"
          ]
        },
        {
          "output_type": "stream",
          "name": "stderr",
          "text": [
            "                 Class     Images  Instances      Box(P          R      mAP50  mAP50-95)     Mask(P          R      mAP50  mAP50-95): 100%|██████████| 16/16 [00:26<00:00,  1.63s/it]\n"
          ]
        },
        {
          "output_type": "stream",
          "name": "stdout",
          "text": [
            "                   all        250        276      0.708      0.554      0.636      0.355      0.641      0.558      0.556      0.294\n",
            "Speed: 0.4ms preprocess, 87.6ms inference, 0.0ms loss, 1.8ms postprocess per image\n",
            "Results saved to \u001b[1m/content/drive/MyDrive/Colab Notebooks/Dataset/CAMO/runs/yolo_seg_CAMO7\u001b[0m\n"
          ]
        },
        {
          "output_type": "execute_result",
          "data": {
            "text/plain": [
              "ultralytics.utils.metrics.SegmentMetrics object with attributes:\n",
              "\n",
              "ap_class_index: array([0])\n",
              "box: ultralytics.utils.metrics.Metric object\n",
              "confusion_matrix: <ultralytics.utils.metrics.ConfusionMatrix object at 0x7a3a30406650>\n",
              "curves: ['Precision-Recall(B)', 'F1-Confidence(B)', 'Precision-Confidence(B)', 'Recall-Confidence(B)', 'Precision-Recall(M)', 'F1-Confidence(M)', 'Precision-Confidence(M)', 'Recall-Confidence(M)']\n",
              "curves_results: [[array([          0,    0.001001,    0.002002,    0.003003,    0.004004,    0.005005,    0.006006,    0.007007,    0.008008,    0.009009,     0.01001,    0.011011,    0.012012,    0.013013,    0.014014,    0.015015,    0.016016,    0.017017,    0.018018,    0.019019,     0.02002,    0.021021,    0.022022,    0.023023,\n",
              "          0.024024,    0.025025,    0.026026,    0.027027,    0.028028,    0.029029,     0.03003,    0.031031,    0.032032,    0.033033,    0.034034,    0.035035,    0.036036,    0.037037,    0.038038,    0.039039,     0.04004,    0.041041,    0.042042,    0.043043,    0.044044,    0.045045,    0.046046,    0.047047,\n",
              "          0.048048,    0.049049,     0.05005,    0.051051,    0.052052,    0.053053,    0.054054,    0.055055,    0.056056,    0.057057,    0.058058,    0.059059,     0.06006,    0.061061,    0.062062,    0.063063,    0.064064,    0.065065,    0.066066,    0.067067,    0.068068,    0.069069,     0.07007,    0.071071,\n",
              "          0.072072,    0.073073,    0.074074,    0.075075,    0.076076,    0.077077,    0.078078,    0.079079,     0.08008,    0.081081,    0.082082,    0.083083,    0.084084,    0.085085,    0.086086,    0.087087,    0.088088,    0.089089,     0.09009,    0.091091,    0.092092,    0.093093,    0.094094,    0.095095,\n",
              "          0.096096,    0.097097,    0.098098,    0.099099,      0.1001,      0.1011,      0.1021,      0.1031,      0.1041,     0.10511,     0.10611,     0.10711,     0.10811,     0.10911,     0.11011,     0.11111,     0.11211,     0.11311,     0.11411,     0.11512,     0.11612,     0.11712,     0.11812,     0.11912,\n",
              "           0.12012,     0.12112,     0.12212,     0.12312,     0.12412,     0.12513,     0.12613,     0.12713,     0.12813,     0.12913,     0.13013,     0.13113,     0.13213,     0.13313,     0.13413,     0.13514,     0.13614,     0.13714,     0.13814,     0.13914,     0.14014,     0.14114,     0.14214,     0.14314,\n",
              "           0.14414,     0.14515,     0.14615,     0.14715,     0.14815,     0.14915,     0.15015,     0.15115,     0.15215,     0.15315,     0.15415,     0.15516,     0.15616,     0.15716,     0.15816,     0.15916,     0.16016,     0.16116,     0.16216,     0.16316,     0.16416,     0.16517,     0.16617,     0.16717,\n",
              "           0.16817,     0.16917,     0.17017,     0.17117,     0.17217,     0.17317,     0.17417,     0.17518,     0.17618,     0.17718,     0.17818,     0.17918,     0.18018,     0.18118,     0.18218,     0.18318,     0.18418,     0.18519,     0.18619,     0.18719,     0.18819,     0.18919,     0.19019,     0.19119,\n",
              "           0.19219,     0.19319,     0.19419,      0.1952,      0.1962,      0.1972,      0.1982,      0.1992,      0.2002,      0.2012,      0.2022,      0.2032,      0.2042,     0.20521,     0.20621,     0.20721,     0.20821,     0.20921,     0.21021,     0.21121,     0.21221,     0.21321,     0.21421,     0.21522,\n",
              "           0.21622,     0.21722,     0.21822,     0.21922,     0.22022,     0.22122,     0.22222,     0.22322,     0.22422,     0.22523,     0.22623,     0.22723,     0.22823,     0.22923,     0.23023,     0.23123,     0.23223,     0.23323,     0.23423,     0.23524,     0.23624,     0.23724,     0.23824,     0.23924,\n",
              "           0.24024,     0.24124,     0.24224,     0.24324,     0.24424,     0.24525,     0.24625,     0.24725,     0.24825,     0.24925,     0.25025,     0.25125,     0.25225,     0.25325,     0.25425,     0.25526,     0.25626,     0.25726,     0.25826,     0.25926,     0.26026,     0.26126,     0.26226,     0.26326,\n",
              "           0.26426,     0.26527,     0.26627,     0.26727,     0.26827,     0.26927,     0.27027,     0.27127,     0.27227,     0.27327,     0.27427,     0.27528,     0.27628,     0.27728,     0.27828,     0.27928,     0.28028,     0.28128,     0.28228,     0.28328,     0.28428,     0.28529,     0.28629,     0.28729,\n",
              "           0.28829,     0.28929,     0.29029,     0.29129,     0.29229,     0.29329,     0.29429,      0.2953,      0.2963,      0.2973,      0.2983,      0.2993,      0.3003,      0.3013,      0.3023,      0.3033,      0.3043,     0.30531,     0.30631,     0.30731,     0.30831,     0.30931,     0.31031,     0.31131,\n",
              "           0.31231,     0.31331,     0.31431,     0.31532,     0.31632,     0.31732,     0.31832,     0.31932,     0.32032,     0.32132,     0.32232,     0.32332,     0.32432,     0.32533,     0.32633,     0.32733,     0.32833,     0.32933,     0.33033,     0.33133,     0.33233,     0.33333,     0.33433,     0.33534,\n",
              "           0.33634,     0.33734,     0.33834,     0.33934,     0.34034,     0.34134,     0.34234,     0.34334,     0.34434,     0.34535,     0.34635,     0.34735,     0.34835,     0.34935,     0.35035,     0.35135,     0.35235,     0.35335,     0.35435,     0.35536,     0.35636,     0.35736,     0.35836,     0.35936,\n",
              "           0.36036,     0.36136,     0.36236,     0.36336,     0.36436,     0.36537,     0.36637,     0.36737,     0.36837,     0.36937,     0.37037,     0.37137,     0.37237,     0.37337,     0.37437,     0.37538,     0.37638,     0.37738,     0.37838,     0.37938,     0.38038,     0.38138,     0.38238,     0.38338,\n",
              "           0.38438,     0.38539,     0.38639,     0.38739,     0.38839,     0.38939,     0.39039,     0.39139,     0.39239,     0.39339,     0.39439,      0.3954,      0.3964,      0.3974,      0.3984,      0.3994,      0.4004,      0.4014,      0.4024,      0.4034,      0.4044,     0.40541,     0.40641,     0.40741,\n",
              "           0.40841,     0.40941,     0.41041,     0.41141,     0.41241,     0.41341,     0.41441,     0.41542,     0.41642,     0.41742,     0.41842,     0.41942,     0.42042,     0.42142,     0.42242,     0.42342,     0.42442,     0.42543,     0.42643,     0.42743,     0.42843,     0.42943,     0.43043,     0.43143,\n",
              "           0.43243,     0.43343,     0.43443,     0.43544,     0.43644,     0.43744,     0.43844,     0.43944,     0.44044,     0.44144,     0.44244,     0.44344,     0.44444,     0.44545,     0.44645,     0.44745,     0.44845,     0.44945,     0.45045,     0.45145,     0.45245,     0.45345,     0.45445,     0.45546,\n",
              "           0.45646,     0.45746,     0.45846,     0.45946,     0.46046,     0.46146,     0.46246,     0.46346,     0.46446,     0.46547,     0.46647,     0.46747,     0.46847,     0.46947,     0.47047,     0.47147,     0.47247,     0.47347,     0.47447,     0.47548,     0.47648,     0.47748,     0.47848,     0.47948,\n",
              "           0.48048,     0.48148,     0.48248,     0.48348,     0.48448,     0.48549,     0.48649,     0.48749,     0.48849,     0.48949,     0.49049,     0.49149,     0.49249,     0.49349,     0.49449,      0.4955,      0.4965,      0.4975,      0.4985,      0.4995,      0.5005,      0.5015,      0.5025,      0.5035,\n",
              "            0.5045,     0.50551,     0.50651,     0.50751,     0.50851,     0.50951,     0.51051,     0.51151,     0.51251,     0.51351,     0.51451,     0.51552,     0.51652,     0.51752,     0.51852,     0.51952,     0.52052,     0.52152,     0.52252,     0.52352,     0.52452,     0.52553,     0.52653,     0.52753,\n",
              "           0.52853,     0.52953,     0.53053,     0.53153,     0.53253,     0.53353,     0.53453,     0.53554,     0.53654,     0.53754,     0.53854,     0.53954,     0.54054,     0.54154,     0.54254,     0.54354,     0.54454,     0.54555,     0.54655,     0.54755,     0.54855,     0.54955,     0.55055,     0.55155,\n",
              "           0.55255,     0.55355,     0.55455,     0.55556,     0.55656,     0.55756,     0.55856,     0.55956,     0.56056,     0.56156,     0.56256,     0.56356,     0.56456,     0.56557,     0.56657,     0.56757,     0.56857,     0.56957,     0.57057,     0.57157,     0.57257,     0.57357,     0.57457,     0.57558,\n",
              "           0.57658,     0.57758,     0.57858,     0.57958,     0.58058,     0.58158,     0.58258,     0.58358,     0.58458,     0.58559,     0.58659,     0.58759,     0.58859,     0.58959,     0.59059,     0.59159,     0.59259,     0.59359,     0.59459,      0.5956,      0.5966,      0.5976,      0.5986,      0.5996,\n",
              "            0.6006,      0.6016,      0.6026,      0.6036,      0.6046,     0.60561,     0.60661,     0.60761,     0.60861,     0.60961,     0.61061,     0.61161,     0.61261,     0.61361,     0.61461,     0.61562,     0.61662,     0.61762,     0.61862,     0.61962,     0.62062,     0.62162,     0.62262,     0.62362,\n",
              "           0.62462,     0.62563,     0.62663,     0.62763,     0.62863,     0.62963,     0.63063,     0.63163,     0.63263,     0.63363,     0.63463,     0.63564,     0.63664,     0.63764,     0.63864,     0.63964,     0.64064,     0.64164,     0.64264,     0.64364,     0.64464,     0.64565,     0.64665,     0.64765,\n",
              "           0.64865,     0.64965,     0.65065,     0.65165,     0.65265,     0.65365,     0.65465,     0.65566,     0.65666,     0.65766,     0.65866,     0.65966,     0.66066,     0.66166,     0.66266,     0.66366,     0.66466,     0.66567,     0.66667,     0.66767,     0.66867,     0.66967,     0.67067,     0.67167,\n",
              "           0.67267,     0.67367,     0.67467,     0.67568,     0.67668,     0.67768,     0.67868,     0.67968,     0.68068,     0.68168,     0.68268,     0.68368,     0.68468,     0.68569,     0.68669,     0.68769,     0.68869,     0.68969,     0.69069,     0.69169,     0.69269,     0.69369,     0.69469,      0.6957,\n",
              "            0.6967,      0.6977,      0.6987,      0.6997,      0.7007,      0.7017,      0.7027,      0.7037,      0.7047,     0.70571,     0.70671,     0.70771,     0.70871,     0.70971,     0.71071,     0.71171,     0.71271,     0.71371,     0.71471,     0.71572,     0.71672,     0.71772,     0.71872,     0.71972,\n",
              "           0.72072,     0.72172,     0.72272,     0.72372,     0.72472,     0.72573,     0.72673,     0.72773,     0.72873,     0.72973,     0.73073,     0.73173,     0.73273,     0.73373,     0.73473,     0.73574,     0.73674,     0.73774,     0.73874,     0.73974,     0.74074,     0.74174,     0.74274,     0.74374,\n",
              "           0.74474,     0.74575,     0.74675,     0.74775,     0.74875,     0.74975,     0.75075,     0.75175,     0.75275,     0.75375,     0.75475,     0.75576,     0.75676,     0.75776,     0.75876,     0.75976,     0.76076,     0.76176,     0.76276,     0.76376,     0.76476,     0.76577,     0.76677,     0.76777,\n",
              "           0.76877,     0.76977,     0.77077,     0.77177,     0.77277,     0.77377,     0.77477,     0.77578,     0.77678,     0.77778,     0.77878,     0.77978,     0.78078,     0.78178,     0.78278,     0.78378,     0.78478,     0.78579,     0.78679,     0.78779,     0.78879,     0.78979,     0.79079,     0.79179,\n",
              "           0.79279,     0.79379,     0.79479,      0.7958,      0.7968,      0.7978,      0.7988,      0.7998,      0.8008,      0.8018,      0.8028,      0.8038,      0.8048,     0.80581,     0.80681,     0.80781,     0.80881,     0.80981,     0.81081,     0.81181,     0.81281,     0.81381,     0.81481,     0.81582,\n",
              "           0.81682,     0.81782,     0.81882,     0.81982,     0.82082,     0.82182,     0.82282,     0.82382,     0.82482,     0.82583,     0.82683,     0.82783,     0.82883,     0.82983,     0.83083,     0.83183,     0.83283,     0.83383,     0.83483,     0.83584,     0.83684,     0.83784,     0.83884,     0.83984,\n",
              "           0.84084,     0.84184,     0.84284,     0.84384,     0.84484,     0.84585,     0.84685,     0.84785,     0.84885,     0.84985,     0.85085,     0.85185,     0.85285,     0.85385,     0.85485,     0.85586,     0.85686,     0.85786,     0.85886,     0.85986,     0.86086,     0.86186,     0.86286,     0.86386,\n",
              "           0.86486,     0.86587,     0.86687,     0.86787,     0.86887,     0.86987,     0.87087,     0.87187,     0.87287,     0.87387,     0.87487,     0.87588,     0.87688,     0.87788,     0.87888,     0.87988,     0.88088,     0.88188,     0.88288,     0.88388,     0.88488,     0.88589,     0.88689,     0.88789,\n",
              "           0.88889,     0.88989,     0.89089,     0.89189,     0.89289,     0.89389,     0.89489,      0.8959,      0.8969,      0.8979,      0.8989,      0.8999,      0.9009,      0.9019,      0.9029,      0.9039,      0.9049,     0.90591,     0.90691,     0.90791,     0.90891,     0.90991,     0.91091,     0.91191,\n",
              "           0.91291,     0.91391,     0.91491,     0.91592,     0.91692,     0.91792,     0.91892,     0.91992,     0.92092,     0.92192,     0.92292,     0.92392,     0.92492,     0.92593,     0.92693,     0.92793,     0.92893,     0.92993,     0.93093,     0.93193,     0.93293,     0.93393,     0.93493,     0.93594,\n",
              "           0.93694,     0.93794,     0.93894,     0.93994,     0.94094,     0.94194,     0.94294,     0.94394,     0.94494,     0.94595,     0.94695,     0.94795,     0.94895,     0.94995,     0.95095,     0.95195,     0.95295,     0.95395,     0.95495,     0.95596,     0.95696,     0.95796,     0.95896,     0.95996,\n",
              "           0.96096,     0.96196,     0.96296,     0.96396,     0.96496,     0.96597,     0.96697,     0.96797,     0.96897,     0.96997,     0.97097,     0.97197,     0.97297,     0.97397,     0.97497,     0.97598,     0.97698,     0.97798,     0.97898,     0.97998,     0.98098,     0.98198,     0.98298,     0.98398,\n",
              "           0.98498,     0.98599,     0.98699,     0.98799,     0.98899,     0.98999,     0.99099,     0.99199,     0.99299,     0.99399,     0.99499,       0.996,       0.997,       0.998,       0.999,           1]), array([[          1,           1,           1,           1,           1,           1,           1,           1,           1,           1,           1,           1,           1,           1,           1,           1,           1,           1,           1,           1,           1,           1,           1,\n",
              "                  1,           1,           1,           1,           1,           1,           1,           1,           1,           1,           1,           1,           1,           1,           1,           1,           1,           1,           1,           1,           1,           1,           1,\n",
              "                  1,           1,           1,           1,           1,           1,           1,           1,           1,           1,           1,           1,           1,           1,           1,           1,           1,           1,           1,           1,           1,           1,           1,\n",
              "            0.98649,     0.98649,     0.98649,     0.98649,     0.98649,     0.98649,     0.98649,     0.98649,     0.98649,     0.98649,     0.98649,     0.98649,     0.98649,     0.98649,     0.98649,     0.98649,     0.98649,     0.98649,     0.98649,     0.98649,     0.98649,     0.98649,     0.98649,\n",
              "            0.98649,     0.98649,     0.98649,     0.98649,     0.98649,     0.98649,     0.98649,     0.98649,     0.98649,     0.98649,     0.98649,     0.98649,     0.98649,     0.98649,     0.98649,     0.98649,     0.98649,     0.98649,     0.98649,     0.98649,     0.98649,     0.98649,     0.98649,\n",
              "            0.98649,     0.98649,     0.98649,     0.98649,     0.98649,     0.98649,     0.98649,     0.98649,     0.98649,     0.98649,     0.98649,     0.98649,     0.98649,     0.98649,     0.98649,     0.98649,     0.98649,     0.98649,     0.98649,     0.98649,     0.98649,     0.98649,     0.98649,\n",
              "            0.98649,     0.98649,     0.98649,     0.98649,     0.98649,     0.98649,     0.98649,     0.98649,     0.98649,     0.98649,     0.98649,     0.98649,     0.98649,     0.98649,     0.98649,     0.98649,     0.98649,     0.98649,     0.98649,     0.98649,     0.98649,     0.98649,     0.98649,\n",
              "            0.98649,     0.98649,     0.98649,     0.98649,     0.98649,     0.98649,     0.98649,     0.98649,     0.98649,     0.98649,     0.98649,     0.98649,     0.98649,     0.98649,     0.98649,     0.98649,     0.98649,     0.98649,     0.98649,     0.98649,     0.98649,     0.98649,     0.98649,\n",
              "            0.98649,     0.98649,     0.98649,     0.98649,     0.98649,     0.98649,     0.98649,     0.98649,     0.98649,     0.98649,     0.98649,     0.98649,     0.98649,     0.98649,     0.98649,     0.98649,     0.98649,     0.98649,     0.98649,     0.98649,     0.98649,     0.98649,     0.98649,\n",
              "            0.98649,     0.98649,     0.98649,     0.98649,     0.98649,     0.98649,     0.98649,     0.98649,     0.98649,     0.98649,     0.98649,     0.98649,     0.98649,     0.98649,     0.98649,     0.98649,     0.98649,     0.98649,     0.98649,     0.98649,     0.98649,     0.98649,     0.98649,\n",
              "            0.98649,     0.98649,     0.98649,     0.98649,     0.98649,     0.98649,     0.98649,     0.98649,     0.98649,     0.98649,     0.98649,     0.98649,     0.98649,     0.98649,     0.98649,     0.98649,     0.98649,     0.98649,     0.98649,     0.98649,     0.98649,     0.98649,     0.98649,\n",
              "            0.98649,     0.98649,     0.98649,     0.98649,     0.98649,     0.98649,     0.98649,     0.98649,     0.98649,     0.98649,     0.98649,     0.98649,     0.97368,     0.97368,     0.97368,     0.95455,     0.95455,     0.95455,     0.95455,     0.95455,     0.95455,     0.95455,     0.95455,\n",
              "            0.95455,     0.95455,     0.95455,     0.95455,     0.95455,     0.95455,     0.95455,     0.95455,     0.95455,     0.95455,     0.95455,     0.95455,     0.95455,     0.95455,     0.95455,     0.95455,     0.95455,     0.95455,     0.95455,     0.95455,     0.95455,     0.95455,     0.95455,\n",
              "            0.95455,     0.95455,     0.95455,     0.95455,     0.95455,     0.95455,     0.94444,     0.94444,     0.94444,     0.92708,     0.92708,     0.92708,     0.92708,     0.92708,     0.92708,     0.92708,     0.92708,     0.92708,     0.92708,     0.92708,     0.92708,     0.92708,     0.92708,\n",
              "            0.92708,     0.91837,     0.91837,     0.91837,     0.91176,     0.91176,     0.91176,     0.91176,     0.91176,     0.91176,     0.91176,     0.91176,     0.91176,     0.91176,     0.91176,     0.89623,     0.89623,     0.89623,     0.89623,     0.89623,     0.89623,     0.89623,     0.89091,\n",
              "            0.89091,     0.89091,     0.89091,     0.89091,     0.89091,     0.89091,     0.89091,     0.89091,     0.89091,     0.89091,     0.88889,     0.88889,     0.88889,     0.88889,     0.88889,     0.88889,     0.88889,     0.88889,     0.88889,     0.88889,     0.88889,     0.88889,     0.88889,\n",
              "            0.88889,     0.88889,     0.88889,     0.88889,     0.88889,     0.88889,     0.88889,     0.88889,     0.88889,     0.88235,     0.88235,     0.88235,     0.88235,     0.86885,     0.86885,     0.86885,     0.85385,     0.85385,     0.85385,     0.85385,     0.85385,     0.85385,     0.85385,\n",
              "            0.85385,     0.85385,     0.85385,     0.85385,     0.85385,     0.85385,     0.85385,     0.85385,     0.85385,     0.85385,     0.85385,     0.84848,     0.84848,     0.84848,     0.84848,     0.84672,     0.84672,     0.84672,     0.84672,     0.84672,     0.84672,     0.84672,     0.84672,\n",
              "            0.84672,     0.84672,     0.84672,     0.84672,     0.84672,     0.84672,     0.83571,     0.83571,     0.83571,     0.83571,     0.82877,     0.82877,     0.82877,     0.82877,     0.82877,     0.82877,     0.82877,     0.82877,     0.82877,     0.82877,     0.82877,     0.82877,     0.82877,\n",
              "            0.82877,      0.8255,      0.8255,      0.8255,      0.8255,      0.8255,      0.8255,      0.8255,      0.8255,     0.82119,     0.82119,     0.82119,     0.81818,     0.81818,     0.81818,     0.81818,     0.81818,     0.81818,     0.81818,     0.81818,     0.81132,     0.81132,     0.81132,\n",
              "            0.81132,     0.81132,     0.81132,     0.81132,     0.81132,     0.81132,     0.81132,     0.80745,     0.80745,     0.80745,     0.80745,     0.80488,     0.80488,     0.80488,     0.80488,     0.80488,     0.80488,     0.80488,     0.79641,     0.79641,     0.79641,     0.79641,      0.7929,\n",
              "             0.7929,      0.7929,      0.7929,     0.78286,     0.78286,     0.78286,     0.78286,     0.78286,     0.78286,     0.78286,     0.78286,     0.78286,     0.78286,     0.77966,     0.77966,     0.77966,     0.77966,     0.77348,     0.77348,     0.77348,     0.77348,     0.77348,     0.77348,\n",
              "            0.77348,     0.77049,     0.77049,     0.77049,     0.77049,     0.76064,     0.76064,     0.76064,     0.76064,     0.76064,     0.76064,     0.76064,     0.75789,     0.75789,     0.75789,     0.75789,     0.74742,     0.74742,     0.74742,     0.74242,     0.74242,     0.74242,     0.74242,\n",
              "            0.74242,     0.74242,     0.74242,     0.74242,        0.74,        0.74,        0.74,     0.71981,     0.71981,     0.71981,     0.71981,      0.7177,      0.7177,      0.7177,     0.70833,     0.70833,     0.70833,     0.70833,     0.70833,     0.70833,     0.70833,     0.70833,     0.70833,\n",
              "            0.70833,     0.70833,      0.7032,      0.7032,      0.7032,      0.7032,     0.70136,     0.70136,     0.70136,     0.70136,     0.69778,     0.69778,     0.69778,     0.69778,     0.69778,     0.69778,     0.69778,     0.68996,     0.68996,     0.68996,      0.6824,      0.6824,      0.6824,\n",
              "             0.6824,     0.67511,     0.67511,     0.67511,     0.67511,     0.65182,     0.65182,     0.65182,      0.6506,      0.6506,      0.6506,      0.6506,     0.64961,     0.64961,     0.64961,     0.64961,     0.64961,     0.64961,     0.64961,     0.64961,     0.64961,     0.64961,     0.64961,\n",
              "            0.62172,     0.62172,     0.62172,     0.61624,     0.61624,     0.61624,     0.61624,     0.58362,     0.58362,     0.58362,     0.58362,     0.58362,     0.58362,     0.58362,     0.58362,     0.58362,     0.58362,     0.58362,     0.58362,     0.58362,     0.58362,     0.57525,     0.57525,\n",
              "            0.57525,     0.57525,     0.57285,     0.57285,     0.57285,     0.57285,     0.57003,     0.57003,     0.57003,     0.57003,     0.57003,     0.57003,     0.57003,     0.56958,     0.56958,     0.56958,     0.56958,     0.56731,     0.56731,     0.56731,     0.55625,     0.55625,     0.55625,\n",
              "            0.55625,     0.54407,     0.54407,     0.54407,     0.52941,     0.52941,     0.52941,     0.52941,     0.52754,     0.52754,     0.52754,     0.52754,     0.52754,     0.52754,     0.52754,     0.48285,     0.48285,     0.48285,     0.48285,     0.47301,     0.47301,     0.47301,     0.47074,\n",
              "            0.47074,     0.47074,     0.47074,     0.46851,     0.46851,     0.46851,     0.46851,     0.46059,     0.46059,     0.46059,     0.44235,     0.44235,     0.44235,     0.44235,     0.41447,     0.41447,     0.41447,     0.41447,     0.41394,     0.41394,     0.41394,     0.41342,     0.41342,\n",
              "            0.41342,     0.41342,      0.3871,      0.3871,      0.3871,     0.38677,     0.38677,     0.38677,     0.38677,     0.37891,     0.37891,     0.37891,     0.37891,     0.37645,     0.37645,     0.37645,      0.3762,      0.3762,      0.3762,      0.3762,     0.37524,     0.37524,     0.37524,\n",
              "            0.37524,       0.375,       0.375,       0.375,     0.37266,     0.37266,     0.37266,     0.37266,     0.36697,     0.36697,     0.36697,     0.36282,     0.36282,     0.36282,     0.36282,     0.35253,     0.35253,     0.35253,     0.35253,     0.35243,     0.35243,     0.35243,     0.33943,\n",
              "            0.33943,     0.33943,     0.33943,     0.32188,     0.32188,     0.32188,     0.32188,     0.32188,     0.32188,     0.32188,     0.32043,     0.32043,     0.32043,     0.32043,     0.31278,     0.31278,     0.31278,     0.30347,     0.30347,     0.30347,     0.30347,     0.30347,     0.30347,\n",
              "            0.30347,     0.30347,     0.29677,     0.29677,     0.29677,     0.29081,     0.29081,     0.29081,     0.29081,     0.28745,     0.28745,     0.28745,      0.2772,      0.2772,      0.2772,      0.2772,     0.27399,     0.27399,     0.27399,     0.27399,     0.27399,     0.27399,     0.27399,\n",
              "            0.27399,     0.27399,     0.27399,     0.27399,     0.24971,     0.24971,     0.24971,     0.24971,     0.24915,     0.24915,     0.24915,     0.24283,     0.24283,     0.24283,     0.24283,     0.21731,     0.21731,     0.21731,     0.20423,     0.20423,     0.20423,     0.20423,      0.1963,\n",
              "             0.1963,      0.1963,      0.1963,     0.18543,     0.18543,     0.18543,     0.17215,     0.17215,     0.17215,     0.17215,     0.16778,     0.16778,     0.16778,     0.16778,     0.15537,     0.15537,     0.15537,     0.15395,     0.15395,     0.15395,     0.15395,     0.14595,     0.14595,\n",
              "            0.14595,     0.13939,     0.13939,     0.13939,     0.13939,     0.13907,     0.13907,     0.13907,     0.13907,     0.12581,     0.12581,     0.12581,     0.12554,     0.12554,     0.12554,     0.12554,      0.1248,      0.1248,      0.1248,     0.12317,     0.12317,     0.12317,     0.12317,\n",
              "            0.12084,     0.12084,     0.12084,     0.12084,     0.11206,     0.11206,     0.11206,     0.10882,     0.10882,     0.10882,     0.10882,      0.1005,      0.1005,      0.1005,      0.1005,    0.099585,    0.099585,    0.099585,    0.086473,    0.086473,    0.086473,    0.086473,    0.083766,\n",
              "           0.083766,    0.083766,    0.081462,    0.081462,    0.081462,    0.081462,    0.077313,    0.077313,    0.077313,    0.077313,    0.071805,    0.071805,    0.071805,     0.06839,     0.06839,     0.06839,     0.06839,    0.066721,    0.066721,    0.066721,    0.066721,    0.065522,    0.065522,\n",
              "           0.065522,    0.063375,    0.063375,    0.063375,    0.063375,    0.059823,    0.059823,    0.059823,    0.055519,    0.055519,    0.055519,    0.055519,    0.048885,    0.048885,    0.048885,    0.048885,    0.048823,    0.048823,    0.048823,    0.043315,    0.043315,    0.043315,    0.043315,\n",
              "            0.04314,     0.04314,     0.04314,    0.042525,    0.042525,    0.042525,    0.042525,    0.039938,    0.039938,    0.039938,    0.039938,    0.037969,    0.037969,    0.037969,    0.032199,    0.031703,    0.031208,    0.030713,    0.030217,    0.029722,    0.029227,    0.028731,    0.028236,\n",
              "           0.027741,    0.027245,     0.02675,    0.026254,    0.025759,    0.025264,    0.024768,    0.024273,    0.023778,    0.023282,    0.022787,    0.022291,    0.021796,    0.021301,    0.020805,     0.02031,    0.019815,    0.019319,    0.018824,    0.018329,    0.017833,    0.017338,    0.016842,\n",
              "           0.016347,    0.015852,    0.015356,    0.014861,    0.014366,     0.01387,    0.013375,     0.01288,    0.012384,    0.011889,    0.011393,    0.010898,    0.010403,   0.0099073,    0.009412,   0.0089166,   0.0084212,   0.0079259,   0.0074305,   0.0069351,   0.0064398,   0.0059444,    0.005449,\n",
              "          0.0049537,   0.0044583,   0.0039629,   0.0034676,   0.0029722,   0.0024768,   0.0019815,   0.0014861,  0.00099073,  0.00049537,           0]]), 'Recall', 'Precision'], [array([          0,    0.001001,    0.002002,    0.003003,    0.004004,    0.005005,    0.006006,    0.007007,    0.008008,    0.009009,     0.01001,    0.011011,    0.012012,    0.013013,    0.014014,    0.015015,    0.016016,    0.017017,    0.018018,    0.019019,     0.02002,    0.021021,    0.022022,    0.023023,\n",
              "          0.024024,    0.025025,    0.026026,    0.027027,    0.028028,    0.029029,     0.03003,    0.031031,    0.032032,    0.033033,    0.034034,    0.035035,    0.036036,    0.037037,    0.038038,    0.039039,     0.04004,    0.041041,    0.042042,    0.043043,    0.044044,    0.045045,    0.046046,    0.047047,\n",
              "          0.048048,    0.049049,     0.05005,    0.051051,    0.052052,    0.053053,    0.054054,    0.055055,    0.056056,    0.057057,    0.058058,    0.059059,     0.06006,    0.061061,    0.062062,    0.063063,    0.064064,    0.065065,    0.066066,    0.067067,    0.068068,    0.069069,     0.07007,    0.071071,\n",
              "          0.072072,    0.073073,    0.074074,    0.075075,    0.076076,    0.077077,    0.078078,    0.079079,     0.08008,    0.081081,    0.082082,    0.083083,    0.084084,    0.085085,    0.086086,    0.087087,    0.088088,    0.089089,     0.09009,    0.091091,    0.092092,    0.093093,    0.094094,    0.095095,\n",
              "          0.096096,    0.097097,    0.098098,    0.099099,      0.1001,      0.1011,      0.1021,      0.1031,      0.1041,     0.10511,     0.10611,     0.10711,     0.10811,     0.10911,     0.11011,     0.11111,     0.11211,     0.11311,     0.11411,     0.11512,     0.11612,     0.11712,     0.11812,     0.11912,\n",
              "           0.12012,     0.12112,     0.12212,     0.12312,     0.12412,     0.12513,     0.12613,     0.12713,     0.12813,     0.12913,     0.13013,     0.13113,     0.13213,     0.13313,     0.13413,     0.13514,     0.13614,     0.13714,     0.13814,     0.13914,     0.14014,     0.14114,     0.14214,     0.14314,\n",
              "           0.14414,     0.14515,     0.14615,     0.14715,     0.14815,     0.14915,     0.15015,     0.15115,     0.15215,     0.15315,     0.15415,     0.15516,     0.15616,     0.15716,     0.15816,     0.15916,     0.16016,     0.16116,     0.16216,     0.16316,     0.16416,     0.16517,     0.16617,     0.16717,\n",
              "           0.16817,     0.16917,     0.17017,     0.17117,     0.17217,     0.17317,     0.17417,     0.17518,     0.17618,     0.17718,     0.17818,     0.17918,     0.18018,     0.18118,     0.18218,     0.18318,     0.18418,     0.18519,     0.18619,     0.18719,     0.18819,     0.18919,     0.19019,     0.19119,\n",
              "           0.19219,     0.19319,     0.19419,      0.1952,      0.1962,      0.1972,      0.1982,      0.1992,      0.2002,      0.2012,      0.2022,      0.2032,      0.2042,     0.20521,     0.20621,     0.20721,     0.20821,     0.20921,     0.21021,     0.21121,     0.21221,     0.21321,     0.21421,     0.21522,\n",
              "           0.21622,     0.21722,     0.21822,     0.21922,     0.22022,     0.22122,     0.22222,     0.22322,     0.22422,     0.22523,     0.22623,     0.22723,     0.22823,     0.22923,     0.23023,     0.23123,     0.23223,     0.23323,     0.23423,     0.23524,     0.23624,     0.23724,     0.23824,     0.23924,\n",
              "           0.24024,     0.24124,     0.24224,     0.24324,     0.24424,     0.24525,     0.24625,     0.24725,     0.24825,     0.24925,     0.25025,     0.25125,     0.25225,     0.25325,     0.25425,     0.25526,     0.25626,     0.25726,     0.25826,     0.25926,     0.26026,     0.26126,     0.26226,     0.26326,\n",
              "           0.26426,     0.26527,     0.26627,     0.26727,     0.26827,     0.26927,     0.27027,     0.27127,     0.27227,     0.27327,     0.27427,     0.27528,     0.27628,     0.27728,     0.27828,     0.27928,     0.28028,     0.28128,     0.28228,     0.28328,     0.28428,     0.28529,     0.28629,     0.28729,\n",
              "           0.28829,     0.28929,     0.29029,     0.29129,     0.29229,     0.29329,     0.29429,      0.2953,      0.2963,      0.2973,      0.2983,      0.2993,      0.3003,      0.3013,      0.3023,      0.3033,      0.3043,     0.30531,     0.30631,     0.30731,     0.30831,     0.30931,     0.31031,     0.31131,\n",
              "           0.31231,     0.31331,     0.31431,     0.31532,     0.31632,     0.31732,     0.31832,     0.31932,     0.32032,     0.32132,     0.32232,     0.32332,     0.32432,     0.32533,     0.32633,     0.32733,     0.32833,     0.32933,     0.33033,     0.33133,     0.33233,     0.33333,     0.33433,     0.33534,\n",
              "           0.33634,     0.33734,     0.33834,     0.33934,     0.34034,     0.34134,     0.34234,     0.34334,     0.34434,     0.34535,     0.34635,     0.34735,     0.34835,     0.34935,     0.35035,     0.35135,     0.35235,     0.35335,     0.35435,     0.35536,     0.35636,     0.35736,     0.35836,     0.35936,\n",
              "           0.36036,     0.36136,     0.36236,     0.36336,     0.36436,     0.36537,     0.36637,     0.36737,     0.36837,     0.36937,     0.37037,     0.37137,     0.37237,     0.37337,     0.37437,     0.37538,     0.37638,     0.37738,     0.37838,     0.37938,     0.38038,     0.38138,     0.38238,     0.38338,\n",
              "           0.38438,     0.38539,     0.38639,     0.38739,     0.38839,     0.38939,     0.39039,     0.39139,     0.39239,     0.39339,     0.39439,      0.3954,      0.3964,      0.3974,      0.3984,      0.3994,      0.4004,      0.4014,      0.4024,      0.4034,      0.4044,     0.40541,     0.40641,     0.40741,\n",
              "           0.40841,     0.40941,     0.41041,     0.41141,     0.41241,     0.41341,     0.41441,     0.41542,     0.41642,     0.41742,     0.41842,     0.41942,     0.42042,     0.42142,     0.42242,     0.42342,     0.42442,     0.42543,     0.42643,     0.42743,     0.42843,     0.42943,     0.43043,     0.43143,\n",
              "           0.43243,     0.43343,     0.43443,     0.43544,     0.43644,     0.43744,     0.43844,     0.43944,     0.44044,     0.44144,     0.44244,     0.44344,     0.44444,     0.44545,     0.44645,     0.44745,     0.44845,     0.44945,     0.45045,     0.45145,     0.45245,     0.45345,     0.45445,     0.45546,\n",
              "           0.45646,     0.45746,     0.45846,     0.45946,     0.46046,     0.46146,     0.46246,     0.46346,     0.46446,     0.46547,     0.46647,     0.46747,     0.46847,     0.46947,     0.47047,     0.47147,     0.47247,     0.47347,     0.47447,     0.47548,     0.47648,     0.47748,     0.47848,     0.47948,\n",
              "           0.48048,     0.48148,     0.48248,     0.48348,     0.48448,     0.48549,     0.48649,     0.48749,     0.48849,     0.48949,     0.49049,     0.49149,     0.49249,     0.49349,     0.49449,      0.4955,      0.4965,      0.4975,      0.4985,      0.4995,      0.5005,      0.5015,      0.5025,      0.5035,\n",
              "            0.5045,     0.50551,     0.50651,     0.50751,     0.50851,     0.50951,     0.51051,     0.51151,     0.51251,     0.51351,     0.51451,     0.51552,     0.51652,     0.51752,     0.51852,     0.51952,     0.52052,     0.52152,     0.52252,     0.52352,     0.52452,     0.52553,     0.52653,     0.52753,\n",
              "           0.52853,     0.52953,     0.53053,     0.53153,     0.53253,     0.53353,     0.53453,     0.53554,     0.53654,     0.53754,     0.53854,     0.53954,     0.54054,     0.54154,     0.54254,     0.54354,     0.54454,     0.54555,     0.54655,     0.54755,     0.54855,     0.54955,     0.55055,     0.55155,\n",
              "           0.55255,     0.55355,     0.55455,     0.55556,     0.55656,     0.55756,     0.55856,     0.55956,     0.56056,     0.56156,     0.56256,     0.56356,     0.56456,     0.56557,     0.56657,     0.56757,     0.56857,     0.56957,     0.57057,     0.57157,     0.57257,     0.57357,     0.57457,     0.57558,\n",
              "           0.57658,     0.57758,     0.57858,     0.57958,     0.58058,     0.58158,     0.58258,     0.58358,     0.58458,     0.58559,     0.58659,     0.58759,     0.58859,     0.58959,     0.59059,     0.59159,     0.59259,     0.59359,     0.59459,      0.5956,      0.5966,      0.5976,      0.5986,      0.5996,\n",
              "            0.6006,      0.6016,      0.6026,      0.6036,      0.6046,     0.60561,     0.60661,     0.60761,     0.60861,     0.60961,     0.61061,     0.61161,     0.61261,     0.61361,     0.61461,     0.61562,     0.61662,     0.61762,     0.61862,     0.61962,     0.62062,     0.62162,     0.62262,     0.62362,\n",
              "           0.62462,     0.62563,     0.62663,     0.62763,     0.62863,     0.62963,     0.63063,     0.63163,     0.63263,     0.63363,     0.63463,     0.63564,     0.63664,     0.63764,     0.63864,     0.63964,     0.64064,     0.64164,     0.64264,     0.64364,     0.64464,     0.64565,     0.64665,     0.64765,\n",
              "           0.64865,     0.64965,     0.65065,     0.65165,     0.65265,     0.65365,     0.65465,     0.65566,     0.65666,     0.65766,     0.65866,     0.65966,     0.66066,     0.66166,     0.66266,     0.66366,     0.66466,     0.66567,     0.66667,     0.66767,     0.66867,     0.66967,     0.67067,     0.67167,\n",
              "           0.67267,     0.67367,     0.67467,     0.67568,     0.67668,     0.67768,     0.67868,     0.67968,     0.68068,     0.68168,     0.68268,     0.68368,     0.68468,     0.68569,     0.68669,     0.68769,     0.68869,     0.68969,     0.69069,     0.69169,     0.69269,     0.69369,     0.69469,      0.6957,\n",
              "            0.6967,      0.6977,      0.6987,      0.6997,      0.7007,      0.7017,      0.7027,      0.7037,      0.7047,     0.70571,     0.70671,     0.70771,     0.70871,     0.70971,     0.71071,     0.71171,     0.71271,     0.71371,     0.71471,     0.71572,     0.71672,     0.71772,     0.71872,     0.71972,\n",
              "           0.72072,     0.72172,     0.72272,     0.72372,     0.72472,     0.72573,     0.72673,     0.72773,     0.72873,     0.72973,     0.73073,     0.73173,     0.73273,     0.73373,     0.73473,     0.73574,     0.73674,     0.73774,     0.73874,     0.73974,     0.74074,     0.74174,     0.74274,     0.74374,\n",
              "           0.74474,     0.74575,     0.74675,     0.74775,     0.74875,     0.74975,     0.75075,     0.75175,     0.75275,     0.75375,     0.75475,     0.75576,     0.75676,     0.75776,     0.75876,     0.75976,     0.76076,     0.76176,     0.76276,     0.76376,     0.76476,     0.76577,     0.76677,     0.76777,\n",
              "           0.76877,     0.76977,     0.77077,     0.77177,     0.77277,     0.77377,     0.77477,     0.77578,     0.77678,     0.77778,     0.77878,     0.77978,     0.78078,     0.78178,     0.78278,     0.78378,     0.78478,     0.78579,     0.78679,     0.78779,     0.78879,     0.78979,     0.79079,     0.79179,\n",
              "           0.79279,     0.79379,     0.79479,      0.7958,      0.7968,      0.7978,      0.7988,      0.7998,      0.8008,      0.8018,      0.8028,      0.8038,      0.8048,     0.80581,     0.80681,     0.80781,     0.80881,     0.80981,     0.81081,     0.81181,     0.81281,     0.81381,     0.81481,     0.81582,\n",
              "           0.81682,     0.81782,     0.81882,     0.81982,     0.82082,     0.82182,     0.82282,     0.82382,     0.82482,     0.82583,     0.82683,     0.82783,     0.82883,     0.82983,     0.83083,     0.83183,     0.83283,     0.83383,     0.83483,     0.83584,     0.83684,     0.83784,     0.83884,     0.83984,\n",
              "           0.84084,     0.84184,     0.84284,     0.84384,     0.84484,     0.84585,     0.84685,     0.84785,     0.84885,     0.84985,     0.85085,     0.85185,     0.85285,     0.85385,     0.85485,     0.85586,     0.85686,     0.85786,     0.85886,     0.85986,     0.86086,     0.86186,     0.86286,     0.86386,\n",
              "           0.86486,     0.86587,     0.86687,     0.86787,     0.86887,     0.86987,     0.87087,     0.87187,     0.87287,     0.87387,     0.87487,     0.87588,     0.87688,     0.87788,     0.87888,     0.87988,     0.88088,     0.88188,     0.88288,     0.88388,     0.88488,     0.88589,     0.88689,     0.88789,\n",
              "           0.88889,     0.88989,     0.89089,     0.89189,     0.89289,     0.89389,     0.89489,      0.8959,      0.8969,      0.8979,      0.8989,      0.8999,      0.9009,      0.9019,      0.9029,      0.9039,      0.9049,     0.90591,     0.90691,     0.90791,     0.90891,     0.90991,     0.91091,     0.91191,\n",
              "           0.91291,     0.91391,     0.91491,     0.91592,     0.91692,     0.91792,     0.91892,     0.91992,     0.92092,     0.92192,     0.92292,     0.92392,     0.92492,     0.92593,     0.92693,     0.92793,     0.92893,     0.92993,     0.93093,     0.93193,     0.93293,     0.93393,     0.93493,     0.93594,\n",
              "           0.93694,     0.93794,     0.93894,     0.93994,     0.94094,     0.94194,     0.94294,     0.94394,     0.94494,     0.94595,     0.94695,     0.94795,     0.94895,     0.94995,     0.95095,     0.95195,     0.95295,     0.95395,     0.95495,     0.95596,     0.95696,     0.95796,     0.95896,     0.95996,\n",
              "           0.96096,     0.96196,     0.96296,     0.96396,     0.96496,     0.96597,     0.96697,     0.96797,     0.96897,     0.96997,     0.97097,     0.97197,     0.97297,     0.97397,     0.97497,     0.97598,     0.97698,     0.97798,     0.97898,     0.97998,     0.98098,     0.98198,     0.98298,     0.98398,\n",
              "           0.98498,     0.98599,     0.98699,     0.98799,     0.98899,     0.98999,     0.99099,     0.99199,     0.99299,     0.99399,     0.99499,       0.996,       0.997,       0.998,       0.999,           1]), array([[   0.062394,     0.06244,    0.096866,     0.12209,     0.14199,     0.15941,     0.17666,     0.18958,     0.20171,     0.21309,     0.22277,     0.23347,     0.24376,      0.2518,      0.2591,     0.27011,     0.27833,     0.28461,     0.29159,      0.2977,     0.30176,     0.30882,     0.31551,\n",
              "            0.32133,     0.32637,     0.33228,     0.33731,     0.34217,     0.34713,     0.35231,     0.35755,     0.36262,     0.36591,     0.37101,     0.37428,      0.3791,     0.38049,      0.3851,     0.38929,     0.39106,     0.39412,     0.40052,      0.4046,     0.40392,      0.4073,     0.40858,\n",
              "            0.41014,     0.41465,      0.4166,     0.41736,     0.42041,     0.42153,     0.42554,     0.42598,     0.42874,     0.43107,      0.4312,     0.43445,     0.43695,     0.43825,     0.44151,     0.44452,     0.44604,     0.44737,     0.44936,     0.44773,     0.45058,     0.45341,     0.45806,\n",
              "            0.46119,     0.46296,     0.46399,     0.46501,     0.46707,     0.46899,     0.47287,     0.47626,      0.4755,     0.47542,     0.47776,     0.48025,     0.48308,     0.48304,     0.48523,     0.48549,     0.48708,     0.48968,      0.4908,     0.49119,     0.48981,     0.49173,     0.49076,\n",
              "            0.49048,     0.48931,     0.49054,     0.49109,     0.49211,     0.49538,      0.4975,     0.49647,     0.49695,     0.49642,     0.49787,     0.49845,     0.50116,     0.50556,     0.50694,     0.50823,     0.51155,     0.51257,     0.51321,     0.51452,     0.51724,     0.51696,     0.51512,\n",
              "            0.51593,     0.51448,     0.51526,     0.51696,     0.51876,     0.51956,     0.52236,     0.52413,     0.52478,     0.52541,     0.52918,     0.53138,     0.53186,     0.53249,     0.53303,     0.53419,     0.53454,     0.53563,     0.53607,      0.5361,     0.53521,     0.53432,     0.53564,\n",
              "            0.53741,     0.53862,     0.54226,     0.54346,      0.5449,     0.54609,     0.54672,     0.54634,     0.54927,     0.55016,     0.55068,     0.55193,     0.55237,      0.5521,     0.55203,     0.55187,     0.55243,     0.55326,     0.55262,     0.55174,     0.55141,     0.55193,     0.55256,\n",
              "            0.55339,      0.5543,     0.55482,      0.5552,     0.55683,      0.5587,     0.55673,     0.55918,     0.56052,     0.56126,     0.56188,     0.56238,     0.56385,     0.56615,      0.5679,      0.5689,     0.56944,     0.57075,     0.57138,     0.57333,     0.57348,     0.57364,      0.5738,\n",
              "            0.57396,     0.57412,      0.5747,     0.57618,     0.57705,     0.57752,     0.57836,     0.58183,     0.58435,     0.58464,     0.58492,     0.58521,     0.58311,     0.58409,     0.58497,     0.58627,      0.5869,     0.58779,     0.58875,     0.58911,     0.58942,     0.58973,     0.59161,\n",
              "            0.59023,      0.5902,     0.59217,     0.59328,      0.5954,     0.59579,     0.59618,     0.59536,     0.59811,     0.59982,     0.60154,     0.59991,     0.60114,     0.60166,     0.60009,     0.59556,     0.59585,     0.59614,     0.59643,     0.59691,     0.59755,      0.5976,     0.59659,\n",
              "            0.59701,     0.59794,     0.59664,      0.5985,     0.59925,     0.59995,     0.60071,     0.59794,     0.59654,     0.59425,     0.59412,     0.59459,     0.59314,     0.59332,     0.59366,     0.59399,     0.59442,      0.5958,     0.59646,     0.59676,     0.59707,     0.59738,     0.59773,\n",
              "            0.59812,      0.5985,     0.59926,     0.59979,     0.60006,     0.60033,     0.60061,     0.60219,     0.60386,      0.6049,     0.60717,      0.6077,     0.60815,      0.6087,     0.60936,     0.61033,      0.6085,     0.60983,     0.61074,     0.61073,       0.609,     0.60943,     0.60985,\n",
              "            0.61127,     0.61152,     0.61177,     0.61202,      0.6124,     0.61357,     0.61407,     0.61455,     0.61482,     0.61509,     0.61536,     0.61563,     0.61648,     0.61881,     0.61935,      0.6196,     0.61986,     0.62011,     0.62156,     0.62239,     0.62028,     0.61951,     0.61895,\n",
              "            0.61839,     0.61782,     0.61728,     0.61677,     0.61627,     0.61577,     0.61526,     0.61484,     0.61536,     0.61588,     0.61636,     0.61684,     0.61608,     0.61549,      0.6138,     0.61317,     0.61339,     0.61362,     0.61384,     0.61407,     0.61446,     0.61508,     0.61562,\n",
              "            0.61609,     0.61656,     0.61828,     0.61904,     0.61971,     0.62141,     0.62162,     0.62182,     0.62202,     0.62222,     0.62243,     0.62331,      0.6215,     0.62153,     0.62209,     0.62253,      0.6229,     0.62326,     0.62366,     0.62417,     0.62468,     0.62308,     0.62307,\n",
              "            0.62531,     0.62506,     0.62408,     0.62311,     0.62367,     0.62441,     0.62526,     0.62573,     0.62604,     0.62635,     0.62667,     0.62373,      0.6229,     0.62207,     0.62125,     0.62112,     0.62135,     0.62158,     0.62181,     0.62204,     0.62203,     0.62118,     0.62033,\n",
              "            0.61948,     0.62081,     0.62107,     0.62132,     0.62157,     0.62183,     0.62142,     0.62036,     0.61929,      0.6173,     0.61386,      0.6138,     0.61413,     0.61446,     0.61482,     0.61541,     0.61601,     0.61636,      0.6167,     0.61704,     0.61744,     0.61796,     0.61849,\n",
              "            0.61638,     0.61538,     0.61438,     0.61483,     0.61584,     0.61681,     0.61757,     0.61812,     0.61847,     0.61881,     0.61915,     0.62061,     0.62082,     0.62102,     0.62122,     0.62143,     0.62163,     0.62183,     0.61918,      0.6194,     0.61989,     0.62018,     0.61991,\n",
              "            0.61963,     0.61935,     0.61907,     0.61879,     0.61851,     0.61823,     0.61795,     0.61767,     0.61739,     0.61679,      0.6161,     0.61542,     0.61473,     0.61465,     0.61512,     0.61558,     0.61639,     0.61563,     0.61684,     0.61721,     0.61758,     0.61794,     0.61722,\n",
              "            0.61618,     0.61514,     0.61487,     0.61282,     0.61085,     0.61316,     0.61349,     0.61382,     0.61415,     0.61424,     0.61375,     0.61326,     0.61277,     0.61228,     0.61179,     0.61143,     0.61208,     0.61238,     0.60884,     0.60747,     0.60693,     0.60785,      0.6082,\n",
              "             0.6085,      0.6088,      0.6091,     0.60884,     0.60784,     0.60684,     0.60636,      0.6068,     0.60724,     0.60692,     0.60509,     0.60395,     0.60318,     0.60241,     0.60165,     0.60082,     0.59996,     0.59911,     0.59825,     0.59927,     0.60113,     0.60155,     0.60197,\n",
              "            0.60208,     0.60157,     0.60106,     0.60056,     0.60005,     0.59954,      0.5995,     0.59838,     0.59814,     0.59976,     0.59843,     0.59661,     0.59492,     0.59364,      0.5938,     0.59396,     0.59412,     0.59428,     0.59444,      0.5946,     0.59476,     0.59492,     0.59227,\n",
              "            0.59206,     0.59243,     0.59279,     0.58984,     0.58932,      0.5888,     0.58827,     0.58775,     0.58723,     0.58671,     0.58582,     0.58485,     0.58388,     0.58357,     0.58412,     0.58467,      0.5859,     0.58285,     0.57984,     0.58052,     0.57982,     0.57818,     0.57752,\n",
              "            0.57763,     0.57773,     0.57784,     0.57794,     0.57804,     0.57815,     0.57825,     0.57835,     0.57846,     0.57856,     0.57866,     0.57877,     0.57844,     0.57762,      0.5768,     0.57597,     0.57489,     0.57343,     0.57212,     0.57234,     0.57256,     0.57278,       0.573,\n",
              "            0.57322,     0.57344,     0.57186,     0.57009,     0.56958,     0.56908,     0.56859,     0.56809,     0.56759,     0.56709,     0.56562,     0.56116,      0.5606,     0.56142,     0.56186,     0.56229,     0.55952,     0.56051,     0.56074,     0.56097,      0.5612,     0.56144,     0.56167,\n",
              "            0.56035,     0.55828,      0.5565,     0.55473,     0.55286,     0.55095,     0.54877,     0.54795,      0.5485,     0.54901,     0.54871,     0.54842,     0.54812,     0.54783,     0.54753,     0.54724,     0.54694,     0.54664,     0.54635,     0.54605,     0.54576,     0.54546,     0.54644,\n",
              "            0.54341,     0.54089,     0.53878,     0.53699,     0.53103,     0.53009,     0.53035,     0.53061,     0.53086,     0.53111,     0.53235,      0.5315,     0.53027,     0.52904,     0.52914,     0.52933,     0.52951,      0.5297,     0.52989,     0.53007,     0.53025,     0.53127,     0.52802,\n",
              "            0.52828,     0.52853,     0.52879,     0.52904,     0.52913,     0.52815,     0.52718,      0.5262,     0.52143,     0.52035,     0.51926,     0.51817,     0.51654,     0.51478,      0.5133,     0.51199,     0.51068,     0.50944,     0.50823,     0.50701,     0.50486,     0.50367,      0.5034,\n",
              "            0.50312,     0.50285,     0.50258,     0.50231,     0.50204,     0.50176,     0.50149,     0.50122,     0.50095,     0.50067,      0.5004,     0.50013,     0.49795,     0.49718,     0.49529,      0.4934,     0.49211,     0.49081,     0.48951,     0.48983,      0.4902,     0.49056,      0.4911,\n",
              "            0.49187,     0.49182,     0.49149,     0.49117,     0.49084,     0.49052,     0.49019,     0.48987,     0.48954,     0.48922,     0.48889,     0.48857,     0.48824,     0.48451,     0.48282,     0.48152,     0.48022,      0.4808,     0.47925,     0.47771,      0.4781,     0.47809,     0.47751,\n",
              "            0.47692,     0.47634,     0.47575,     0.47517,     0.47458,     0.47301,     0.47095,       0.465,     0.46333,      0.4639,     0.46446,     0.46176,     0.46067,     0.46152,     0.45707,     0.45436,     0.45224,     0.45068,     0.44912,     0.44739,     0.44561,     0.44011,     0.43957,\n",
              "            0.43903,     0.43849,     0.43795,     0.43741,     0.43687,     0.43633,     0.43578,     0.43144,     0.42869,     0.42518,     0.42112,     0.41893,     0.41995,     0.42013,     0.41886,     0.41759,     0.41632,     0.41624,     0.41663,     0.41703,     0.41353,     0.41199,     0.41124,\n",
              "            0.41048,     0.40973,     0.40897,     0.40821,     0.40581,     0.40269,     0.39876,     0.39775,     0.39675,     0.39575,     0.39474,      0.3935,       0.392,     0.39049,     0.38642,     0.38307,     0.38089,     0.37529,     0.37465,     0.37401,     0.37337,     0.37272,     0.37208,\n",
              "            0.37144,      0.3708,     0.36931,     0.36741,     0.36559,     0.36427,     0.36294,     0.36161,     0.35799,     0.35529,     0.35411,     0.35293,     0.35174,      0.3503,     0.34865,     0.34698,     0.34297,     0.33433,     0.33007,     0.32831,     0.32654,     0.32451,     0.32243,\n",
              "            0.31606,     0.31478,      0.3135,     0.31223,     0.31091,     0.30828,     0.30553,     0.30125,     0.28999,     0.28933,     0.28866,       0.288,     0.28734,     0.28668,     0.28601,     0.28535,     0.28352,     0.27862,     0.27585,     0.26913,     0.25706,     0.25225,     0.25089,\n",
              "            0.24952,     0.24816,     0.24678,     0.24508,     0.24338,     0.24167,     0.24026,     0.23893,     0.23761,     0.23628,     0.23514,     0.23417,     0.23319,     0.23222,     0.23124,     0.23027,     0.22942,     0.22862,     0.22781,     0.22701,      0.2262,      0.2254,     0.22459,\n",
              "            0.22292,      0.2209,     0.21888,     0.21252,     0.20982,     0.20711,     0.20626,      0.2054,     0.20455,     0.20369,     0.20283,     0.20197,     0.19718,     0.19307,     0.19045,     0.18822,     0.18618,     0.18415,     0.17565,     0.17276,     0.16861,     0.16412,     0.16043,\n",
              "            0.15696,     0.15357,     0.14976,     0.14663,     0.14499,     0.14335,     0.14171,     0.13899,     0.13529,     0.13418,     0.13359,     0.13299,     0.13239,     0.13179,     0.13119,      0.1306,        0.13,      0.1294,      0.1288,      0.1285,     0.12851,     0.12669,     0.12486,\n",
              "            0.12304,     0.12035,     0.11725,     0.11429,     0.11141,      0.1076,     0.10278,     0.10092,    0.099051,    0.097179,    0.095878,    0.094866,    0.093852,    0.092837,    0.091822,    0.090805,    0.083101,    0.081452,      0.0798,    0.078145,    0.076559,    0.075601,    0.074642,\n",
              "           0.073682,    0.072721,    0.071759,    0.070796,    0.069109,    0.062974,    0.062295,    0.061616,    0.060936,    0.060256,    0.059575,    0.058894,    0.058213,     0.05753,    0.056848,    0.054609,    0.049098,      0.0476,    0.046099,    0.044597,    0.043092,    0.035106,    0.032785,\n",
              "           0.030458,    0.028376,    0.027354,    0.026331,    0.025306,    0.024281,    0.023254,    0.022227,     0.02113,    0.019873,    0.018615,    0.017355,    0.016093,     0.01483,    0.014041,    0.013507,    0.012972,    0.012438,    0.011903,    0.011368,    0.010832,    0.010296,   0.0097602,\n",
              "          0.0092238,   0.0086871,   0.0081501,   0.0076129,           0,           0,           0,           0,           0,           0,           0,           0,           0,           0,           0,           0,           0,           0,           0,           0,           0,           0,           0,\n",
              "                  0,           0,           0,           0,           0,           0,           0,           0,           0,           0,           0,           0,           0,           0,           0,           0,           0,           0,           0,           0,           0,           0,           0,\n",
              "                  0,           0,           0,           0,           0,           0,           0,           0,           0,           0,           0]]), 'Confidence', 'F1'], [array([          0,    0.001001,    0.002002,    0.003003,    0.004004,    0.005005,    0.006006,    0.007007,    0.008008,    0.009009,     0.01001,    0.011011,    0.012012,    0.013013,    0.014014,    0.015015,    0.016016,    0.017017,    0.018018,    0.019019,     0.02002,    0.021021,    0.022022,    0.023023,\n",
              "          0.024024,    0.025025,    0.026026,    0.027027,    0.028028,    0.029029,     0.03003,    0.031031,    0.032032,    0.033033,    0.034034,    0.035035,    0.036036,    0.037037,    0.038038,    0.039039,     0.04004,    0.041041,    0.042042,    0.043043,    0.044044,    0.045045,    0.046046,    0.047047,\n",
              "          0.048048,    0.049049,     0.05005,    0.051051,    0.052052,    0.053053,    0.054054,    0.055055,    0.056056,    0.057057,    0.058058,    0.059059,     0.06006,    0.061061,    0.062062,    0.063063,    0.064064,    0.065065,    0.066066,    0.067067,    0.068068,    0.069069,     0.07007,    0.071071,\n",
              "          0.072072,    0.073073,    0.074074,    0.075075,    0.076076,    0.077077,    0.078078,    0.079079,     0.08008,    0.081081,    0.082082,    0.083083,    0.084084,    0.085085,    0.086086,    0.087087,    0.088088,    0.089089,     0.09009,    0.091091,    0.092092,    0.093093,    0.094094,    0.095095,\n",
              "          0.096096,    0.097097,    0.098098,    0.099099,      0.1001,      0.1011,      0.1021,      0.1031,      0.1041,     0.10511,     0.10611,     0.10711,     0.10811,     0.10911,     0.11011,     0.11111,     0.11211,     0.11311,     0.11411,     0.11512,     0.11612,     0.11712,     0.11812,     0.11912,\n",
              "           0.12012,     0.12112,     0.12212,     0.12312,     0.12412,     0.12513,     0.12613,     0.12713,     0.12813,     0.12913,     0.13013,     0.13113,     0.13213,     0.13313,     0.13413,     0.13514,     0.13614,     0.13714,     0.13814,     0.13914,     0.14014,     0.14114,     0.14214,     0.14314,\n",
              "           0.14414,     0.14515,     0.14615,     0.14715,     0.14815,     0.14915,     0.15015,     0.15115,     0.15215,     0.15315,     0.15415,     0.15516,     0.15616,     0.15716,     0.15816,     0.15916,     0.16016,     0.16116,     0.16216,     0.16316,     0.16416,     0.16517,     0.16617,     0.16717,\n",
              "           0.16817,     0.16917,     0.17017,     0.17117,     0.17217,     0.17317,     0.17417,     0.17518,     0.17618,     0.17718,     0.17818,     0.17918,     0.18018,     0.18118,     0.18218,     0.18318,     0.18418,     0.18519,     0.18619,     0.18719,     0.18819,     0.18919,     0.19019,     0.19119,\n",
              "           0.19219,     0.19319,     0.19419,      0.1952,      0.1962,      0.1972,      0.1982,      0.1992,      0.2002,      0.2012,      0.2022,      0.2032,      0.2042,     0.20521,     0.20621,     0.20721,     0.20821,     0.20921,     0.21021,     0.21121,     0.21221,     0.21321,     0.21421,     0.21522,\n",
              "           0.21622,     0.21722,     0.21822,     0.21922,     0.22022,     0.22122,     0.22222,     0.22322,     0.22422,     0.22523,     0.22623,     0.22723,     0.22823,     0.22923,     0.23023,     0.23123,     0.23223,     0.23323,     0.23423,     0.23524,     0.23624,     0.23724,     0.23824,     0.23924,\n",
              "           0.24024,     0.24124,     0.24224,     0.24324,     0.24424,     0.24525,     0.24625,     0.24725,     0.24825,     0.24925,     0.25025,     0.25125,     0.25225,     0.25325,     0.25425,     0.25526,     0.25626,     0.25726,     0.25826,     0.25926,     0.26026,     0.26126,     0.26226,     0.26326,\n",
              "           0.26426,     0.26527,     0.26627,     0.26727,     0.26827,     0.26927,     0.27027,     0.27127,     0.27227,     0.27327,     0.27427,     0.27528,     0.27628,     0.27728,     0.27828,     0.27928,     0.28028,     0.28128,     0.28228,     0.28328,     0.28428,     0.28529,     0.28629,     0.28729,\n",
              "           0.28829,     0.28929,     0.29029,     0.29129,     0.29229,     0.29329,     0.29429,      0.2953,      0.2963,      0.2973,      0.2983,      0.2993,      0.3003,      0.3013,      0.3023,      0.3033,      0.3043,     0.30531,     0.30631,     0.30731,     0.30831,     0.30931,     0.31031,     0.31131,\n",
              "           0.31231,     0.31331,     0.31431,     0.31532,     0.31632,     0.31732,     0.31832,     0.31932,     0.32032,     0.32132,     0.32232,     0.32332,     0.32432,     0.32533,     0.32633,     0.32733,     0.32833,     0.32933,     0.33033,     0.33133,     0.33233,     0.33333,     0.33433,     0.33534,\n",
              "           0.33634,     0.33734,     0.33834,     0.33934,     0.34034,     0.34134,     0.34234,     0.34334,     0.34434,     0.34535,     0.34635,     0.34735,     0.34835,     0.34935,     0.35035,     0.35135,     0.35235,     0.35335,     0.35435,     0.35536,     0.35636,     0.35736,     0.35836,     0.35936,\n",
              "           0.36036,     0.36136,     0.36236,     0.36336,     0.36436,     0.36537,     0.36637,     0.36737,     0.36837,     0.36937,     0.37037,     0.37137,     0.37237,     0.37337,     0.37437,     0.37538,     0.37638,     0.37738,     0.37838,     0.37938,     0.38038,     0.38138,     0.38238,     0.38338,\n",
              "           0.38438,     0.38539,     0.38639,     0.38739,     0.38839,     0.38939,     0.39039,     0.39139,     0.39239,     0.39339,     0.39439,      0.3954,      0.3964,      0.3974,      0.3984,      0.3994,      0.4004,      0.4014,      0.4024,      0.4034,      0.4044,     0.40541,     0.40641,     0.40741,\n",
              "           0.40841,     0.40941,     0.41041,     0.41141,     0.41241,     0.41341,     0.41441,     0.41542,     0.41642,     0.41742,     0.41842,     0.41942,     0.42042,     0.42142,     0.42242,     0.42342,     0.42442,     0.42543,     0.42643,     0.42743,     0.42843,     0.42943,     0.43043,     0.43143,\n",
              "           0.43243,     0.43343,     0.43443,     0.43544,     0.43644,     0.43744,     0.43844,     0.43944,     0.44044,     0.44144,     0.44244,     0.44344,     0.44444,     0.44545,     0.44645,     0.44745,     0.44845,     0.44945,     0.45045,     0.45145,     0.45245,     0.45345,     0.45445,     0.45546,\n",
              "           0.45646,     0.45746,     0.45846,     0.45946,     0.46046,     0.46146,     0.46246,     0.46346,     0.46446,     0.46547,     0.46647,     0.46747,     0.46847,     0.46947,     0.47047,     0.47147,     0.47247,     0.47347,     0.47447,     0.47548,     0.47648,     0.47748,     0.47848,     0.47948,\n",
              "           0.48048,     0.48148,     0.48248,     0.48348,     0.48448,     0.48549,     0.48649,     0.48749,     0.48849,     0.48949,     0.49049,     0.49149,     0.49249,     0.49349,     0.49449,      0.4955,      0.4965,      0.4975,      0.4985,      0.4995,      0.5005,      0.5015,      0.5025,      0.5035,\n",
              "            0.5045,     0.50551,     0.50651,     0.50751,     0.50851,     0.50951,     0.51051,     0.51151,     0.51251,     0.51351,     0.51451,     0.51552,     0.51652,     0.51752,     0.51852,     0.51952,     0.52052,     0.52152,     0.52252,     0.52352,     0.52452,     0.52553,     0.52653,     0.52753,\n",
              "           0.52853,     0.52953,     0.53053,     0.53153,     0.53253,     0.53353,     0.53453,     0.53554,     0.53654,     0.53754,     0.53854,     0.53954,     0.54054,     0.54154,     0.54254,     0.54354,     0.54454,     0.54555,     0.54655,     0.54755,     0.54855,     0.54955,     0.55055,     0.55155,\n",
              "           0.55255,     0.55355,     0.55455,     0.55556,     0.55656,     0.55756,     0.55856,     0.55956,     0.56056,     0.56156,     0.56256,     0.56356,     0.56456,     0.56557,     0.56657,     0.56757,     0.56857,     0.56957,     0.57057,     0.57157,     0.57257,     0.57357,     0.57457,     0.57558,\n",
              "           0.57658,     0.57758,     0.57858,     0.57958,     0.58058,     0.58158,     0.58258,     0.58358,     0.58458,     0.58559,     0.58659,     0.58759,     0.58859,     0.58959,     0.59059,     0.59159,     0.59259,     0.59359,     0.59459,      0.5956,      0.5966,      0.5976,      0.5986,      0.5996,\n",
              "            0.6006,      0.6016,      0.6026,      0.6036,      0.6046,     0.60561,     0.60661,     0.60761,     0.60861,     0.60961,     0.61061,     0.61161,     0.61261,     0.61361,     0.61461,     0.61562,     0.61662,     0.61762,     0.61862,     0.61962,     0.62062,     0.62162,     0.62262,     0.62362,\n",
              "           0.62462,     0.62563,     0.62663,     0.62763,     0.62863,     0.62963,     0.63063,     0.63163,     0.63263,     0.63363,     0.63463,     0.63564,     0.63664,     0.63764,     0.63864,     0.63964,     0.64064,     0.64164,     0.64264,     0.64364,     0.64464,     0.64565,     0.64665,     0.64765,\n",
              "           0.64865,     0.64965,     0.65065,     0.65165,     0.65265,     0.65365,     0.65465,     0.65566,     0.65666,     0.65766,     0.65866,     0.65966,     0.66066,     0.66166,     0.66266,     0.66366,     0.66466,     0.66567,     0.66667,     0.66767,     0.66867,     0.66967,     0.67067,     0.67167,\n",
              "           0.67267,     0.67367,     0.67467,     0.67568,     0.67668,     0.67768,     0.67868,     0.67968,     0.68068,     0.68168,     0.68268,     0.68368,     0.68468,     0.68569,     0.68669,     0.68769,     0.68869,     0.68969,     0.69069,     0.69169,     0.69269,     0.69369,     0.69469,      0.6957,\n",
              "            0.6967,      0.6977,      0.6987,      0.6997,      0.7007,      0.7017,      0.7027,      0.7037,      0.7047,     0.70571,     0.70671,     0.70771,     0.70871,     0.70971,     0.71071,     0.71171,     0.71271,     0.71371,     0.71471,     0.71572,     0.71672,     0.71772,     0.71872,     0.71972,\n",
              "           0.72072,     0.72172,     0.72272,     0.72372,     0.72472,     0.72573,     0.72673,     0.72773,     0.72873,     0.72973,     0.73073,     0.73173,     0.73273,     0.73373,     0.73473,     0.73574,     0.73674,     0.73774,     0.73874,     0.73974,     0.74074,     0.74174,     0.74274,     0.74374,\n",
              "           0.74474,     0.74575,     0.74675,     0.74775,     0.74875,     0.74975,     0.75075,     0.75175,     0.75275,     0.75375,     0.75475,     0.75576,     0.75676,     0.75776,     0.75876,     0.75976,     0.76076,     0.76176,     0.76276,     0.76376,     0.76476,     0.76577,     0.76677,     0.76777,\n",
              "           0.76877,     0.76977,     0.77077,     0.77177,     0.77277,     0.77377,     0.77477,     0.77578,     0.77678,     0.77778,     0.77878,     0.77978,     0.78078,     0.78178,     0.78278,     0.78378,     0.78478,     0.78579,     0.78679,     0.78779,     0.78879,     0.78979,     0.79079,     0.79179,\n",
              "           0.79279,     0.79379,     0.79479,      0.7958,      0.7968,      0.7978,      0.7988,      0.7998,      0.8008,      0.8018,      0.8028,      0.8038,      0.8048,     0.80581,     0.80681,     0.80781,     0.80881,     0.80981,     0.81081,     0.81181,     0.81281,     0.81381,     0.81481,     0.81582,\n",
              "           0.81682,     0.81782,     0.81882,     0.81982,     0.82082,     0.82182,     0.82282,     0.82382,     0.82482,     0.82583,     0.82683,     0.82783,     0.82883,     0.82983,     0.83083,     0.83183,     0.83283,     0.83383,     0.83483,     0.83584,     0.83684,     0.83784,     0.83884,     0.83984,\n",
              "           0.84084,     0.84184,     0.84284,     0.84384,     0.84484,     0.84585,     0.84685,     0.84785,     0.84885,     0.84985,     0.85085,     0.85185,     0.85285,     0.85385,     0.85485,     0.85586,     0.85686,     0.85786,     0.85886,     0.85986,     0.86086,     0.86186,     0.86286,     0.86386,\n",
              "           0.86486,     0.86587,     0.86687,     0.86787,     0.86887,     0.86987,     0.87087,     0.87187,     0.87287,     0.87387,     0.87487,     0.87588,     0.87688,     0.87788,     0.87888,     0.87988,     0.88088,     0.88188,     0.88288,     0.88388,     0.88488,     0.88589,     0.88689,     0.88789,\n",
              "           0.88889,     0.88989,     0.89089,     0.89189,     0.89289,     0.89389,     0.89489,      0.8959,      0.8969,      0.8979,      0.8989,      0.8999,      0.9009,      0.9019,      0.9029,      0.9039,      0.9049,     0.90591,     0.90691,     0.90791,     0.90891,     0.90991,     0.91091,     0.91191,\n",
              "           0.91291,     0.91391,     0.91491,     0.91592,     0.91692,     0.91792,     0.91892,     0.91992,     0.92092,     0.92192,     0.92292,     0.92392,     0.92492,     0.92593,     0.92693,     0.92793,     0.92893,     0.92993,     0.93093,     0.93193,     0.93293,     0.93393,     0.93493,     0.93594,\n",
              "           0.93694,     0.93794,     0.93894,     0.93994,     0.94094,     0.94194,     0.94294,     0.94394,     0.94494,     0.94595,     0.94695,     0.94795,     0.94895,     0.94995,     0.95095,     0.95195,     0.95295,     0.95395,     0.95495,     0.95596,     0.95696,     0.95796,     0.95896,     0.95996,\n",
              "           0.96096,     0.96196,     0.96296,     0.96396,     0.96496,     0.96597,     0.96697,     0.96797,     0.96897,     0.96997,     0.97097,     0.97197,     0.97297,     0.97397,     0.97497,     0.97598,     0.97698,     0.97798,     0.97898,     0.97998,     0.98098,     0.98198,     0.98298,     0.98398,\n",
              "           0.98498,     0.98599,     0.98699,     0.98799,     0.98899,     0.98999,     0.99099,     0.99199,     0.99299,     0.99399,     0.99499,       0.996,       0.997,       0.998,       0.999,           1]), array([[   0.032274,    0.032299,    0.051158,    0.065513,    0.077219,    0.087748,     0.09832,      0.1065,     0.11434,     0.12178,     0.12848,     0.13565,     0.14286,     0.14854,     0.15377,     0.16173,     0.16766,     0.17256,     0.17772,     0.18228,     0.18552,     0.19089,     0.19603,\n",
              "            0.20077,     0.20496,     0.20964,     0.21366,     0.21784,     0.22188,     0.22613,     0.23046,     0.23469,     0.23746,     0.24177,      0.2449,     0.24904,     0.25097,       0.255,     0.25869,     0.26025,     0.26297,      0.2687,     0.27239,      0.2726,     0.27619,     0.27784,\n",
              "            0.27928,     0.28348,     0.28531,     0.28652,      0.2894,     0.29099,     0.29482,     0.29579,     0.29846,     0.30072,     0.30199,      0.3052,     0.30767,     0.30896,     0.31242,     0.31586,      0.3174,      0.3194,     0.32145,     0.32098,     0.32406,       0.327,     0.33186,\n",
              "            0.33516,     0.33703,     0.33888,     0.33998,     0.34218,     0.34425,     0.34844,     0.35226,     0.35214,      0.3529,     0.35549,     0.35825,     0.36141,     0.36226,     0.36473,     0.36595,     0.36776,     0.37073,     0.37202,     0.37247,     0.37185,     0.37407,     0.37393,\n",
              "            0.37435,     0.37526,     0.37672,     0.37738,     0.37964,     0.38355,     0.38609,     0.38576,     0.38681,     0.38703,     0.38878,     0.38949,     0.39281,     0.39826,     0.39997,     0.40158,     0.40574,     0.40702,     0.40782,     0.40948,     0.41294,     0.41391,     0.41284,\n",
              "            0.41388,     0.41326,     0.41434,     0.41654,     0.41889,     0.41993,      0.4236,     0.42594,     0.42679,     0.42763,     0.43265,      0.4356,     0.43624,     0.43708,     0.43782,     0.43939,     0.43986,     0.44134,     0.44194,     0.44218,     0.44162,     0.44106,     0.44289,\n",
              "            0.44532,     0.44698,     0.45201,     0.45368,     0.45569,     0.45736,     0.45824,     0.45938,     0.46354,      0.4648,     0.46554,     0.46734,     0.46797,     0.46811,     0.46924,      0.4708,     0.47161,     0.47283,     0.47253,     0.47198,     0.47195,     0.47272,     0.47364,\n",
              "            0.47486,      0.4762,     0.47697,     0.47753,     0.47994,     0.48274,     0.48157,     0.48539,     0.48742,     0.48853,     0.48948,     0.49024,     0.49247,     0.49599,     0.49869,     0.50022,     0.50106,      0.5031,     0.50409,     0.50712,     0.50737,     0.50761,     0.50786,\n",
              "            0.50811,     0.50836,     0.50928,      0.5116,     0.51297,     0.51372,     0.51505,     0.52057,     0.52463,     0.52509,     0.52555,     0.52601,      0.5257,     0.52888,     0.53274,     0.53491,     0.53595,     0.53743,     0.53905,     0.53964,     0.54016,     0.54069,     0.54387,\n",
              "            0.54317,     0.54403,     0.54738,     0.54929,     0.55294,     0.55362,     0.55429,     0.55556,     0.56036,     0.56338,     0.56643,     0.56636,     0.56857,     0.56948,     0.56957,     0.56728,      0.5678,     0.56833,     0.56885,     0.56973,      0.5709,     0.57225,     0.57217,\n",
              "            0.57294,     0.57466,     0.57535,     0.57882,     0.58022,     0.58154,     0.58298,     0.58181,       0.581,     0.57967,     0.58022,     0.58125,     0.58041,     0.58202,     0.58266,      0.5833,     0.58413,      0.5868,     0.58808,     0.58868,     0.58928,     0.58988,     0.59057,\n",
              "            0.59132,     0.59207,     0.59355,     0.59459,     0.59513,     0.59567,      0.5962,     0.59934,     0.60265,     0.60472,     0.60928,     0.61034,     0.61125,     0.61237,     0.61372,     0.61568,     0.61571,     0.61845,     0.62032,     0.62134,     0.62059,     0.62148,     0.62237,\n",
              "            0.62533,     0.62585,     0.62638,      0.6269,     0.62769,     0.63017,     0.63122,     0.63223,      0.6328,     0.63338,     0.63395,     0.63452,     0.63633,     0.64131,     0.64248,     0.64303,     0.64357,     0.64412,     0.64726,     0.64905,     0.64835,     0.64794,     0.64764,\n",
              "            0.64734,     0.64704,     0.64675,     0.64648,     0.64621,     0.64594,     0.64567,     0.64551,     0.64665,      0.6478,     0.64887,     0.64993,     0.65004,      0.6514,     0.65082,     0.65072,     0.65123,     0.65174,     0.65225,     0.65276,     0.65363,     0.65504,     0.65627,\n",
              "            0.65734,     0.65841,     0.66234,      0.6641,     0.66563,     0.66958,     0.67005,     0.67052,     0.67099,     0.67147,     0.67194,     0.67486,     0.67394,     0.67475,     0.67608,     0.67712,     0.67798,     0.67885,      0.6798,     0.68101,     0.68222,     0.68155,     0.68349,\n",
              "            0.68892,     0.68962,     0.68913,     0.68864,      0.6902,     0.69202,     0.69412,     0.69525,     0.69603,      0.6968,     0.69758,     0.70135,     0.70095,     0.70054,     0.70014,     0.70039,     0.70098,     0.70156,     0.70215,     0.70274,      0.7031,     0.70269,     0.70227,\n",
              "            0.70186,     0.70539,     0.70605,      0.7067,     0.70735,     0.70801,     0.70808,     0.70756,     0.70705,     0.70608,      0.7044,     0.70503,      0.7059,     0.70677,     0.70771,      0.7093,     0.71088,      0.7118,     0.71272,     0.71363,     0.71469,     0.71611,     0.71752,\n",
              "            0.71952,     0.71905,     0.71857,     0.72044,      0.7232,     0.72589,       0.728,     0.72954,     0.73049,     0.73145,     0.73241,     0.73651,     0.73709,     0.73766,     0.73823,      0.7388,     0.73938,     0.73995,      0.7388,     0.73998,     0.74137,     0.74239,     0.74227,\n",
              "            0.74214,     0.74202,     0.74189,     0.74177,     0.74164,     0.74152,     0.74139,     0.74127,     0.74114,     0.74087,     0.74056,     0.74025,     0.73994,      0.7405,     0.74186,     0.74321,     0.74714,     0.75074,     0.75435,     0.75545,     0.75655,     0.75765,     0.75755,\n",
              "             0.7571,     0.75665,     0.75999,     0.75911,     0.75949,     0.76667,      0.7677,     0.76873,     0.76976,     0.77043,     0.77023,     0.77002,     0.76982,     0.76962,     0.76941,     0.76946,     0.77152,     0.77335,     0.77188,     0.77131,     0.77204,     0.77503,     0.77618,\n",
              "            0.77715,     0.77813,     0.77911,     0.77949,     0.77908,     0.77867,     0.77894,     0.78041,     0.78188,     0.78261,     0.78187,     0.78141,      0.7811,     0.78078,     0.78047,     0.78014,     0.77979,     0.77943,     0.77908,     0.78264,     0.78904,     0.79049,     0.79194,\n",
              "            0.79283,     0.79263,     0.79244,     0.79224,     0.79204,     0.79184,     0.79308,     0.79561,     0.79821,     0.80401,     0.80429,     0.80361,     0.80297,      0.8026,     0.80319,     0.80377,     0.80436,     0.80494,     0.80553,     0.80611,      0.8067,     0.80729,     0.80645,\n",
              "            0.80743,      0.8088,     0.81017,     0.81012,     0.80992,     0.80973,     0.80954,     0.80934,     0.80915,     0.80895,     0.80862,     0.80826,      0.8079,     0.80861,     0.81072,     0.81283,     0.81761,     0.81703,     0.81737,     0.82008,     0.82084,     0.82026,     0.82024,\n",
              "            0.82066,     0.82108,      0.8215,     0.82192,     0.82234,     0.82276,     0.82318,      0.8236,     0.82402,     0.82444,     0.82486,     0.82528,     0.82537,     0.82508,     0.82479,      0.8245,     0.82412,      0.8236,     0.82322,     0.82413,     0.82504,     0.82595,     0.82686,\n",
              "            0.82777,     0.82868,     0.82821,     0.82759,     0.82741,     0.82724,     0.82706,     0.82689,     0.82671,     0.82654,     0.82602,     0.82443,     0.82739,     0.83096,     0.83288,      0.8348,     0.83669,     0.84113,     0.84217,     0.84322,     0.84427,     0.84532,     0.84637,\n",
              "            0.84627,      0.8456,     0.84502,     0.84444,     0.84382,     0.84319,     0.84247,     0.84341,     0.84599,     0.84848,     0.84839,     0.84829,     0.84819,      0.8481,       0.848,     0.84791,     0.84781,     0.84771,     0.84762,     0.84752,     0.84743,     0.84733,     0.85211,\n",
              "            0.85278,     0.85197,     0.85129,     0.85072,     0.84878,     0.85533,     0.85666,       0.858,     0.85933,     0.86066,     0.86719,     0.86851,     0.86815,     0.86779,     0.86871,     0.86972,     0.87072,     0.87172,     0.87273,     0.87373,     0.87474,     0.88225,     0.88194,\n",
              "            0.88337,      0.8848,     0.88623,     0.88765,     0.88886,     0.88861,     0.88836,     0.88811,     0.88688,     0.88659,     0.88631,     0.88602,     0.88559,     0.88513,     0.88473,     0.88438,     0.88403,     0.88369,     0.88336,     0.88303,     0.89016,     0.88985,     0.88978,\n",
              "            0.88971,     0.88963,     0.88956,     0.88949,     0.88942,     0.88935,     0.88928,     0.88921,     0.88914,     0.88906,     0.88899,     0.88892,     0.88835,     0.89618,      0.8957,     0.89523,      0.8949,     0.89457,     0.89424,     0.89662,     0.89908,     0.90153,      0.9052,\n",
              "            0.91045,     0.91171,     0.91164,     0.91157,      0.9115,     0.91143,     0.91136,     0.91128,     0.91121,     0.91114,     0.91107,       0.911,     0.91093,      0.9101,     0.90973,     0.90943,     0.90914,     0.91827,     0.91795,     0.91763,     0.92409,     0.92701,      0.9269,\n",
              "            0.92679,     0.92668,     0.92657,     0.92646,     0.92635,     0.92605,     0.92566,     0.92451,     0.93499,     0.93965,      0.9443,     0.94404,      0.9472,     0.95438,     0.95399,     0.95365,     0.95339,     0.95319,     0.95299,     0.95276,     0.95253,     0.95181,     0.95173,\n",
              "            0.95166,     0.95159,     0.95152,     0.95144,     0.95137,      0.9513,     0.95122,     0.95063,     0.95024,     0.94974,     0.94916,     0.95758,     0.96828,     0.97366,     0.97356,     0.97346,     0.97336,     0.97645,     0.98082,     0.98519,     0.98634,     0.98628,     0.98624,\n",
              "            0.98621,     0.98618,     0.98615,     0.98612,     0.98602,     0.98588,     0.98571,     0.98567,     0.98562,     0.98558,     0.98553,     0.98548,     0.98541,     0.98534,     0.98515,     0.98499,     0.98489,     0.98461,     0.98458,     0.98455,     0.98451,     0.98448,     0.98445,\n",
              "            0.98442,     0.98439,     0.98431,     0.98421,     0.98412,     0.98405,     0.98398,     0.98391,     0.98371,     0.98356,      0.9835,     0.98343,     0.98336,     0.98328,     0.98319,     0.98309,     0.98286,     0.98233,     0.98206,     0.98195,     0.98183,      0.9817,     0.98156,\n",
              "            0.98113,     0.98104,     0.98095,     0.98086,     0.98076,     0.98057,     0.98037,     0.98005,     0.97916,      0.9791,     0.97904,     0.97899,     0.97893,     0.97888,     0.97882,     0.97877,     0.97861,     0.97818,     0.97793,     0.97731,     0.97611,      0.9756,     0.97545,\n",
              "             0.9753,     0.97515,     0.97499,      0.9748,      0.9746,     0.97441,     0.97424,     0.97408,     0.97392,     0.97376,     0.97362,     0.97349,     0.97337,     0.97325,     0.97313,       0.973,     0.97289,     0.97279,     0.97268,     0.97257,     0.97247,     0.97236,     0.97225,\n",
              "            0.97202,     0.97174,     0.97146,     0.97053,     0.97011,      0.9697,     0.96956,     0.96942,     0.96928,     0.96914,       0.969,     0.96886,     0.96804,     0.96731,     0.96683,     0.96641,     0.96602,     0.96562,     0.96385,     0.96321,     0.96225,     0.96117,     0.96024,\n",
              "            0.95932,      0.9584,     0.95728,     0.95635,     0.95583,     0.95531,     0.95479,     0.95387,     0.95259,     0.95219,     0.95197,     0.95174,     0.95151,     0.95129,     0.95106,     0.95084,     0.95061,     0.95038,     0.95016,     0.96327,           1,           1,           1,\n",
              "                  1,           1,           1,           1,           1,           1,           1,           1,           1,           1,           1,           1,           1,           1,           1,           1,           1,           1,           1,           1,           1,           1,           1,\n",
              "                  1,           1,           1,           1,           1,           1,           1,           1,           1,           1,           1,           1,           1,           1,           1,           1,           1,           1,           1,           1,           1,           1,           1,\n",
              "                  1,           1,           1,           1,           1,           1,           1,           1,           1,           1,           1,           1,           1,           1,           1,           1,           1,           1,           1,           1,           1,           1,           1,\n",
              "                  1,           1,           1,           1,           1,           1,           1,           1,           1,           1,           1,           1,           1,           1,           1,           1,           1,           1,           1,           1,           1,           1,           1,\n",
              "                  1,           1,           1,           1,           1,           1,           1,           1,           1,           1,           1,           1,           1,           1,           1,           1,           1,           1,           1,           1,           1,           1,           1,\n",
              "                  1,           1,           1,           1,           1,           1,           1,           1,           1,           1,           1]]), 'Confidence', 'Precision'], [array([          0,    0.001001,    0.002002,    0.003003,    0.004004,    0.005005,    0.006006,    0.007007,    0.008008,    0.009009,     0.01001,    0.011011,    0.012012,    0.013013,    0.014014,    0.015015,    0.016016,    0.017017,    0.018018,    0.019019,     0.02002,    0.021021,    0.022022,    0.023023,\n",
              "          0.024024,    0.025025,    0.026026,    0.027027,    0.028028,    0.029029,     0.03003,    0.031031,    0.032032,    0.033033,    0.034034,    0.035035,    0.036036,    0.037037,    0.038038,    0.039039,     0.04004,    0.041041,    0.042042,    0.043043,    0.044044,    0.045045,    0.046046,    0.047047,\n",
              "          0.048048,    0.049049,     0.05005,    0.051051,    0.052052,    0.053053,    0.054054,    0.055055,    0.056056,    0.057057,    0.058058,    0.059059,     0.06006,    0.061061,    0.062062,    0.063063,    0.064064,    0.065065,    0.066066,    0.067067,    0.068068,    0.069069,     0.07007,    0.071071,\n",
              "          0.072072,    0.073073,    0.074074,    0.075075,    0.076076,    0.077077,    0.078078,    0.079079,     0.08008,    0.081081,    0.082082,    0.083083,    0.084084,    0.085085,    0.086086,    0.087087,    0.088088,    0.089089,     0.09009,    0.091091,    0.092092,    0.093093,    0.094094,    0.095095,\n",
              "          0.096096,    0.097097,    0.098098,    0.099099,      0.1001,      0.1011,      0.1021,      0.1031,      0.1041,     0.10511,     0.10611,     0.10711,     0.10811,     0.10911,     0.11011,     0.11111,     0.11211,     0.11311,     0.11411,     0.11512,     0.11612,     0.11712,     0.11812,     0.11912,\n",
              "           0.12012,     0.12112,     0.12212,     0.12312,     0.12412,     0.12513,     0.12613,     0.12713,     0.12813,     0.12913,     0.13013,     0.13113,     0.13213,     0.13313,     0.13413,     0.13514,     0.13614,     0.13714,     0.13814,     0.13914,     0.14014,     0.14114,     0.14214,     0.14314,\n",
              "           0.14414,     0.14515,     0.14615,     0.14715,     0.14815,     0.14915,     0.15015,     0.15115,     0.15215,     0.15315,     0.15415,     0.15516,     0.15616,     0.15716,     0.15816,     0.15916,     0.16016,     0.16116,     0.16216,     0.16316,     0.16416,     0.16517,     0.16617,     0.16717,\n",
              "           0.16817,     0.16917,     0.17017,     0.17117,     0.17217,     0.17317,     0.17417,     0.17518,     0.17618,     0.17718,     0.17818,     0.17918,     0.18018,     0.18118,     0.18218,     0.18318,     0.18418,     0.18519,     0.18619,     0.18719,     0.18819,     0.18919,     0.19019,     0.19119,\n",
              "           0.19219,     0.19319,     0.19419,      0.1952,      0.1962,      0.1972,      0.1982,      0.1992,      0.2002,      0.2012,      0.2022,      0.2032,      0.2042,     0.20521,     0.20621,     0.20721,     0.20821,     0.20921,     0.21021,     0.21121,     0.21221,     0.21321,     0.21421,     0.21522,\n",
              "           0.21622,     0.21722,     0.21822,     0.21922,     0.22022,     0.22122,     0.22222,     0.22322,     0.22422,     0.22523,     0.22623,     0.22723,     0.22823,     0.22923,     0.23023,     0.23123,     0.23223,     0.23323,     0.23423,     0.23524,     0.23624,     0.23724,     0.23824,     0.23924,\n",
              "           0.24024,     0.24124,     0.24224,     0.24324,     0.24424,     0.24525,     0.24625,     0.24725,     0.24825,     0.24925,     0.25025,     0.25125,     0.25225,     0.25325,     0.25425,     0.25526,     0.25626,     0.25726,     0.25826,     0.25926,     0.26026,     0.26126,     0.26226,     0.26326,\n",
              "           0.26426,     0.26527,     0.26627,     0.26727,     0.26827,     0.26927,     0.27027,     0.27127,     0.27227,     0.27327,     0.27427,     0.27528,     0.27628,     0.27728,     0.27828,     0.27928,     0.28028,     0.28128,     0.28228,     0.28328,     0.28428,     0.28529,     0.28629,     0.28729,\n",
              "           0.28829,     0.28929,     0.29029,     0.29129,     0.29229,     0.29329,     0.29429,      0.2953,      0.2963,      0.2973,      0.2983,      0.2993,      0.3003,      0.3013,      0.3023,      0.3033,      0.3043,     0.30531,     0.30631,     0.30731,     0.30831,     0.30931,     0.31031,     0.31131,\n",
              "           0.31231,     0.31331,     0.31431,     0.31532,     0.31632,     0.31732,     0.31832,     0.31932,     0.32032,     0.32132,     0.32232,     0.32332,     0.32432,     0.32533,     0.32633,     0.32733,     0.32833,     0.32933,     0.33033,     0.33133,     0.33233,     0.33333,     0.33433,     0.33534,\n",
              "           0.33634,     0.33734,     0.33834,     0.33934,     0.34034,     0.34134,     0.34234,     0.34334,     0.34434,     0.34535,     0.34635,     0.34735,     0.34835,     0.34935,     0.35035,     0.35135,     0.35235,     0.35335,     0.35435,     0.35536,     0.35636,     0.35736,     0.35836,     0.35936,\n",
              "           0.36036,     0.36136,     0.36236,     0.36336,     0.36436,     0.36537,     0.36637,     0.36737,     0.36837,     0.36937,     0.37037,     0.37137,     0.37237,     0.37337,     0.37437,     0.37538,     0.37638,     0.37738,     0.37838,     0.37938,     0.38038,     0.38138,     0.38238,     0.38338,\n",
              "           0.38438,     0.38539,     0.38639,     0.38739,     0.38839,     0.38939,     0.39039,     0.39139,     0.39239,     0.39339,     0.39439,      0.3954,      0.3964,      0.3974,      0.3984,      0.3994,      0.4004,      0.4014,      0.4024,      0.4034,      0.4044,     0.40541,     0.40641,     0.40741,\n",
              "           0.40841,     0.40941,     0.41041,     0.41141,     0.41241,     0.41341,     0.41441,     0.41542,     0.41642,     0.41742,     0.41842,     0.41942,     0.42042,     0.42142,     0.42242,     0.42342,     0.42442,     0.42543,     0.42643,     0.42743,     0.42843,     0.42943,     0.43043,     0.43143,\n",
              "           0.43243,     0.43343,     0.43443,     0.43544,     0.43644,     0.43744,     0.43844,     0.43944,     0.44044,     0.44144,     0.44244,     0.44344,     0.44444,     0.44545,     0.44645,     0.44745,     0.44845,     0.44945,     0.45045,     0.45145,     0.45245,     0.45345,     0.45445,     0.45546,\n",
              "           0.45646,     0.45746,     0.45846,     0.45946,     0.46046,     0.46146,     0.46246,     0.46346,     0.46446,     0.46547,     0.46647,     0.46747,     0.46847,     0.46947,     0.47047,     0.47147,     0.47247,     0.47347,     0.47447,     0.47548,     0.47648,     0.47748,     0.47848,     0.47948,\n",
              "           0.48048,     0.48148,     0.48248,     0.48348,     0.48448,     0.48549,     0.48649,     0.48749,     0.48849,     0.48949,     0.49049,     0.49149,     0.49249,     0.49349,     0.49449,      0.4955,      0.4965,      0.4975,      0.4985,      0.4995,      0.5005,      0.5015,      0.5025,      0.5035,\n",
              "            0.5045,     0.50551,     0.50651,     0.50751,     0.50851,     0.50951,     0.51051,     0.51151,     0.51251,     0.51351,     0.51451,     0.51552,     0.51652,     0.51752,     0.51852,     0.51952,     0.52052,     0.52152,     0.52252,     0.52352,     0.52452,     0.52553,     0.52653,     0.52753,\n",
              "           0.52853,     0.52953,     0.53053,     0.53153,     0.53253,     0.53353,     0.53453,     0.53554,     0.53654,     0.53754,     0.53854,     0.53954,     0.54054,     0.54154,     0.54254,     0.54354,     0.54454,     0.54555,     0.54655,     0.54755,     0.54855,     0.54955,     0.55055,     0.55155,\n",
              "           0.55255,     0.55355,     0.55455,     0.55556,     0.55656,     0.55756,     0.55856,     0.55956,     0.56056,     0.56156,     0.56256,     0.56356,     0.56456,     0.56557,     0.56657,     0.56757,     0.56857,     0.56957,     0.57057,     0.57157,     0.57257,     0.57357,     0.57457,     0.57558,\n",
              "           0.57658,     0.57758,     0.57858,     0.57958,     0.58058,     0.58158,     0.58258,     0.58358,     0.58458,     0.58559,     0.58659,     0.58759,     0.58859,     0.58959,     0.59059,     0.59159,     0.59259,     0.59359,     0.59459,      0.5956,      0.5966,      0.5976,      0.5986,      0.5996,\n",
              "            0.6006,      0.6016,      0.6026,      0.6036,      0.6046,     0.60561,     0.60661,     0.60761,     0.60861,     0.60961,     0.61061,     0.61161,     0.61261,     0.61361,     0.61461,     0.61562,     0.61662,     0.61762,     0.61862,     0.61962,     0.62062,     0.62162,     0.62262,     0.62362,\n",
              "           0.62462,     0.62563,     0.62663,     0.62763,     0.62863,     0.62963,     0.63063,     0.63163,     0.63263,     0.63363,     0.63463,     0.63564,     0.63664,     0.63764,     0.63864,     0.63964,     0.64064,     0.64164,     0.64264,     0.64364,     0.64464,     0.64565,     0.64665,     0.64765,\n",
              "           0.64865,     0.64965,     0.65065,     0.65165,     0.65265,     0.65365,     0.65465,     0.65566,     0.65666,     0.65766,     0.65866,     0.65966,     0.66066,     0.66166,     0.66266,     0.66366,     0.66466,     0.66567,     0.66667,     0.66767,     0.66867,     0.66967,     0.67067,     0.67167,\n",
              "           0.67267,     0.67367,     0.67467,     0.67568,     0.67668,     0.67768,     0.67868,     0.67968,     0.68068,     0.68168,     0.68268,     0.68368,     0.68468,     0.68569,     0.68669,     0.68769,     0.68869,     0.68969,     0.69069,     0.69169,     0.69269,     0.69369,     0.69469,      0.6957,\n",
              "            0.6967,      0.6977,      0.6987,      0.6997,      0.7007,      0.7017,      0.7027,      0.7037,      0.7047,     0.70571,     0.70671,     0.70771,     0.70871,     0.70971,     0.71071,     0.71171,     0.71271,     0.71371,     0.71471,     0.71572,     0.71672,     0.71772,     0.71872,     0.71972,\n",
              "           0.72072,     0.72172,     0.72272,     0.72372,     0.72472,     0.72573,     0.72673,     0.72773,     0.72873,     0.72973,     0.73073,     0.73173,     0.73273,     0.73373,     0.73473,     0.73574,     0.73674,     0.73774,     0.73874,     0.73974,     0.74074,     0.74174,     0.74274,     0.74374,\n",
              "           0.74474,     0.74575,     0.74675,     0.74775,     0.74875,     0.74975,     0.75075,     0.75175,     0.75275,     0.75375,     0.75475,     0.75576,     0.75676,     0.75776,     0.75876,     0.75976,     0.76076,     0.76176,     0.76276,     0.76376,     0.76476,     0.76577,     0.76677,     0.76777,\n",
              "           0.76877,     0.76977,     0.77077,     0.77177,     0.77277,     0.77377,     0.77477,     0.77578,     0.77678,     0.77778,     0.77878,     0.77978,     0.78078,     0.78178,     0.78278,     0.78378,     0.78478,     0.78579,     0.78679,     0.78779,     0.78879,     0.78979,     0.79079,     0.79179,\n",
              "           0.79279,     0.79379,     0.79479,      0.7958,      0.7968,      0.7978,      0.7988,      0.7998,      0.8008,      0.8018,      0.8028,      0.8038,      0.8048,     0.80581,     0.80681,     0.80781,     0.80881,     0.80981,     0.81081,     0.81181,     0.81281,     0.81381,     0.81481,     0.81582,\n",
              "           0.81682,     0.81782,     0.81882,     0.81982,     0.82082,     0.82182,     0.82282,     0.82382,     0.82482,     0.82583,     0.82683,     0.82783,     0.82883,     0.82983,     0.83083,     0.83183,     0.83283,     0.83383,     0.83483,     0.83584,     0.83684,     0.83784,     0.83884,     0.83984,\n",
              "           0.84084,     0.84184,     0.84284,     0.84384,     0.84484,     0.84585,     0.84685,     0.84785,     0.84885,     0.84985,     0.85085,     0.85185,     0.85285,     0.85385,     0.85485,     0.85586,     0.85686,     0.85786,     0.85886,     0.85986,     0.86086,     0.86186,     0.86286,     0.86386,\n",
              "           0.86486,     0.86587,     0.86687,     0.86787,     0.86887,     0.86987,     0.87087,     0.87187,     0.87287,     0.87387,     0.87487,     0.87588,     0.87688,     0.87788,     0.87888,     0.87988,     0.88088,     0.88188,     0.88288,     0.88388,     0.88488,     0.88589,     0.88689,     0.88789,\n",
              "           0.88889,     0.88989,     0.89089,     0.89189,     0.89289,     0.89389,     0.89489,      0.8959,      0.8969,      0.8979,      0.8989,      0.8999,      0.9009,      0.9019,      0.9029,      0.9039,      0.9049,     0.90591,     0.90691,     0.90791,     0.90891,     0.90991,     0.91091,     0.91191,\n",
              "           0.91291,     0.91391,     0.91491,     0.91592,     0.91692,     0.91792,     0.91892,     0.91992,     0.92092,     0.92192,     0.92292,     0.92392,     0.92492,     0.92593,     0.92693,     0.92793,     0.92893,     0.92993,     0.93093,     0.93193,     0.93293,     0.93393,     0.93493,     0.93594,\n",
              "           0.93694,     0.93794,     0.93894,     0.93994,     0.94094,     0.94194,     0.94294,     0.94394,     0.94494,     0.94595,     0.94695,     0.94795,     0.94895,     0.94995,     0.95095,     0.95195,     0.95295,     0.95395,     0.95495,     0.95596,     0.95696,     0.95796,     0.95896,     0.95996,\n",
              "           0.96096,     0.96196,     0.96296,     0.96396,     0.96496,     0.96597,     0.96697,     0.96797,     0.96897,     0.96997,     0.97097,     0.97197,     0.97297,     0.97397,     0.97497,     0.97598,     0.97698,     0.97798,     0.97898,     0.97998,     0.98098,     0.98198,     0.98298,     0.98398,\n",
              "           0.98498,     0.98599,     0.98699,     0.98799,     0.98899,     0.98999,     0.99099,     0.99199,     0.99299,     0.99399,     0.99499,       0.996,       0.997,       0.998,       0.999,           1]), array([[    0.93478,     0.93478,     0.90942,     0.89493,     0.88043,     0.86957,     0.86957,     0.86232,     0.85507,     0.85145,     0.83696,     0.83696,     0.82971,     0.82609,     0.82246,     0.81884,     0.81884,     0.81159,     0.81159,     0.81159,     0.80797,     0.80797,     0.80797,\n",
              "            0.80435,     0.80072,     0.80072,     0.80072,      0.7971,      0.7971,      0.7971,      0.7971,      0.7971,      0.7971,      0.7971,     0.79348,     0.79348,     0.78623,     0.78623,     0.78623,     0.78623,     0.78623,     0.78623,     0.78623,     0.77938,     0.77536,     0.77174,\n",
              "            0.77174,     0.77174,     0.77174,     0.76812,     0.76812,     0.76449,     0.76449,     0.76087,     0.76087,     0.76087,     0.75362,     0.75362,     0.75362,     0.75362,     0.75237,        0.75,        0.75,     0.74644,     0.74638,      0.7399,     0.73913,     0.73913,     0.73913,\n",
              "            0.73913,     0.73913,     0.73551,     0.73551,     0.73551,     0.73551,     0.73551,     0.73497,     0.73188,     0.72826,     0.72826,     0.72826,     0.72826,     0.72464,     0.72464,     0.72101,     0.72101,     0.72101,     0.72101,     0.72101,     0.71739,     0.71739,     0.71377,\n",
              "            0.71107,     0.70295,      0.7029,      0.7029,     0.69928,     0.69928,     0.69928,      0.6963,      0.6948,     0.69203,     0.69203,     0.69203,     0.69203,     0.69203,     0.69203,     0.69203,     0.69203,     0.69203,     0.69203,     0.69203,     0.69203,     0.68832,     0.68478,\n",
              "            0.68478,     0.68136,     0.68116,     0.68116,     0.68116,     0.68116,     0.68116,     0.68116,     0.68116,     0.68116,     0.68116,     0.68116,     0.68116,     0.68116,     0.68116,     0.68116,     0.68116,     0.68116,     0.68116,     0.68068,     0.67914,      0.6776,     0.67754,\n",
              "            0.67754,     0.67754,     0.67754,     0.67754,     0.67754,     0.67754,     0.67754,     0.67391,     0.67391,     0.67391,     0.67391,     0.67391,     0.67391,     0.67282,     0.67029,     0.66667,     0.66667,     0.66667,      0.6654,     0.66393,     0.66304,     0.66304,     0.66304,\n",
              "            0.66304,     0.66304,     0.66304,     0.66304,     0.66304,     0.66304,     0.65967,     0.65942,     0.65942,     0.65942,     0.65942,     0.65942,     0.65942,     0.65942,     0.65942,     0.65942,     0.65942,     0.65942,     0.65942,     0.65942,     0.65942,     0.65942,     0.65942,\n",
              "            0.65942,     0.65942,     0.65942,     0.65942,     0.65942,     0.65942,     0.65942,     0.65942,     0.65942,     0.65942,     0.65942,     0.65942,     0.65459,     0.65217,     0.64855,     0.64855,     0.64855,     0.64855,     0.64855,     0.64855,     0.64855,     0.64855,     0.64855,\n",
              "            0.64621,     0.64493,     0.64493,     0.64493,     0.64493,     0.64493,     0.64493,      0.6413,      0.6413,      0.6413,      0.6413,     0.63768,     0.63768,     0.63768,     0.63406,     0.62681,     0.62681,     0.62681,     0.62681,     0.62681,     0.62681,     0.62529,     0.62319,\n",
              "            0.62319,     0.62319,     0.61957,     0.61957,     0.61957,     0.61957,     0.61957,     0.61499,     0.61293,     0.60959,      0.6087,     0.60854,     0.60644,     0.60507,     0.60507,     0.60507,     0.60507,     0.60507,     0.60507,     0.60507,     0.60507,     0.60507,     0.60507,\n",
              "            0.60507,     0.60507,     0.60507,     0.60507,     0.60507,     0.60507,     0.60507,     0.60507,     0.60507,     0.60507,     0.60507,     0.60507,     0.60507,     0.60507,     0.60507,     0.60507,     0.60145,     0.60145,     0.60145,     0.60047,     0.59783,     0.59783,     0.59783,\n",
              "            0.59783,     0.59783,     0.59783,     0.59783,     0.59783,     0.59783,     0.59783,     0.59783,     0.59783,     0.59783,     0.59783,     0.59783,     0.59783,     0.59783,     0.59783,     0.59783,     0.59783,     0.59783,     0.59783,     0.59783,     0.59454,     0.59348,     0.59269,\n",
              "            0.59191,     0.59113,     0.59037,     0.58968,     0.58898,     0.58829,     0.58759,     0.58696,     0.58696,     0.58696,     0.58696,     0.58696,      0.5855,     0.58333,     0.58076,     0.57971,     0.57971,     0.57971,     0.57971,     0.57971,     0.57971,     0.57971,     0.57971,\n",
              "            0.57971,     0.57971,     0.57971,     0.57971,     0.57971,     0.57971,     0.57971,     0.57971,     0.57971,     0.57971,     0.57971,     0.57907,     0.57664,     0.57609,     0.57609,     0.57609,     0.57609,     0.57609,     0.57609,     0.57609,     0.57609,     0.57384,     0.57246,\n",
              "            0.57246,     0.57156,     0.57026,     0.56896,     0.56884,     0.56884,     0.56884,     0.56884,     0.56884,     0.56884,     0.56884,     0.56158,      0.5605,     0.55942,     0.55833,     0.55797,     0.55797,     0.55797,     0.55797,     0.55797,     0.55773,     0.55662,     0.55552,\n",
              "            0.55441,     0.55435,     0.55435,     0.55435,     0.55435,     0.55435,     0.55366,     0.55229,     0.55091,     0.54836,     0.54395,     0.54348,     0.54348,     0.54348,     0.54348,     0.54348,     0.54348,     0.54348,     0.54348,     0.54348,     0.54348,     0.54348,     0.54348,\n",
              "             0.5391,     0.53783,     0.53657,     0.53623,     0.53623,     0.53623,     0.53623,     0.53623,     0.53623,     0.53623,     0.53623,     0.53623,     0.53623,     0.53623,     0.53623,     0.53623,     0.53623,     0.53623,      0.5329,     0.53261,     0.53261,     0.53252,     0.53218,\n",
              "            0.53183,     0.53148,     0.53113,     0.53079,     0.53044,     0.53009,     0.52975,      0.5294,     0.52905,      0.5283,     0.52746,     0.52661,     0.52577,     0.52536,     0.52536,     0.52536,     0.52459,     0.52174,     0.52174,     0.52174,     0.52174,     0.52174,     0.52075,\n",
              "            0.51948,     0.51822,     0.51628,     0.51381,     0.51087,     0.51087,     0.51087,     0.51087,     0.51087,      0.5107,     0.51011,     0.50953,     0.50894,     0.50835,     0.50777,     0.50725,     0.50725,     0.50687,     0.50266,     0.50104,         0.5,         0.5,         0.5,\n",
              "                0.5,         0.5,         0.5,     0.49949,     0.49831,     0.49713,     0.49638,     0.49638,     0.49638,     0.49565,     0.49351,     0.49218,     0.49128,     0.49039,     0.48949,     0.48853,     0.48754,     0.48654,     0.48554,     0.48551,     0.48551,     0.48551,     0.48551,\n",
              "            0.48531,     0.48473,     0.48414,     0.48356,     0.48298,     0.48239,     0.48188,     0.47952,     0.47826,     0.47826,     0.47647,     0.47442,      0.4725,     0.47101,     0.47101,     0.47101,     0.47101,     0.47101,     0.47101,     0.47101,     0.47101,     0.47101,     0.46798,\n",
              "            0.46739,     0.46739,     0.46739,     0.46374,     0.46316,     0.46258,       0.462,     0.46142,     0.46084,     0.46026,     0.45928,      0.4582,     0.45713,     0.45652,     0.45652,     0.45652,     0.45652,     0.45301,     0.44928,     0.44928,     0.44822,     0.44643,     0.44565,\n",
              "            0.44565,     0.44565,     0.44565,     0.44565,     0.44565,     0.44565,     0.44565,     0.44565,     0.44565,     0.44565,     0.44565,     0.44565,     0.44524,     0.44435,     0.44346,     0.44257,     0.44141,     0.43983,     0.43841,     0.43841,     0.43841,     0.43841,     0.43841,\n",
              "            0.43841,     0.43841,      0.4367,      0.4348,     0.43426,     0.43373,      0.4332,     0.43267,     0.43214,     0.43161,     0.43005,     0.42534,     0.42391,     0.42391,     0.42391,     0.42391,     0.42029,     0.42029,     0.42029,     0.42029,     0.42029,     0.42029,     0.42029,\n",
              "            0.41885,     0.41669,     0.41486,     0.41303,     0.41111,     0.40915,     0.40691,      0.4058,      0.4058,     0.40579,     0.40549,     0.40519,     0.40488,     0.40458,     0.40428,     0.40398,     0.40368,     0.40338,     0.40308,     0.40278,     0.40248,     0.40218,     0.40217,\n",
              "            0.39875,     0.39622,      0.3941,     0.39232,     0.38639,     0.38406,     0.38406,     0.38406,     0.38406,     0.38406,     0.38406,     0.38291,     0.38171,     0.38051,     0.38043,     0.38043,     0.38043,     0.38043,     0.38043,     0.38043,     0.38043,     0.38007,     0.37681,\n",
              "            0.37681,     0.37681,     0.37681,     0.37681,     0.37668,     0.37574,      0.3748,     0.37385,     0.36927,     0.36823,     0.36719,     0.36615,      0.3646,     0.36293,     0.36153,     0.36029,     0.35904,     0.35787,     0.35673,     0.35559,     0.35235,     0.35124,     0.35098,\n",
              "            0.35073,     0.35048,     0.35022,     0.34997,     0.34972,     0.34946,     0.34921,     0.34896,      0.3487,     0.34845,      0.3482,     0.34795,     0.34593,     0.34402,     0.34227,     0.34055,     0.33936,     0.33817,     0.33699,     0.33696,     0.33696,     0.33696,     0.33696,\n",
              "            0.33696,     0.33674,     0.33644,     0.33615,     0.33585,     0.33556,     0.33526,     0.33497,     0.33467,     0.33438,     0.33408,     0.33379,     0.33349,     0.33013,     0.32862,     0.32745,     0.32628,     0.32565,     0.32428,      0.3229,     0.32246,     0.32211,     0.32159,\n",
              "            0.32107,     0.32056,     0.32004,     0.31952,     0.31901,     0.31762,     0.31581,     0.31061,     0.30797,     0.30797,     0.30797,     0.30563,     0.30435,     0.30435,     0.30053,     0.29822,     0.29642,      0.2951,     0.29379,     0.29233,     0.29083,     0.28623,     0.28578,\n",
              "            0.28533,     0.28488,     0.28443,     0.28398,     0.28353,     0.28308,     0.28263,     0.27904,     0.27678,      0.2739,     0.27059,     0.26812,     0.26812,     0.26785,     0.26683,     0.26581,     0.26479,     0.26449,     0.26449,     0.26449,     0.26161,     0.26038,     0.25978,\n",
              "            0.25918,     0.25858,     0.25798,     0.25738,     0.25548,     0.25302,     0.24993,     0.24915,     0.24836,     0.24758,      0.2468,     0.24583,     0.24466,     0.24349,     0.24035,     0.23777,      0.2361,     0.23182,     0.23134,     0.23085,     0.23036,     0.22988,     0.22939,\n",
              "             0.2289,     0.22842,     0.22729,     0.22586,      0.2245,      0.2235,      0.2225,     0.22151,     0.21881,      0.2168,     0.21593,     0.21505,     0.21418,     0.21311,     0.21189,     0.21067,     0.20773,     0.20145,     0.19837,      0.1971,     0.19584,     0.19438,      0.1929,\n",
              "            0.18837,     0.18747,     0.18656,     0.18566,     0.18474,     0.18289,     0.18096,     0.17798,      0.1702,     0.16974,     0.16929,     0.16884,     0.16838,     0.16793,     0.16747,     0.16702,     0.16577,     0.16245,     0.16057,     0.15605,     0.14802,     0.14485,     0.14396,\n",
              "            0.14306,     0.14217,     0.14127,     0.14016,     0.13905,     0.13794,     0.13702,     0.13617,     0.13531,     0.13445,     0.13372,     0.13309,     0.13246,     0.13184,     0.13121,     0.13058,     0.13004,     0.12953,     0.12901,      0.1285,     0.12799,     0.12747,     0.12696,\n",
              "            0.12589,     0.12461,     0.12333,     0.11933,     0.11763,     0.11594,     0.11541,     0.11487,     0.11434,      0.1138,     0.11327,     0.11274,     0.10977,     0.10723,     0.10563,     0.10426,     0.10302,     0.10178,    0.096632,    0.094891,    0.092398,    0.089721,    0.087525,\n",
              "           0.085473,     0.08347,    0.081234,    0.079401,    0.078446,    0.077491,    0.076536,    0.074956,    0.072818,    0.072177,    0.071833,    0.071489,    0.071145,    0.070801,    0.070457,    0.070113,    0.069769,    0.069425,    0.069081,    0.068841,    0.068665,    0.067627,    0.066589,\n",
              "            0.06555,    0.064029,    0.062279,    0.060609,     0.05899,    0.056857,    0.054176,    0.053141,    0.052106,    0.051071,    0.050353,    0.049795,    0.049237,    0.048678,     0.04812,    0.047562,    0.043352,    0.042455,    0.041558,    0.040661,    0.039803,    0.039285,    0.038768,\n",
              "            0.03825,    0.037732,    0.037215,    0.036697,    0.035791,    0.032511,    0.032149,    0.031787,    0.031426,    0.031064,    0.030702,    0.030341,    0.029979,    0.029617,    0.029255,    0.028071,    0.025167,     0.02438,    0.023594,    0.022807,     0.02202,    0.017867,    0.016666,\n",
              "           0.015465,    0.014392,    0.013867,    0.013341,    0.012815,     0.01229,    0.011764,    0.011238,    0.010678,    0.010036,   0.0093948,   0.0087533,   0.0081118,   0.0074702,   0.0070701,   0.0067993,   0.0065286,   0.0062578,   0.0059871,   0.0057163,   0.0054455,   0.0051748,    0.004904,\n",
              "          0.0046333,   0.0043625,   0.0040917,    0.003821,           0,           0,           0,           0,           0,           0,           0,           0,           0,           0,           0,           0,           0,           0,           0,           0,           0,           0,           0,\n",
              "                  0,           0,           0,           0,           0,           0,           0,           0,           0,           0,           0,           0,           0,           0,           0,           0,           0,           0,           0,           0,           0,           0,           0,\n",
              "                  0,           0,           0,           0,           0,           0,           0,           0,           0,           0,           0]]), 'Confidence', 'Recall'], [array([          0,    0.001001,    0.002002,    0.003003,    0.004004,    0.005005,    0.006006,    0.007007,    0.008008,    0.009009,     0.01001,    0.011011,    0.012012,    0.013013,    0.014014,    0.015015,    0.016016,    0.017017,    0.018018,    0.019019,     0.02002,    0.021021,    0.022022,    0.023023,\n",
              "          0.024024,    0.025025,    0.026026,    0.027027,    0.028028,    0.029029,     0.03003,    0.031031,    0.032032,    0.033033,    0.034034,    0.035035,    0.036036,    0.037037,    0.038038,    0.039039,     0.04004,    0.041041,    0.042042,    0.043043,    0.044044,    0.045045,    0.046046,    0.047047,\n",
              "          0.048048,    0.049049,     0.05005,    0.051051,    0.052052,    0.053053,    0.054054,    0.055055,    0.056056,    0.057057,    0.058058,    0.059059,     0.06006,    0.061061,    0.062062,    0.063063,    0.064064,    0.065065,    0.066066,    0.067067,    0.068068,    0.069069,     0.07007,    0.071071,\n",
              "          0.072072,    0.073073,    0.074074,    0.075075,    0.076076,    0.077077,    0.078078,    0.079079,     0.08008,    0.081081,    0.082082,    0.083083,    0.084084,    0.085085,    0.086086,    0.087087,    0.088088,    0.089089,     0.09009,    0.091091,    0.092092,    0.093093,    0.094094,    0.095095,\n",
              "          0.096096,    0.097097,    0.098098,    0.099099,      0.1001,      0.1011,      0.1021,      0.1031,      0.1041,     0.10511,     0.10611,     0.10711,     0.10811,     0.10911,     0.11011,     0.11111,     0.11211,     0.11311,     0.11411,     0.11512,     0.11612,     0.11712,     0.11812,     0.11912,\n",
              "           0.12012,     0.12112,     0.12212,     0.12312,     0.12412,     0.12513,     0.12613,     0.12713,     0.12813,     0.12913,     0.13013,     0.13113,     0.13213,     0.13313,     0.13413,     0.13514,     0.13614,     0.13714,     0.13814,     0.13914,     0.14014,     0.14114,     0.14214,     0.14314,\n",
              "           0.14414,     0.14515,     0.14615,     0.14715,     0.14815,     0.14915,     0.15015,     0.15115,     0.15215,     0.15315,     0.15415,     0.15516,     0.15616,     0.15716,     0.15816,     0.15916,     0.16016,     0.16116,     0.16216,     0.16316,     0.16416,     0.16517,     0.16617,     0.16717,\n",
              "           0.16817,     0.16917,     0.17017,     0.17117,     0.17217,     0.17317,     0.17417,     0.17518,     0.17618,     0.17718,     0.17818,     0.17918,     0.18018,     0.18118,     0.18218,     0.18318,     0.18418,     0.18519,     0.18619,     0.18719,     0.18819,     0.18919,     0.19019,     0.19119,\n",
              "           0.19219,     0.19319,     0.19419,      0.1952,      0.1962,      0.1972,      0.1982,      0.1992,      0.2002,      0.2012,      0.2022,      0.2032,      0.2042,     0.20521,     0.20621,     0.20721,     0.20821,     0.20921,     0.21021,     0.21121,     0.21221,     0.21321,     0.21421,     0.21522,\n",
              "           0.21622,     0.21722,     0.21822,     0.21922,     0.22022,     0.22122,     0.22222,     0.22322,     0.22422,     0.22523,     0.22623,     0.22723,     0.22823,     0.22923,     0.23023,     0.23123,     0.23223,     0.23323,     0.23423,     0.23524,     0.23624,     0.23724,     0.23824,     0.23924,\n",
              "           0.24024,     0.24124,     0.24224,     0.24324,     0.24424,     0.24525,     0.24625,     0.24725,     0.24825,     0.24925,     0.25025,     0.25125,     0.25225,     0.25325,     0.25425,     0.25526,     0.25626,     0.25726,     0.25826,     0.25926,     0.26026,     0.26126,     0.26226,     0.26326,\n",
              "           0.26426,     0.26527,     0.26627,     0.26727,     0.26827,     0.26927,     0.27027,     0.27127,     0.27227,     0.27327,     0.27427,     0.27528,     0.27628,     0.27728,     0.27828,     0.27928,     0.28028,     0.28128,     0.28228,     0.28328,     0.28428,     0.28529,     0.28629,     0.28729,\n",
              "           0.28829,     0.28929,     0.29029,     0.29129,     0.29229,     0.29329,     0.29429,      0.2953,      0.2963,      0.2973,      0.2983,      0.2993,      0.3003,      0.3013,      0.3023,      0.3033,      0.3043,     0.30531,     0.30631,     0.30731,     0.30831,     0.30931,     0.31031,     0.31131,\n",
              "           0.31231,     0.31331,     0.31431,     0.31532,     0.31632,     0.31732,     0.31832,     0.31932,     0.32032,     0.32132,     0.32232,     0.32332,     0.32432,     0.32533,     0.32633,     0.32733,     0.32833,     0.32933,     0.33033,     0.33133,     0.33233,     0.33333,     0.33433,     0.33534,\n",
              "           0.33634,     0.33734,     0.33834,     0.33934,     0.34034,     0.34134,     0.34234,     0.34334,     0.34434,     0.34535,     0.34635,     0.34735,     0.34835,     0.34935,     0.35035,     0.35135,     0.35235,     0.35335,     0.35435,     0.35536,     0.35636,     0.35736,     0.35836,     0.35936,\n",
              "           0.36036,     0.36136,     0.36236,     0.36336,     0.36436,     0.36537,     0.36637,     0.36737,     0.36837,     0.36937,     0.37037,     0.37137,     0.37237,     0.37337,     0.37437,     0.37538,     0.37638,     0.37738,     0.37838,     0.37938,     0.38038,     0.38138,     0.38238,     0.38338,\n",
              "           0.38438,     0.38539,     0.38639,     0.38739,     0.38839,     0.38939,     0.39039,     0.39139,     0.39239,     0.39339,     0.39439,      0.3954,      0.3964,      0.3974,      0.3984,      0.3994,      0.4004,      0.4014,      0.4024,      0.4034,      0.4044,     0.40541,     0.40641,     0.40741,\n",
              "           0.40841,     0.40941,     0.41041,     0.41141,     0.41241,     0.41341,     0.41441,     0.41542,     0.41642,     0.41742,     0.41842,     0.41942,     0.42042,     0.42142,     0.42242,     0.42342,     0.42442,     0.42543,     0.42643,     0.42743,     0.42843,     0.42943,     0.43043,     0.43143,\n",
              "           0.43243,     0.43343,     0.43443,     0.43544,     0.43644,     0.43744,     0.43844,     0.43944,     0.44044,     0.44144,     0.44244,     0.44344,     0.44444,     0.44545,     0.44645,     0.44745,     0.44845,     0.44945,     0.45045,     0.45145,     0.45245,     0.45345,     0.45445,     0.45546,\n",
              "           0.45646,     0.45746,     0.45846,     0.45946,     0.46046,     0.46146,     0.46246,     0.46346,     0.46446,     0.46547,     0.46647,     0.46747,     0.46847,     0.46947,     0.47047,     0.47147,     0.47247,     0.47347,     0.47447,     0.47548,     0.47648,     0.47748,     0.47848,     0.47948,\n",
              "           0.48048,     0.48148,     0.48248,     0.48348,     0.48448,     0.48549,     0.48649,     0.48749,     0.48849,     0.48949,     0.49049,     0.49149,     0.49249,     0.49349,     0.49449,      0.4955,      0.4965,      0.4975,      0.4985,      0.4995,      0.5005,      0.5015,      0.5025,      0.5035,\n",
              "            0.5045,     0.50551,     0.50651,     0.50751,     0.50851,     0.50951,     0.51051,     0.51151,     0.51251,     0.51351,     0.51451,     0.51552,     0.51652,     0.51752,     0.51852,     0.51952,     0.52052,     0.52152,     0.52252,     0.52352,     0.52452,     0.52553,     0.52653,     0.52753,\n",
              "           0.52853,     0.52953,     0.53053,     0.53153,     0.53253,     0.53353,     0.53453,     0.53554,     0.53654,     0.53754,     0.53854,     0.53954,     0.54054,     0.54154,     0.54254,     0.54354,     0.54454,     0.54555,     0.54655,     0.54755,     0.54855,     0.54955,     0.55055,     0.55155,\n",
              "           0.55255,     0.55355,     0.55455,     0.55556,     0.55656,     0.55756,     0.55856,     0.55956,     0.56056,     0.56156,     0.56256,     0.56356,     0.56456,     0.56557,     0.56657,     0.56757,     0.56857,     0.56957,     0.57057,     0.57157,     0.57257,     0.57357,     0.57457,     0.57558,\n",
              "           0.57658,     0.57758,     0.57858,     0.57958,     0.58058,     0.58158,     0.58258,     0.58358,     0.58458,     0.58559,     0.58659,     0.58759,     0.58859,     0.58959,     0.59059,     0.59159,     0.59259,     0.59359,     0.59459,      0.5956,      0.5966,      0.5976,      0.5986,      0.5996,\n",
              "            0.6006,      0.6016,      0.6026,      0.6036,      0.6046,     0.60561,     0.60661,     0.60761,     0.60861,     0.60961,     0.61061,     0.61161,     0.61261,     0.61361,     0.61461,     0.61562,     0.61662,     0.61762,     0.61862,     0.61962,     0.62062,     0.62162,     0.62262,     0.62362,\n",
              "           0.62462,     0.62563,     0.62663,     0.62763,     0.62863,     0.62963,     0.63063,     0.63163,     0.63263,     0.63363,     0.63463,     0.63564,     0.63664,     0.63764,     0.63864,     0.63964,     0.64064,     0.64164,     0.64264,     0.64364,     0.64464,     0.64565,     0.64665,     0.64765,\n",
              "           0.64865,     0.64965,     0.65065,     0.65165,     0.65265,     0.65365,     0.65465,     0.65566,     0.65666,     0.65766,     0.65866,     0.65966,     0.66066,     0.66166,     0.66266,     0.66366,     0.66466,     0.66567,     0.66667,     0.66767,     0.66867,     0.66967,     0.67067,     0.67167,\n",
              "           0.67267,     0.67367,     0.67467,     0.67568,     0.67668,     0.67768,     0.67868,     0.67968,     0.68068,     0.68168,     0.68268,     0.68368,     0.68468,     0.68569,     0.68669,     0.68769,     0.68869,     0.68969,     0.69069,     0.69169,     0.69269,     0.69369,     0.69469,      0.6957,\n",
              "            0.6967,      0.6977,      0.6987,      0.6997,      0.7007,      0.7017,      0.7027,      0.7037,      0.7047,     0.70571,     0.70671,     0.70771,     0.70871,     0.70971,     0.71071,     0.71171,     0.71271,     0.71371,     0.71471,     0.71572,     0.71672,     0.71772,     0.71872,     0.71972,\n",
              "           0.72072,     0.72172,     0.72272,     0.72372,     0.72472,     0.72573,     0.72673,     0.72773,     0.72873,     0.72973,     0.73073,     0.73173,     0.73273,     0.73373,     0.73473,     0.73574,     0.73674,     0.73774,     0.73874,     0.73974,     0.74074,     0.74174,     0.74274,     0.74374,\n",
              "           0.74474,     0.74575,     0.74675,     0.74775,     0.74875,     0.74975,     0.75075,     0.75175,     0.75275,     0.75375,     0.75475,     0.75576,     0.75676,     0.75776,     0.75876,     0.75976,     0.76076,     0.76176,     0.76276,     0.76376,     0.76476,     0.76577,     0.76677,     0.76777,\n",
              "           0.76877,     0.76977,     0.77077,     0.77177,     0.77277,     0.77377,     0.77477,     0.77578,     0.77678,     0.77778,     0.77878,     0.77978,     0.78078,     0.78178,     0.78278,     0.78378,     0.78478,     0.78579,     0.78679,     0.78779,     0.78879,     0.78979,     0.79079,     0.79179,\n",
              "           0.79279,     0.79379,     0.79479,      0.7958,      0.7968,      0.7978,      0.7988,      0.7998,      0.8008,      0.8018,      0.8028,      0.8038,      0.8048,     0.80581,     0.80681,     0.80781,     0.80881,     0.80981,     0.81081,     0.81181,     0.81281,     0.81381,     0.81481,     0.81582,\n",
              "           0.81682,     0.81782,     0.81882,     0.81982,     0.82082,     0.82182,     0.82282,     0.82382,     0.82482,     0.82583,     0.82683,     0.82783,     0.82883,     0.82983,     0.83083,     0.83183,     0.83283,     0.83383,     0.83483,     0.83584,     0.83684,     0.83784,     0.83884,     0.83984,\n",
              "           0.84084,     0.84184,     0.84284,     0.84384,     0.84484,     0.84585,     0.84685,     0.84785,     0.84885,     0.84985,     0.85085,     0.85185,     0.85285,     0.85385,     0.85485,     0.85586,     0.85686,     0.85786,     0.85886,     0.85986,     0.86086,     0.86186,     0.86286,     0.86386,\n",
              "           0.86486,     0.86587,     0.86687,     0.86787,     0.86887,     0.86987,     0.87087,     0.87187,     0.87287,     0.87387,     0.87487,     0.87588,     0.87688,     0.87788,     0.87888,     0.87988,     0.88088,     0.88188,     0.88288,     0.88388,     0.88488,     0.88589,     0.88689,     0.88789,\n",
              "           0.88889,     0.88989,     0.89089,     0.89189,     0.89289,     0.89389,     0.89489,      0.8959,      0.8969,      0.8979,      0.8989,      0.8999,      0.9009,      0.9019,      0.9029,      0.9039,      0.9049,     0.90591,     0.90691,     0.90791,     0.90891,     0.90991,     0.91091,     0.91191,\n",
              "           0.91291,     0.91391,     0.91491,     0.91592,     0.91692,     0.91792,     0.91892,     0.91992,     0.92092,     0.92192,     0.92292,     0.92392,     0.92492,     0.92593,     0.92693,     0.92793,     0.92893,     0.92993,     0.93093,     0.93193,     0.93293,     0.93393,     0.93493,     0.93594,\n",
              "           0.93694,     0.93794,     0.93894,     0.93994,     0.94094,     0.94194,     0.94294,     0.94394,     0.94494,     0.94595,     0.94695,     0.94795,     0.94895,     0.94995,     0.95095,     0.95195,     0.95295,     0.95395,     0.95495,     0.95596,     0.95696,     0.95796,     0.95896,     0.95996,\n",
              "           0.96096,     0.96196,     0.96296,     0.96396,     0.96496,     0.96597,     0.96697,     0.96797,     0.96897,     0.96997,     0.97097,     0.97197,     0.97297,     0.97397,     0.97497,     0.97598,     0.97698,     0.97798,     0.97898,     0.97998,     0.98098,     0.98198,     0.98298,     0.98398,\n",
              "           0.98498,     0.98599,     0.98699,     0.98799,     0.98899,     0.98999,     0.99099,     0.99199,     0.99299,     0.99399,     0.99499,       0.996,       0.997,       0.998,       0.999,           1]), array([[          1,           1,           1,           1,           1,           1,           1,           1,           1,           1,           1,           1,           1,           1,           1,           1,           1,           1,           1,           1,           1,           1,           1,\n",
              "                  1,           1,           1,           1,           1,           1,           1,           1,           1,           1,           1,           1,           1,           1,           1,           1,           1,           1,           1,           1,           1,           1,           1,\n",
              "                  1,           1,           1,           1,           1,           1,           1,           1,           1,           1,           1,           1,           1,           1,           1,           1,           1,           1,           1,           1,           1,           1,           1,\n",
              "            0.95946,     0.95946,     0.95946,     0.95946,     0.95946,     0.95946,     0.95946,     0.95946,     0.95946,     0.95946,     0.95946,     0.95946,     0.95946,     0.95946,     0.95946,     0.95946,     0.95946,     0.95946,     0.95946,     0.95946,     0.95946,     0.95946,     0.95946,\n",
              "            0.95946,     0.95946,     0.95946,     0.95946,     0.95946,     0.95946,     0.95946,     0.95946,     0.95946,     0.95946,     0.95946,     0.95946,     0.95946,     0.95946,     0.95946,     0.95946,     0.95946,     0.95946,     0.95946,     0.95946,     0.95946,     0.95946,     0.95946,\n",
              "            0.95946,     0.95946,     0.95946,     0.95946,     0.95946,     0.95946,     0.95946,     0.95946,     0.95946,     0.95946,     0.95946,     0.95946,     0.95946,     0.95946,     0.95946,     0.95946,     0.95946,     0.95946,     0.95946,     0.95946,     0.95946,     0.95946,     0.95946,\n",
              "            0.95946,     0.95946,     0.95946,     0.95946,     0.95946,     0.95946,     0.95946,     0.95946,     0.95946,     0.95946,     0.95946,     0.95946,     0.95946,     0.95946,     0.95946,     0.95946,     0.95946,     0.95946,     0.95946,     0.95946,     0.95946,     0.95946,     0.95946,\n",
              "            0.95946,     0.95946,     0.95946,     0.95946,     0.95946,     0.95946,     0.95946,     0.95946,     0.95946,     0.95946,     0.95946,     0.95946,     0.95946,     0.95946,     0.95946,     0.95946,     0.95946,     0.95946,     0.95946,     0.95946,     0.95946,     0.95946,     0.95946,\n",
              "            0.95946,     0.95946,     0.95946,     0.95946,     0.95946,     0.95946,     0.95946,     0.95946,     0.95946,     0.95946,     0.95946,     0.95946,     0.95946,     0.95946,     0.95946,     0.95946,     0.95946,     0.95946,     0.95946,     0.95946,     0.95946,     0.95946,     0.95946,\n",
              "            0.95946,     0.95946,     0.95946,     0.95946,     0.95946,     0.95946,     0.95946,     0.95946,     0.95946,     0.95946,     0.95946,     0.95946,     0.95946,     0.95946,     0.95946,     0.95946,     0.95946,     0.95946,     0.95946,     0.95946,     0.95946,     0.95946,     0.95946,\n",
              "            0.95946,     0.95946,     0.95946,     0.95946,     0.95946,     0.95946,     0.95946,     0.95946,     0.95946,     0.95946,     0.95946,     0.95946,     0.95946,     0.95946,     0.95946,     0.95946,     0.95946,     0.95946,     0.95946,     0.95946,     0.95946,     0.95946,     0.95946,\n",
              "            0.95946,     0.95946,     0.95946,     0.95946,     0.94737,     0.94737,     0.94737,     0.94737,     0.92683,     0.92683,     0.92683,     0.92683,     0.92683,     0.92683,     0.92683,     0.92683,     0.92683,     0.92683,     0.92683,     0.92683,     0.92683,     0.92683,     0.92683,\n",
              "            0.92045,     0.92045,     0.92045,     0.92045,     0.92045,     0.92045,     0.92045,     0.92045,     0.92045,     0.92045,     0.92045,     0.92045,     0.92045,     0.92045,     0.92045,     0.92045,     0.92045,     0.92045,     0.88542,     0.88542,     0.88542,     0.88542,     0.88542,\n",
              "            0.88542,     0.88542,     0.88542,     0.88542,     0.88542,     0.88542,     0.88542,     0.88542,     0.88542,     0.88235,     0.88235,     0.88235,     0.88235,     0.88235,     0.88235,     0.88235,     0.88235,     0.88235,     0.88235,     0.88235,     0.88235,     0.88235,     0.88235,\n",
              "            0.88235,     0.88235,     0.88235,     0.88235,     0.87273,     0.87273,     0.87273,     0.87273,     0.87273,     0.87273,     0.87273,     0.87273,     0.87273,     0.87273,     0.87273,     0.87273,     0.87273,     0.87273,     0.87273,     0.87273,     0.87273,     0.87273,     0.87273,\n",
              "            0.87273,     0.87273,     0.87273,     0.86207,     0.86207,     0.86207,     0.86207,     0.86207,     0.86207,     0.86207,     0.86207,     0.86207,     0.86207,     0.86207,     0.86207,     0.86207,     0.86207,     0.84874,     0.84874,     0.84874,     0.84874,     0.83607,     0.83607,\n",
              "            0.83607,     0.83607,     0.82308,     0.82308,     0.82308,     0.82308,     0.82308,     0.82308,     0.82308,     0.82308,     0.82308,     0.82308,     0.82308,     0.82308,     0.82308,     0.82308,     0.82308,     0.82308,     0.82308,     0.82308,     0.81818,     0.81818,     0.81818,\n",
              "            0.81022,     0.81022,     0.81022,     0.81022,     0.81022,     0.81022,     0.81022,     0.81022,     0.81022,     0.81022,     0.81022,     0.80714,     0.80714,     0.80714,     0.80714,     0.80714,     0.80714,     0.80714,     0.80714,     0.79452,     0.79452,     0.79452,     0.79452,\n",
              "            0.79452,     0.79452,     0.79452,     0.79452,     0.79452,     0.79452,     0.79195,     0.79195,     0.79195,     0.79195,     0.79195,     0.79195,     0.79195,     0.79195,     0.78808,     0.78808,     0.78808,     0.78431,     0.78431,     0.78431,     0.78431,     0.76101,     0.76101,\n",
              "            0.76101,     0.75776,     0.75776,     0.75776,     0.75776,      0.7561,      0.7561,      0.7561,      0.7561,      0.7561,      0.7561,      0.7561,      0.7485,      0.7485,      0.7485,      0.7485,     0.74556,     0.74556,     0.74556,     0.74556,     0.73714,     0.73714,     0.73714,\n",
              "            0.73714,     0.73714,     0.73714,     0.73714,     0.73714,     0.73714,     0.73714,     0.73446,     0.73446,     0.73446,     0.73446,     0.73158,     0.73158,     0.73158,     0.73158,     0.73158,     0.73158,     0.73158,     0.73158,     0.73158,     0.73158,     0.73158,     0.73158,\n",
              "            0.73158,     0.73158,     0.73158,     0.73158,     0.73158,     0.73158,     0.73158,     0.73158,     0.73158,     0.73158,     0.73158,     0.73158,     0.73158,     0.73158,     0.73158,     0.73158,     0.73158,     0.73158,     0.73158,     0.73158,     0.73158,     0.72165,     0.72165,\n",
              "            0.72165,     0.71212,     0.71212,     0.71212,     0.71212,        0.71,        0.71,        0.71,     0.69082,     0.69082,     0.69082,     0.69082,     0.67593,     0.67593,     0.67593,     0.67593,     0.67593,     0.67593,     0.67593,     0.67593,     0.67593,     0.67593,     0.67593,\n",
              "            0.67568,     0.67568,     0.67568,     0.67568,     0.67568,     0.67568,     0.67568,     0.67568,     0.67568,     0.67568,     0.67568,     0.67568,     0.67568,     0.67568,     0.67411,     0.67411,     0.67411,     0.67411,     0.66376,     0.66376,     0.66376,     0.66376,     0.65665,\n",
              "            0.65665,     0.65665,     0.64979,     0.64979,     0.64979,     0.64979,     0.63786,     0.63786,     0.63786,     0.63786,     0.63158,     0.63158,     0.63158,     0.62598,     0.62598,     0.62598,     0.62598,     0.62598,     0.62598,     0.62598,     0.62598,     0.62598,     0.62598,\n",
              "            0.62598,     0.59925,     0.59925,     0.59925,     0.59925,      0.5941,      0.5941,      0.5941,     0.56055,     0.56055,     0.56055,     0.56055,     0.56014,     0.56014,     0.56014,     0.55219,     0.55219,     0.55219,     0.55219,     0.54369,     0.54369,     0.54369,     0.54369,\n",
              "            0.54369,     0.54369,     0.54369,     0.54369,     0.54369,     0.54369,     0.54369,     0.54369,     0.54369,     0.54369,     0.54369,     0.54167,     0.54167,     0.54167,     0.53125,     0.53125,     0.53125,     0.53125,     0.49565,     0.49565,     0.49565,     0.44216,     0.44216,\n",
              "            0.44216,     0.44216,      0.4402,      0.4402,      0.4402,      0.4402,     0.42336,     0.42336,     0.42336,     0.37879,     0.37879,     0.37879,     0.37879,     0.35484,     0.35484,     0.35484,     0.35484,      0.3457,      0.3457,      0.3457,     0.33905,     0.33905,     0.33905,\n",
              "            0.33905,     0.33521,     0.33521,     0.33521,     0.33457,     0.33457,     0.33457,     0.33457,     0.31424,     0.31424,     0.31424,     0.31424,     0.30847,     0.30847,     0.30847,     0.25806,     0.25806,     0.25806,     0.25806,     0.25806,     0.25806,     0.25806,     0.23964,\n",
              "            0.23964,     0.23964,     0.23964,     0.22766,     0.22766,     0.22766,     0.22766,     0.21274,     0.21274,     0.21274,     0.19223,     0.19223,     0.19223,     0.19223,     0.19091,     0.19091,     0.19091,     0.19091,     0.18555,     0.18555,     0.18555,     0.17571,     0.17571,\n",
              "            0.17571,     0.17571,     0.16989,     0.16989,     0.16989,     0.16989,     0.16989,     0.16989,     0.16989,      0.1606,      0.1606,      0.1606,      0.1606,      0.1492,      0.1492,      0.1492,     0.14551,     0.14551,     0.14551,     0.14551,     0.10325,     0.10325,     0.10325,\n",
              "            0.10325,    0.098951,    0.098951,    0.098951,    0.092601,    0.092601,    0.092601,    0.092601,    0.089087,    0.089087,    0.089087,    0.080853,    0.080853,    0.080853,    0.080853,    0.077543,    0.077543,    0.077543,    0.077543,    0.070267,    0.070267,    0.070267,    0.067662,\n",
              "           0.067662,    0.067662,    0.067662,    0.050171,    0.050171,    0.050171,    0.050171,    0.049294,    0.049294,    0.049294,    0.048466,    0.048466,    0.048466,    0.048466,    0.040139,    0.040139,    0.040139,    0.038942,    0.038942,    0.038942,    0.038942,    0.033871,    0.033871,\n",
              "           0.033871,    0.033871,    0.032878,    0.032878,    0.032878,    0.032878,    0.032878,    0.032878,    0.032878,    0.031347,    0.031347,    0.031347,    0.026641,    0.026524,    0.026407,    0.026291,    0.026174,    0.026057,     0.02594,    0.025823,    0.025706,     0.02559,    0.025473,\n",
              "           0.025356,    0.025239,    0.025122,    0.025005,    0.024888,    0.024772,    0.024655,    0.024538,    0.024421,    0.024304,    0.024187,    0.024071,    0.023954,    0.023837,     0.02372,    0.023603,    0.023486,    0.023369,    0.023253,    0.023136,    0.023019,    0.022902,    0.022785,\n",
              "           0.022668,    0.022552,    0.022435,    0.022318,    0.022201,    0.022084,    0.021967,     0.02185,    0.021734,    0.021617,      0.0215,    0.021383,    0.021266,    0.021149,    0.021033,    0.020916,    0.020799,    0.020682,    0.020565,    0.020448,    0.020331,    0.020215,    0.020098,\n",
              "           0.019981,    0.019864,    0.019747,     0.01963,    0.019513,    0.019397,     0.01928,    0.019163,    0.019046,    0.018929,    0.018812,    0.018696,    0.018579,    0.018462,    0.018345,    0.018228,    0.018111,    0.017994,    0.017878,    0.017761,    0.017644,    0.017527,     0.01741,\n",
              "           0.017293,    0.017177,     0.01706,    0.016943,    0.016826,    0.016709,    0.016592,    0.016475,    0.016359,    0.016242,    0.016125,    0.016008,    0.015891,    0.015774,    0.015658,    0.015541,    0.015424,    0.015307,     0.01519,    0.015073,    0.014956,     0.01484,    0.014723,\n",
              "           0.014606,    0.014489,    0.014372,    0.014255,    0.014139,    0.014022,    0.013905,    0.013788,    0.013671,    0.013554,    0.013437,    0.013321,    0.013204,    0.013087,     0.01297,    0.012853,    0.012736,     0.01262,    0.012503,    0.012386,    0.012269,    0.012152,    0.012035,\n",
              "           0.011918,    0.011802,    0.011685,    0.011568,    0.011451,    0.011334,    0.011217,      0.0111,    0.010984,    0.010867,     0.01075,    0.010633,    0.010516,    0.010399,    0.010283,    0.010166,    0.010049,    0.009932,   0.0098152,   0.0096983,   0.0095815,   0.0094646,   0.0093478,\n",
              "          0.0092309,   0.0091141,   0.0089972,   0.0088804,   0.0087635,   0.0086467,   0.0085298,    0.008413,   0.0082962,   0.0081793,   0.0080625,   0.0079456,   0.0078288,   0.0077119,   0.0075951,   0.0074782,   0.0073614,   0.0072445,   0.0071277,   0.0070108,    0.006894,   0.0067771,   0.0066603,\n",
              "          0.0065434,   0.0064266,   0.0063098,   0.0061929,   0.0060761,   0.0059592,   0.0058424,   0.0057255,   0.0056087,   0.0054918,    0.005375,   0.0052581,   0.0051413,   0.0050244,   0.0049076,   0.0047907,   0.0046739,    0.004557,   0.0044402,   0.0043233,   0.0042065,   0.0040897,   0.0039728,\n",
              "           0.003856,   0.0037391,   0.0036223,   0.0035054,   0.0033886,   0.0032717,   0.0031549,    0.003038,   0.0029212,   0.0028043,   0.0026875,   0.0025706,   0.0024538,   0.0023369,   0.0022201,   0.0021033,   0.0019864,   0.0018696,   0.0017527,   0.0016359,    0.001519,   0.0014022,   0.0012853,\n",
              "          0.0011685,   0.0010516,  0.00093478,  0.00081793,  0.00070108,  0.00058424,  0.00046739,  0.00035054,  0.00023369,  0.00011685,           0]]), 'Recall', 'Precision'], [array([          0,    0.001001,    0.002002,    0.003003,    0.004004,    0.005005,    0.006006,    0.007007,    0.008008,    0.009009,     0.01001,    0.011011,    0.012012,    0.013013,    0.014014,    0.015015,    0.016016,    0.017017,    0.018018,    0.019019,     0.02002,    0.021021,    0.022022,    0.023023,\n",
              "          0.024024,    0.025025,    0.026026,    0.027027,    0.028028,    0.029029,     0.03003,    0.031031,    0.032032,    0.033033,    0.034034,    0.035035,    0.036036,    0.037037,    0.038038,    0.039039,     0.04004,    0.041041,    0.042042,    0.043043,    0.044044,    0.045045,    0.046046,    0.047047,\n",
              "          0.048048,    0.049049,     0.05005,    0.051051,    0.052052,    0.053053,    0.054054,    0.055055,    0.056056,    0.057057,    0.058058,    0.059059,     0.06006,    0.061061,    0.062062,    0.063063,    0.064064,    0.065065,    0.066066,    0.067067,    0.068068,    0.069069,     0.07007,    0.071071,\n",
              "          0.072072,    0.073073,    0.074074,    0.075075,    0.076076,    0.077077,    0.078078,    0.079079,     0.08008,    0.081081,    0.082082,    0.083083,    0.084084,    0.085085,    0.086086,    0.087087,    0.088088,    0.089089,     0.09009,    0.091091,    0.092092,    0.093093,    0.094094,    0.095095,\n",
              "          0.096096,    0.097097,    0.098098,    0.099099,      0.1001,      0.1011,      0.1021,      0.1031,      0.1041,     0.10511,     0.10611,     0.10711,     0.10811,     0.10911,     0.11011,     0.11111,     0.11211,     0.11311,     0.11411,     0.11512,     0.11612,     0.11712,     0.11812,     0.11912,\n",
              "           0.12012,     0.12112,     0.12212,     0.12312,     0.12412,     0.12513,     0.12613,     0.12713,     0.12813,     0.12913,     0.13013,     0.13113,     0.13213,     0.13313,     0.13413,     0.13514,     0.13614,     0.13714,     0.13814,     0.13914,     0.14014,     0.14114,     0.14214,     0.14314,\n",
              "           0.14414,     0.14515,     0.14615,     0.14715,     0.14815,     0.14915,     0.15015,     0.15115,     0.15215,     0.15315,     0.15415,     0.15516,     0.15616,     0.15716,     0.15816,     0.15916,     0.16016,     0.16116,     0.16216,     0.16316,     0.16416,     0.16517,     0.16617,     0.16717,\n",
              "           0.16817,     0.16917,     0.17017,     0.17117,     0.17217,     0.17317,     0.17417,     0.17518,     0.17618,     0.17718,     0.17818,     0.17918,     0.18018,     0.18118,     0.18218,     0.18318,     0.18418,     0.18519,     0.18619,     0.18719,     0.18819,     0.18919,     0.19019,     0.19119,\n",
              "           0.19219,     0.19319,     0.19419,      0.1952,      0.1962,      0.1972,      0.1982,      0.1992,      0.2002,      0.2012,      0.2022,      0.2032,      0.2042,     0.20521,     0.20621,     0.20721,     0.20821,     0.20921,     0.21021,     0.21121,     0.21221,     0.21321,     0.21421,     0.21522,\n",
              "           0.21622,     0.21722,     0.21822,     0.21922,     0.22022,     0.22122,     0.22222,     0.22322,     0.22422,     0.22523,     0.22623,     0.22723,     0.22823,     0.22923,     0.23023,     0.23123,     0.23223,     0.23323,     0.23423,     0.23524,     0.23624,     0.23724,     0.23824,     0.23924,\n",
              "           0.24024,     0.24124,     0.24224,     0.24324,     0.24424,     0.24525,     0.24625,     0.24725,     0.24825,     0.24925,     0.25025,     0.25125,     0.25225,     0.25325,     0.25425,     0.25526,     0.25626,     0.25726,     0.25826,     0.25926,     0.26026,     0.26126,     0.26226,     0.26326,\n",
              "           0.26426,     0.26527,     0.26627,     0.26727,     0.26827,     0.26927,     0.27027,     0.27127,     0.27227,     0.27327,     0.27427,     0.27528,     0.27628,     0.27728,     0.27828,     0.27928,     0.28028,     0.28128,     0.28228,     0.28328,     0.28428,     0.28529,     0.28629,     0.28729,\n",
              "           0.28829,     0.28929,     0.29029,     0.29129,     0.29229,     0.29329,     0.29429,      0.2953,      0.2963,      0.2973,      0.2983,      0.2993,      0.3003,      0.3013,      0.3023,      0.3033,      0.3043,     0.30531,     0.30631,     0.30731,     0.30831,     0.30931,     0.31031,     0.31131,\n",
              "           0.31231,     0.31331,     0.31431,     0.31532,     0.31632,     0.31732,     0.31832,     0.31932,     0.32032,     0.32132,     0.32232,     0.32332,     0.32432,     0.32533,     0.32633,     0.32733,     0.32833,     0.32933,     0.33033,     0.33133,     0.33233,     0.33333,     0.33433,     0.33534,\n",
              "           0.33634,     0.33734,     0.33834,     0.33934,     0.34034,     0.34134,     0.34234,     0.34334,     0.34434,     0.34535,     0.34635,     0.34735,     0.34835,     0.34935,     0.35035,     0.35135,     0.35235,     0.35335,     0.35435,     0.35536,     0.35636,     0.35736,     0.35836,     0.35936,\n",
              "           0.36036,     0.36136,     0.36236,     0.36336,     0.36436,     0.36537,     0.36637,     0.36737,     0.36837,     0.36937,     0.37037,     0.37137,     0.37237,     0.37337,     0.37437,     0.37538,     0.37638,     0.37738,     0.37838,     0.37938,     0.38038,     0.38138,     0.38238,     0.38338,\n",
              "           0.38438,     0.38539,     0.38639,     0.38739,     0.38839,     0.38939,     0.39039,     0.39139,     0.39239,     0.39339,     0.39439,      0.3954,      0.3964,      0.3974,      0.3984,      0.3994,      0.4004,      0.4014,      0.4024,      0.4034,      0.4044,     0.40541,     0.40641,     0.40741,\n",
              "           0.40841,     0.40941,     0.41041,     0.41141,     0.41241,     0.41341,     0.41441,     0.41542,     0.41642,     0.41742,     0.41842,     0.41942,     0.42042,     0.42142,     0.42242,     0.42342,     0.42442,     0.42543,     0.42643,     0.42743,     0.42843,     0.42943,     0.43043,     0.43143,\n",
              "           0.43243,     0.43343,     0.43443,     0.43544,     0.43644,     0.43744,     0.43844,     0.43944,     0.44044,     0.44144,     0.44244,     0.44344,     0.44444,     0.44545,     0.44645,     0.44745,     0.44845,     0.44945,     0.45045,     0.45145,     0.45245,     0.45345,     0.45445,     0.45546,\n",
              "           0.45646,     0.45746,     0.45846,     0.45946,     0.46046,     0.46146,     0.46246,     0.46346,     0.46446,     0.46547,     0.46647,     0.46747,     0.46847,     0.46947,     0.47047,     0.47147,     0.47247,     0.47347,     0.47447,     0.47548,     0.47648,     0.47748,     0.47848,     0.47948,\n",
              "           0.48048,     0.48148,     0.48248,     0.48348,     0.48448,     0.48549,     0.48649,     0.48749,     0.48849,     0.48949,     0.49049,     0.49149,     0.49249,     0.49349,     0.49449,      0.4955,      0.4965,      0.4975,      0.4985,      0.4995,      0.5005,      0.5015,      0.5025,      0.5035,\n",
              "            0.5045,     0.50551,     0.50651,     0.50751,     0.50851,     0.50951,     0.51051,     0.51151,     0.51251,     0.51351,     0.51451,     0.51552,     0.51652,     0.51752,     0.51852,     0.51952,     0.52052,     0.52152,     0.52252,     0.52352,     0.52452,     0.52553,     0.52653,     0.52753,\n",
              "           0.52853,     0.52953,     0.53053,     0.53153,     0.53253,     0.53353,     0.53453,     0.53554,     0.53654,     0.53754,     0.53854,     0.53954,     0.54054,     0.54154,     0.54254,     0.54354,     0.54454,     0.54555,     0.54655,     0.54755,     0.54855,     0.54955,     0.55055,     0.55155,\n",
              "           0.55255,     0.55355,     0.55455,     0.55556,     0.55656,     0.55756,     0.55856,     0.55956,     0.56056,     0.56156,     0.56256,     0.56356,     0.56456,     0.56557,     0.56657,     0.56757,     0.56857,     0.56957,     0.57057,     0.57157,     0.57257,     0.57357,     0.57457,     0.57558,\n",
              "           0.57658,     0.57758,     0.57858,     0.57958,     0.58058,     0.58158,     0.58258,     0.58358,     0.58458,     0.58559,     0.58659,     0.58759,     0.58859,     0.58959,     0.59059,     0.59159,     0.59259,     0.59359,     0.59459,      0.5956,      0.5966,      0.5976,      0.5986,      0.5996,\n",
              "            0.6006,      0.6016,      0.6026,      0.6036,      0.6046,     0.60561,     0.60661,     0.60761,     0.60861,     0.60961,     0.61061,     0.61161,     0.61261,     0.61361,     0.61461,     0.61562,     0.61662,     0.61762,     0.61862,     0.61962,     0.62062,     0.62162,     0.62262,     0.62362,\n",
              "           0.62462,     0.62563,     0.62663,     0.62763,     0.62863,     0.62963,     0.63063,     0.63163,     0.63263,     0.63363,     0.63463,     0.63564,     0.63664,     0.63764,     0.63864,     0.63964,     0.64064,     0.64164,     0.64264,     0.64364,     0.64464,     0.64565,     0.64665,     0.64765,\n",
              "           0.64865,     0.64965,     0.65065,     0.65165,     0.65265,     0.65365,     0.65465,     0.65566,     0.65666,     0.65766,     0.65866,     0.65966,     0.66066,     0.66166,     0.66266,     0.66366,     0.66466,     0.66567,     0.66667,     0.66767,     0.66867,     0.66967,     0.67067,     0.67167,\n",
              "           0.67267,     0.67367,     0.67467,     0.67568,     0.67668,     0.67768,     0.67868,     0.67968,     0.68068,     0.68168,     0.68268,     0.68368,     0.68468,     0.68569,     0.68669,     0.68769,     0.68869,     0.68969,     0.69069,     0.69169,     0.69269,     0.69369,     0.69469,      0.6957,\n",
              "            0.6967,      0.6977,      0.6987,      0.6997,      0.7007,      0.7017,      0.7027,      0.7037,      0.7047,     0.70571,     0.70671,     0.70771,     0.70871,     0.70971,     0.71071,     0.71171,     0.71271,     0.71371,     0.71471,     0.71572,     0.71672,     0.71772,     0.71872,     0.71972,\n",
              "           0.72072,     0.72172,     0.72272,     0.72372,     0.72472,     0.72573,     0.72673,     0.72773,     0.72873,     0.72973,     0.73073,     0.73173,     0.73273,     0.73373,     0.73473,     0.73574,     0.73674,     0.73774,     0.73874,     0.73974,     0.74074,     0.74174,     0.74274,     0.74374,\n",
              "           0.74474,     0.74575,     0.74675,     0.74775,     0.74875,     0.74975,     0.75075,     0.75175,     0.75275,     0.75375,     0.75475,     0.75576,     0.75676,     0.75776,     0.75876,     0.75976,     0.76076,     0.76176,     0.76276,     0.76376,     0.76476,     0.76577,     0.76677,     0.76777,\n",
              "           0.76877,     0.76977,     0.77077,     0.77177,     0.77277,     0.77377,     0.77477,     0.77578,     0.77678,     0.77778,     0.77878,     0.77978,     0.78078,     0.78178,     0.78278,     0.78378,     0.78478,     0.78579,     0.78679,     0.78779,     0.78879,     0.78979,     0.79079,     0.79179,\n",
              "           0.79279,     0.79379,     0.79479,      0.7958,      0.7968,      0.7978,      0.7988,      0.7998,      0.8008,      0.8018,      0.8028,      0.8038,      0.8048,     0.80581,     0.80681,     0.80781,     0.80881,     0.80981,     0.81081,     0.81181,     0.81281,     0.81381,     0.81481,     0.81582,\n",
              "           0.81682,     0.81782,     0.81882,     0.81982,     0.82082,     0.82182,     0.82282,     0.82382,     0.82482,     0.82583,     0.82683,     0.82783,     0.82883,     0.82983,     0.83083,     0.83183,     0.83283,     0.83383,     0.83483,     0.83584,     0.83684,     0.83784,     0.83884,     0.83984,\n",
              "           0.84084,     0.84184,     0.84284,     0.84384,     0.84484,     0.84585,     0.84685,     0.84785,     0.84885,     0.84985,     0.85085,     0.85185,     0.85285,     0.85385,     0.85485,     0.85586,     0.85686,     0.85786,     0.85886,     0.85986,     0.86086,     0.86186,     0.86286,     0.86386,\n",
              "           0.86486,     0.86587,     0.86687,     0.86787,     0.86887,     0.86987,     0.87087,     0.87187,     0.87287,     0.87387,     0.87487,     0.87588,     0.87688,     0.87788,     0.87888,     0.87988,     0.88088,     0.88188,     0.88288,     0.88388,     0.88488,     0.88589,     0.88689,     0.88789,\n",
              "           0.88889,     0.88989,     0.89089,     0.89189,     0.89289,     0.89389,     0.89489,      0.8959,      0.8969,      0.8979,      0.8989,      0.8999,      0.9009,      0.9019,      0.9029,      0.9039,      0.9049,     0.90591,     0.90691,     0.90791,     0.90891,     0.90991,     0.91091,     0.91191,\n",
              "           0.91291,     0.91391,     0.91491,     0.91592,     0.91692,     0.91792,     0.91892,     0.91992,     0.92092,     0.92192,     0.92292,     0.92392,     0.92492,     0.92593,     0.92693,     0.92793,     0.92893,     0.92993,     0.93093,     0.93193,     0.93293,     0.93393,     0.93493,     0.93594,\n",
              "           0.93694,     0.93794,     0.93894,     0.93994,     0.94094,     0.94194,     0.94294,     0.94394,     0.94494,     0.94595,     0.94695,     0.94795,     0.94895,     0.94995,     0.95095,     0.95195,     0.95295,     0.95395,     0.95495,     0.95596,     0.95696,     0.95796,     0.95896,     0.95996,\n",
              "           0.96096,     0.96196,     0.96296,     0.96396,     0.96496,     0.96597,     0.96697,     0.96797,     0.96897,     0.96997,     0.97097,     0.97197,     0.97297,     0.97397,     0.97497,     0.97598,     0.97698,     0.97798,     0.97898,     0.97998,     0.98098,     0.98198,     0.98298,     0.98398,\n",
              "           0.98498,     0.98599,     0.98699,     0.98799,     0.98899,     0.98999,     0.99099,     0.99199,     0.99299,     0.99399,     0.99499,       0.996,       0.997,       0.998,       0.999,           1]), array([[   0.051511,    0.051549,    0.079886,     0.10083,      0.1192,     0.13417,     0.14722,     0.15851,     0.16923,     0.17863,     0.18901,     0.19809,     0.20863,     0.21646,     0.22372,     0.23426,     0.24138,      0.2465,     0.25254,     0.25783,     0.26116,     0.26728,     0.27307,\n",
              "            0.27646,     0.28059,     0.28567,        0.29,     0.29395,     0.29822,     0.29947,     0.30392,     0.30822,     0.31102,     0.31536,     0.31959,     0.32371,     0.32613,     0.33009,     0.33368,     0.33519,     0.33782,     0.34146,     0.34494,     0.34738,     0.35211,     0.35295,\n",
              "             0.3543,     0.35819,     0.35988,     0.36224,     0.36488,     0.36759,     0.37109,     0.36918,     0.37157,     0.37359,      0.3773,     0.38015,     0.38233,     0.38347,     0.38697,     0.39083,     0.39217,     0.39521,     0.39701,     0.39903,     0.40198,     0.40451,     0.40866,\n",
              "            0.41146,     0.41303,     0.41599,     0.41691,     0.41875,     0.41974,     0.42162,     0.42461,     0.42371,     0.42575,     0.42785,     0.43008,     0.43261,     0.43474,      0.4367,     0.43913,     0.44057,     0.44047,     0.44147,     0.44183,     0.44034,     0.44206,     0.44343,\n",
              "              0.443,      0.4464,     0.44755,     0.44806,     0.44877,     0.45175,     0.45368,     0.45467,     0.45549,     0.45484,     0.45616,     0.45669,     0.45918,     0.46321,     0.46448,     0.46566,      0.4687,     0.46963,     0.47022,     0.47142,     0.47391,     0.47349,     0.47424,\n",
              "            0.47498,     0.47602,     0.47689,     0.47846,     0.48013,     0.48086,     0.48346,      0.4851,      0.4857,     0.48628,     0.48978,     0.49181,     0.49225,     0.49283,     0.49334,     0.49441,     0.49474,     0.49575,     0.49615,     0.49653,     0.49683,     0.49713,      0.4984,\n",
              "            0.50005,     0.50118,     0.50456,     0.50568,     0.50517,     0.50521,     0.50579,     0.50816,     0.51088,      0.5117,     0.51219,     0.51335,     0.51376,     0.51435,     0.51622,     0.51588,      0.5164,     0.51718,     0.51651,     0.51561,     0.51525,     0.51574,     0.51633,\n",
              "             0.5171,     0.51795,     0.51844,     0.51879,     0.52031,     0.52207,     0.52288,     0.52538,     0.52664,     0.52734,     0.52792,     0.52839,     0.52977,     0.53193,     0.53358,     0.53451,     0.53502,     0.53626,     0.53685,     0.53867,     0.53882,     0.53897,     0.53912,\n",
              "            0.53927,     0.53942,     0.53997,     0.54136,     0.54217,     0.54262,     0.54341,     0.54666,     0.54904,      0.5493,     0.54957,     0.54984,     0.54868,     0.55164,     0.55556,      0.5568,     0.55739,     0.55823,     0.55915,     0.55949,     0.55978,     0.56008,     0.56187,\n",
              "            0.56259,     0.56367,     0.56555,     0.56661,     0.56864,     0.56902,     0.56939,     0.56845,     0.57108,     0.57271,     0.57436,     0.57264,     0.57382,     0.57431,     0.57008,     0.56789,      0.5672,     0.56651,     0.56582,     0.56586,     0.56646,     0.56789,     0.56884,\n",
              "            0.56924,     0.57013,     0.57222,      0.5705,     0.57121,     0.57189,     0.57261,     0.57421,     0.57478,     0.57306,      0.5729,     0.57334,     0.57187,     0.57201,     0.57233,     0.57265,     0.57306,     0.57439,     0.57503,     0.57532,     0.57562,     0.57592,     0.57626,\n",
              "            0.57663,       0.577,     0.57773,     0.57824,      0.5785,     0.57876,     0.57903,     0.58056,     0.58216,     0.58316,     0.58535,     0.58586,      0.5863,     0.58683,     0.58747,      0.5884,      0.5865,     0.58779,     0.58867,     0.58862,     0.58685,     0.58726,     0.58768,\n",
              "            0.58904,     0.58928,     0.58952,     0.58976,     0.59013,     0.59126,     0.59174,      0.5922,     0.59246,     0.59272,     0.59298,     0.59324,     0.59406,      0.5963,     0.59683,     0.59707,     0.59732,     0.59756,     0.59896,     0.59975,      0.5976,     0.59682,     0.59625,\n",
              "            0.59567,      0.5951,     0.59455,     0.59403,     0.59352,     0.59301,      0.5925,     0.59207,     0.59257,     0.59307,     0.59353,     0.59399,     0.59474,     0.59638,     0.59465,     0.59401,     0.59423,     0.59444,     0.59466,     0.59488,     0.59525,     0.59586,     0.59638,\n",
              "            0.59684,     0.59729,     0.59509,     0.59583,     0.59647,     0.59811,      0.5983,      0.5985,      0.5987,     0.59889,     0.59909,     0.59991,     0.59807,     0.59807,     0.59861,     0.59904,     0.59939,     0.59974,     0.60013,     0.60062,      0.6011,     0.59947,     0.59941,\n",
              "            0.60157,     0.60129,     0.60029,      0.5993,     0.59984,     0.60055,     0.60137,     0.60181,     0.60211,     0.60242,     0.60272,     0.59958,     0.59874,      0.5979,     0.59706,     0.59643,     0.59591,     0.59539,     0.59487,     0.59435,     0.59375,     0.59288,     0.59201,\n",
              "            0.59114,     0.59241,     0.59265,     0.59289,     0.59313,     0.59338,     0.59295,     0.59187,     0.59078,     0.58875,     0.58524,     0.58516,     0.58547,     0.58579,     0.58613,     0.58669,     0.58726,     0.58759,     0.58792,     0.58825,     0.58862,     0.58913,     0.58963,\n",
              "            0.59152,      0.5905,     0.58948,     0.58991,     0.59087,      0.5918,     0.59253,     0.59307,     0.59339,     0.59372,     0.59405,     0.59545,     0.59565,     0.59584,     0.59604,     0.59623,     0.59643,     0.59662,     0.59392,     0.59412,     0.59458,     0.59487,     0.59458,\n",
              "             0.5943,     0.59401,     0.59373,     0.59344,     0.59316,     0.59288,     0.59259,     0.59231,     0.59202,      0.5922,      0.5925,     0.59279,     0.59308,     0.59346,      0.5939,     0.59435,      0.5951,     0.59426,     0.59543,     0.59578,     0.59613,     0.59649,     0.59574,\n",
              "            0.59469,     0.59363,     0.58898,     0.58689,     0.58335,     0.57837,     0.57868,     0.57899,      0.5793,     0.57938,     0.57887,     0.57837,     0.57787,     0.57737,     0.57687,     0.57625,     0.57474,     0.57343,     0.57373,     0.57232,     0.57175,     0.57261,     0.57295,\n",
              "            0.57323,     0.57351,     0.57379,     0.57351,     0.57248,     0.57145,     0.57095,     0.57137,     0.57179,     0.57143,     0.56955,     0.56838,     0.56759,     0.56681,     0.56602,     0.56518,      0.5643,     0.56341,     0.56253,     0.56349,     0.56524,     0.56564,     0.56603,\n",
              "            0.56612,      0.5656,     0.56508,     0.56456,     0.56404,     0.56352,     0.56344,     0.56221,     0.56189,     0.56341,     0.56202,     0.56016,     0.55843,     0.55711,     0.55726,     0.55741,     0.55756,     0.55771,     0.55786,     0.55801,     0.55816,     0.55831,     0.55558,\n",
              "            0.55534,     0.55569,     0.55603,       0.553,     0.55321,     0.55342,     0.55362,     0.55382,     0.55403,     0.55423,     0.55458,     0.55496,     0.55534,     0.55578,     0.55631,     0.55683,       0.558,      0.5594,     0.55646,     0.55711,     0.55639,     0.55472,     0.55405,\n",
              "            0.55415,     0.55425,     0.55435,     0.55445,     0.55455,     0.55465,     0.55474,     0.55484,     0.55494,     0.55504,     0.55514,     0.55524,     0.55491,     0.55407,     0.55323,     0.55239,      0.5513,     0.54981,     0.54848,     0.54869,      0.5489,     0.54911,     0.54932,\n",
              "            0.54953,     0.54974,     0.54814,     0.54633,     0.54582,     0.54531,     0.54481,      0.5443,      0.5438,     0.54329,     0.54179,     0.54016,     0.54144,     0.54223,     0.54265,     0.54307,      0.5385,     0.53635,     0.53657,     0.53679,     0.53701,     0.53724,     0.53746,\n",
              "            0.53612,     0.53401,      0.5322,      0.5304,      0.5285,     0.52693,     0.52772,     0.52838,     0.52891,      0.5294,      0.5291,      0.5288,      0.5285,      0.5282,      0.5279,      0.5276,      0.5273,       0.527,      0.5267,      0.5264,      0.5261,      0.5258,     0.52675,\n",
              "            0.52366,     0.52111,     0.51896,     0.51716,     0.51112,     0.51009,     0.51034,     0.51058,     0.51083,     0.51107,     0.51226,     0.51138,     0.51014,     0.50889,     0.50898,     0.50916,     0.50934,     0.50952,      0.5097,     0.50988,     0.51005,     0.51101,     0.50772,\n",
              "            0.50796,     0.50821,     0.50845,      0.5087,     0.50895,     0.50929,     0.50963,     0.50997,     0.50608,     0.50499,     0.50389,     0.50278,     0.50114,     0.49936,     0.49787,     0.49654,     0.49522,     0.49514,     0.49554,     0.49594,     0.49448,     0.49328,       0.493,\n",
              "            0.49273,     0.49245,     0.49218,     0.49191,     0.49163,     0.49136,     0.49108,     0.49081,     0.49054,     0.49026,     0.48999,     0.48971,     0.48752,     0.48147,     0.47956,     0.47765,     0.47634,     0.47503,     0.47372,     0.47403,     0.47438,     0.47474,     0.47526,\n",
              "            0.47601,     0.47594,     0.47562,     0.47529,     0.47496,     0.47463,      0.4743,     0.47397,     0.47364,     0.47331,     0.47298,     0.47266,     0.47233,     0.46856,     0.46685,     0.46554,     0.46422,      0.4594,     0.45783,     0.45626,     0.45661,     0.45658,     0.45599,\n",
              "             0.4554,      0.4548,     0.45421,     0.45362,     0.45302,     0.45142,     0.44934,      0.4433,     0.44153,     0.44207,     0.44261,     0.44341,     0.44422,     0.44504,     0.44054,      0.4378,     0.43566,     0.43408,      0.4325,     0.43075,     0.42895,      0.4234,     0.42355,\n",
              "             0.4237,     0.42384,     0.42399,     0.42414,     0.42428,     0.42443,     0.42457,     0.42023,     0.41747,     0.41393,     0.40984,     0.40761,      0.4086,     0.40876,     0.40749,     0.40621,     0.40493,     0.40483,     0.40522,      0.4056,     0.40208,     0.40052,     0.39976,\n",
              "              0.399,     0.39824,     0.39748,     0.39672,      0.3943,     0.39116,      0.3872,     0.38619,     0.38518,     0.38416,     0.38315,      0.3819,     0.38039,     0.37887,     0.37477,     0.37139,      0.3692,     0.36356,     0.36291,     0.36227,     0.36162,     0.36097,     0.36033,\n",
              "            0.35968,     0.35903,     0.35753,     0.35562,     0.35379,     0.35246,     0.35112,     0.34978,     0.34614,     0.34341,     0.34222,     0.34103,     0.33984,     0.33839,     0.33672,     0.33505,       0.331,     0.32231,     0.31801,     0.31624,     0.31446,     0.31241,     0.31032,\n",
              "             0.3039,     0.30261,     0.30133,     0.30004,     0.29872,     0.29606,      0.2933,     0.28899,     0.27764,     0.27698,     0.27631,     0.27564,     0.27497,      0.2743,     0.27364,     0.27297,     0.27112,     0.26619,      0.2634,     0.26244,     0.25077,     0.24594,     0.24457,\n",
              "             0.2432,     0.24183,     0.24045,     0.23875,     0.23704,     0.23532,      0.2339,     0.23258,     0.23124,     0.22991,     0.22877,     0.22779,     0.22682,     0.22584,     0.22486,     0.22388,     0.22303,     0.22222,     0.22141,     0.22061,      0.2198,     0.21899,     0.21818,\n",
              "             0.2165,     0.21448,     0.21245,     0.20607,     0.20335,     0.20064,     0.19978,     0.19893,     0.19807,     0.19721,     0.19634,     0.19548,     0.19067,     0.18654,     0.18392,     0.18167,     0.17964,     0.17759,     0.16907,     0.16617,     0.16199,     0.15749,     0.15379,\n",
              "            0.15031,      0.1469,     0.14308,     0.13994,      0.1383,     0.13665,       0.135,     0.13437,     0.13464,     0.13418,     0.13359,     0.13299,     0.13239,     0.13179,     0.13119,      0.1306,        0.13,      0.1294,      0.1288,      0.1285,     0.12851,     0.12669,     0.12486,\n",
              "            0.12304,     0.12035,     0.11725,     0.11429,     0.11141,      0.1076,     0.10278,     0.10092,    0.099051,    0.097179,    0.095878,    0.094866,    0.093852,    0.092837,    0.091822,    0.090805,    0.083101,    0.081452,      0.0798,    0.078145,    0.076559,    0.075601,    0.074642,\n",
              "           0.073682,    0.072721,    0.071759,    0.070796,    0.069109,    0.062974,    0.062295,    0.061616,    0.060936,    0.060256,    0.059575,    0.058894,    0.058213,     0.05753,    0.056848,    0.054609,    0.049098,      0.0476,    0.046099,    0.044597,    0.043092,    0.035106,    0.032785,\n",
              "           0.030458,    0.028376,    0.027354,    0.026331,    0.025306,    0.024281,    0.023254,    0.022227,     0.02113,    0.019873,    0.018615,    0.017355,    0.016093,     0.01483,    0.014041,    0.013507,    0.012972,    0.012438,    0.011903,    0.011368,    0.010832,    0.010296,   0.0097602,\n",
              "          0.0092238,   0.0086871,   0.0081501,   0.0076129,           0,           0,           0,           0,           0,           0,           0,           0,           0,           0,           0,           0,           0,           0,           0,           0,           0,           0,           0,\n",
              "                  0,           0,           0,           0,           0,           0,           0,           0,           0,           0,           0,           0,           0,           0,           0,           0,           0,           0,           0,           0,           0,           0,           0,\n",
              "                  0,           0,           0,           0,           0,           0,           0,           0,           0,           0,           0]]), 'Confidence', 'F1'], [array([          0,    0.001001,    0.002002,    0.003003,    0.004004,    0.005005,    0.006006,    0.007007,    0.008008,    0.009009,     0.01001,    0.011011,    0.012012,    0.013013,    0.014014,    0.015015,    0.016016,    0.017017,    0.018018,    0.019019,     0.02002,    0.021021,    0.022022,    0.023023,\n",
              "          0.024024,    0.025025,    0.026026,    0.027027,    0.028028,    0.029029,     0.03003,    0.031031,    0.032032,    0.033033,    0.034034,    0.035035,    0.036036,    0.037037,    0.038038,    0.039039,     0.04004,    0.041041,    0.042042,    0.043043,    0.044044,    0.045045,    0.046046,    0.047047,\n",
              "          0.048048,    0.049049,     0.05005,    0.051051,    0.052052,    0.053053,    0.054054,    0.055055,    0.056056,    0.057057,    0.058058,    0.059059,     0.06006,    0.061061,    0.062062,    0.063063,    0.064064,    0.065065,    0.066066,    0.067067,    0.068068,    0.069069,     0.07007,    0.071071,\n",
              "          0.072072,    0.073073,    0.074074,    0.075075,    0.076076,    0.077077,    0.078078,    0.079079,     0.08008,    0.081081,    0.082082,    0.083083,    0.084084,    0.085085,    0.086086,    0.087087,    0.088088,    0.089089,     0.09009,    0.091091,    0.092092,    0.093093,    0.094094,    0.095095,\n",
              "          0.096096,    0.097097,    0.098098,    0.099099,      0.1001,      0.1011,      0.1021,      0.1031,      0.1041,     0.10511,     0.10611,     0.10711,     0.10811,     0.10911,     0.11011,     0.11111,     0.11211,     0.11311,     0.11411,     0.11512,     0.11612,     0.11712,     0.11812,     0.11912,\n",
              "           0.12012,     0.12112,     0.12212,     0.12312,     0.12412,     0.12513,     0.12613,     0.12713,     0.12813,     0.12913,     0.13013,     0.13113,     0.13213,     0.13313,     0.13413,     0.13514,     0.13614,     0.13714,     0.13814,     0.13914,     0.14014,     0.14114,     0.14214,     0.14314,\n",
              "           0.14414,     0.14515,     0.14615,     0.14715,     0.14815,     0.14915,     0.15015,     0.15115,     0.15215,     0.15315,     0.15415,     0.15516,     0.15616,     0.15716,     0.15816,     0.15916,     0.16016,     0.16116,     0.16216,     0.16316,     0.16416,     0.16517,     0.16617,     0.16717,\n",
              "           0.16817,     0.16917,     0.17017,     0.17117,     0.17217,     0.17317,     0.17417,     0.17518,     0.17618,     0.17718,     0.17818,     0.17918,     0.18018,     0.18118,     0.18218,     0.18318,     0.18418,     0.18519,     0.18619,     0.18719,     0.18819,     0.18919,     0.19019,     0.19119,\n",
              "           0.19219,     0.19319,     0.19419,      0.1952,      0.1962,      0.1972,      0.1982,      0.1992,      0.2002,      0.2012,      0.2022,      0.2032,      0.2042,     0.20521,     0.20621,     0.20721,     0.20821,     0.20921,     0.21021,     0.21121,     0.21221,     0.21321,     0.21421,     0.21522,\n",
              "           0.21622,     0.21722,     0.21822,     0.21922,     0.22022,     0.22122,     0.22222,     0.22322,     0.22422,     0.22523,     0.22623,     0.22723,     0.22823,     0.22923,     0.23023,     0.23123,     0.23223,     0.23323,     0.23423,     0.23524,     0.23624,     0.23724,     0.23824,     0.23924,\n",
              "           0.24024,     0.24124,     0.24224,     0.24324,     0.24424,     0.24525,     0.24625,     0.24725,     0.24825,     0.24925,     0.25025,     0.25125,     0.25225,     0.25325,     0.25425,     0.25526,     0.25626,     0.25726,     0.25826,     0.25926,     0.26026,     0.26126,     0.26226,     0.26326,\n",
              "           0.26426,     0.26527,     0.26627,     0.26727,     0.26827,     0.26927,     0.27027,     0.27127,     0.27227,     0.27327,     0.27427,     0.27528,     0.27628,     0.27728,     0.27828,     0.27928,     0.28028,     0.28128,     0.28228,     0.28328,     0.28428,     0.28529,     0.28629,     0.28729,\n",
              "           0.28829,     0.28929,     0.29029,     0.29129,     0.29229,     0.29329,     0.29429,      0.2953,      0.2963,      0.2973,      0.2983,      0.2993,      0.3003,      0.3013,      0.3023,      0.3033,      0.3043,     0.30531,     0.30631,     0.30731,     0.30831,     0.30931,     0.31031,     0.31131,\n",
              "           0.31231,     0.31331,     0.31431,     0.31532,     0.31632,     0.31732,     0.31832,     0.31932,     0.32032,     0.32132,     0.32232,     0.32332,     0.32432,     0.32533,     0.32633,     0.32733,     0.32833,     0.32933,     0.33033,     0.33133,     0.33233,     0.33333,     0.33433,     0.33534,\n",
              "           0.33634,     0.33734,     0.33834,     0.33934,     0.34034,     0.34134,     0.34234,     0.34334,     0.34434,     0.34535,     0.34635,     0.34735,     0.34835,     0.34935,     0.35035,     0.35135,     0.35235,     0.35335,     0.35435,     0.35536,     0.35636,     0.35736,     0.35836,     0.35936,\n",
              "           0.36036,     0.36136,     0.36236,     0.36336,     0.36436,     0.36537,     0.36637,     0.36737,     0.36837,     0.36937,     0.37037,     0.37137,     0.37237,     0.37337,     0.37437,     0.37538,     0.37638,     0.37738,     0.37838,     0.37938,     0.38038,     0.38138,     0.38238,     0.38338,\n",
              "           0.38438,     0.38539,     0.38639,     0.38739,     0.38839,     0.38939,     0.39039,     0.39139,     0.39239,     0.39339,     0.39439,      0.3954,      0.3964,      0.3974,      0.3984,      0.3994,      0.4004,      0.4014,      0.4024,      0.4034,      0.4044,     0.40541,     0.40641,     0.40741,\n",
              "           0.40841,     0.40941,     0.41041,     0.41141,     0.41241,     0.41341,     0.41441,     0.41542,     0.41642,     0.41742,     0.41842,     0.41942,     0.42042,     0.42142,     0.42242,     0.42342,     0.42442,     0.42543,     0.42643,     0.42743,     0.42843,     0.42943,     0.43043,     0.43143,\n",
              "           0.43243,     0.43343,     0.43443,     0.43544,     0.43644,     0.43744,     0.43844,     0.43944,     0.44044,     0.44144,     0.44244,     0.44344,     0.44444,     0.44545,     0.44645,     0.44745,     0.44845,     0.44945,     0.45045,     0.45145,     0.45245,     0.45345,     0.45445,     0.45546,\n",
              "           0.45646,     0.45746,     0.45846,     0.45946,     0.46046,     0.46146,     0.46246,     0.46346,     0.46446,     0.46547,     0.46647,     0.46747,     0.46847,     0.46947,     0.47047,     0.47147,     0.47247,     0.47347,     0.47447,     0.47548,     0.47648,     0.47748,     0.47848,     0.47948,\n",
              "           0.48048,     0.48148,     0.48248,     0.48348,     0.48448,     0.48549,     0.48649,     0.48749,     0.48849,     0.48949,     0.49049,     0.49149,     0.49249,     0.49349,     0.49449,      0.4955,      0.4965,      0.4975,      0.4985,      0.4995,      0.5005,      0.5015,      0.5025,      0.5035,\n",
              "            0.5045,     0.50551,     0.50651,     0.50751,     0.50851,     0.50951,     0.51051,     0.51151,     0.51251,     0.51351,     0.51451,     0.51552,     0.51652,     0.51752,     0.51852,     0.51952,     0.52052,     0.52152,     0.52252,     0.52352,     0.52452,     0.52553,     0.52653,     0.52753,\n",
              "           0.52853,     0.52953,     0.53053,     0.53153,     0.53253,     0.53353,     0.53453,     0.53554,     0.53654,     0.53754,     0.53854,     0.53954,     0.54054,     0.54154,     0.54254,     0.54354,     0.54454,     0.54555,     0.54655,     0.54755,     0.54855,     0.54955,     0.55055,     0.55155,\n",
              "           0.55255,     0.55355,     0.55455,     0.55556,     0.55656,     0.55756,     0.55856,     0.55956,     0.56056,     0.56156,     0.56256,     0.56356,     0.56456,     0.56557,     0.56657,     0.56757,     0.56857,     0.56957,     0.57057,     0.57157,     0.57257,     0.57357,     0.57457,     0.57558,\n",
              "           0.57658,     0.57758,     0.57858,     0.57958,     0.58058,     0.58158,     0.58258,     0.58358,     0.58458,     0.58559,     0.58659,     0.58759,     0.58859,     0.58959,     0.59059,     0.59159,     0.59259,     0.59359,     0.59459,      0.5956,      0.5966,      0.5976,      0.5986,      0.5996,\n",
              "            0.6006,      0.6016,      0.6026,      0.6036,      0.6046,     0.60561,     0.60661,     0.60761,     0.60861,     0.60961,     0.61061,     0.61161,     0.61261,     0.61361,     0.61461,     0.61562,     0.61662,     0.61762,     0.61862,     0.61962,     0.62062,     0.62162,     0.62262,     0.62362,\n",
              "           0.62462,     0.62563,     0.62663,     0.62763,     0.62863,     0.62963,     0.63063,     0.63163,     0.63263,     0.63363,     0.63463,     0.63564,     0.63664,     0.63764,     0.63864,     0.63964,     0.64064,     0.64164,     0.64264,     0.64364,     0.64464,     0.64565,     0.64665,     0.64765,\n",
              "           0.64865,     0.64965,     0.65065,     0.65165,     0.65265,     0.65365,     0.65465,     0.65566,     0.65666,     0.65766,     0.65866,     0.65966,     0.66066,     0.66166,     0.66266,     0.66366,     0.66466,     0.66567,     0.66667,     0.66767,     0.66867,     0.66967,     0.67067,     0.67167,\n",
              "           0.67267,     0.67367,     0.67467,     0.67568,     0.67668,     0.67768,     0.67868,     0.67968,     0.68068,     0.68168,     0.68268,     0.68368,     0.68468,     0.68569,     0.68669,     0.68769,     0.68869,     0.68969,     0.69069,     0.69169,     0.69269,     0.69369,     0.69469,      0.6957,\n",
              "            0.6967,      0.6977,      0.6987,      0.6997,      0.7007,      0.7017,      0.7027,      0.7037,      0.7047,     0.70571,     0.70671,     0.70771,     0.70871,     0.70971,     0.71071,     0.71171,     0.71271,     0.71371,     0.71471,     0.71572,     0.71672,     0.71772,     0.71872,     0.71972,\n",
              "           0.72072,     0.72172,     0.72272,     0.72372,     0.72472,     0.72573,     0.72673,     0.72773,     0.72873,     0.72973,     0.73073,     0.73173,     0.73273,     0.73373,     0.73473,     0.73574,     0.73674,     0.73774,     0.73874,     0.73974,     0.74074,     0.74174,     0.74274,     0.74374,\n",
              "           0.74474,     0.74575,     0.74675,     0.74775,     0.74875,     0.74975,     0.75075,     0.75175,     0.75275,     0.75375,     0.75475,     0.75576,     0.75676,     0.75776,     0.75876,     0.75976,     0.76076,     0.76176,     0.76276,     0.76376,     0.76476,     0.76577,     0.76677,     0.76777,\n",
              "           0.76877,     0.76977,     0.77077,     0.77177,     0.77277,     0.77377,     0.77477,     0.77578,     0.77678,     0.77778,     0.77878,     0.77978,     0.78078,     0.78178,     0.78278,     0.78378,     0.78478,     0.78579,     0.78679,     0.78779,     0.78879,     0.78979,     0.79079,     0.79179,\n",
              "           0.79279,     0.79379,     0.79479,      0.7958,      0.7968,      0.7978,      0.7988,      0.7998,      0.8008,      0.8018,      0.8028,      0.8038,      0.8048,     0.80581,     0.80681,     0.80781,     0.80881,     0.80981,     0.81081,     0.81181,     0.81281,     0.81381,     0.81481,     0.81582,\n",
              "           0.81682,     0.81782,     0.81882,     0.81982,     0.82082,     0.82182,     0.82282,     0.82382,     0.82482,     0.82583,     0.82683,     0.82783,     0.82883,     0.82983,     0.83083,     0.83183,     0.83283,     0.83383,     0.83483,     0.83584,     0.83684,     0.83784,     0.83884,     0.83984,\n",
              "           0.84084,     0.84184,     0.84284,     0.84384,     0.84484,     0.84585,     0.84685,     0.84785,     0.84885,     0.84985,     0.85085,     0.85185,     0.85285,     0.85385,     0.85485,     0.85586,     0.85686,     0.85786,     0.85886,     0.85986,     0.86086,     0.86186,     0.86286,     0.86386,\n",
              "           0.86486,     0.86587,     0.86687,     0.86787,     0.86887,     0.86987,     0.87087,     0.87187,     0.87287,     0.87387,     0.87487,     0.87588,     0.87688,     0.87788,     0.87888,     0.87988,     0.88088,     0.88188,     0.88288,     0.88388,     0.88488,     0.88589,     0.88689,     0.88789,\n",
              "           0.88889,     0.88989,     0.89089,     0.89189,     0.89289,     0.89389,     0.89489,      0.8959,      0.8969,      0.8979,      0.8989,      0.8999,      0.9009,      0.9019,      0.9029,      0.9039,      0.9049,     0.90591,     0.90691,     0.90791,     0.90891,     0.90991,     0.91091,     0.91191,\n",
              "           0.91291,     0.91391,     0.91491,     0.91592,     0.91692,     0.91792,     0.91892,     0.91992,     0.92092,     0.92192,     0.92292,     0.92392,     0.92492,     0.92593,     0.92693,     0.92793,     0.92893,     0.92993,     0.93093,     0.93193,     0.93293,     0.93393,     0.93493,     0.93594,\n",
              "           0.93694,     0.93794,     0.93894,     0.93994,     0.94094,     0.94194,     0.94294,     0.94394,     0.94494,     0.94595,     0.94695,     0.94795,     0.94895,     0.94995,     0.95095,     0.95195,     0.95295,     0.95395,     0.95495,     0.95596,     0.95696,     0.95796,     0.95896,     0.95996,\n",
              "           0.96096,     0.96196,     0.96296,     0.96396,     0.96496,     0.96597,     0.96697,     0.96797,     0.96897,     0.96997,     0.97097,     0.97197,     0.97297,     0.97397,     0.97497,     0.97598,     0.97698,     0.97798,     0.97898,     0.97998,     0.98098,     0.98198,     0.98298,     0.98398,\n",
              "           0.98498,     0.98599,     0.98699,     0.98799,     0.98899,     0.98999,     0.99099,     0.99199,     0.99299,     0.99399,     0.99499,       0.996,       0.997,       0.998,       0.999,           1]), array([[   0.026645,    0.026665,     0.04219,    0.054108,    0.064826,    0.073854,    0.081933,    0.089044,    0.095932,     0.10209,     0.10901,      0.1151,     0.12228,     0.12769,     0.13277,     0.14026,      0.1454,     0.14945,     0.15392,     0.15787,     0.16057,     0.16521,     0.16966,\n",
              "            0.17273,     0.17621,     0.18023,     0.18369,     0.18715,     0.19061,     0.19221,     0.19589,     0.19949,     0.20184,     0.20551,     0.20912,     0.21265,     0.21512,     0.21857,     0.22173,     0.22307,      0.2254,     0.22908,     0.23222,     0.23444,     0.23876,     0.24001,\n",
              "            0.24125,     0.24488,     0.24647,     0.24868,     0.25118,     0.25375,      0.2571,     0.25635,     0.25866,     0.26062,     0.26424,     0.26705,     0.26921,     0.27034,     0.27383,     0.27771,     0.27907,     0.28216,       0.284,     0.28607,     0.28911,     0.29174,     0.29607,\n",
              "            0.29902,     0.30068,     0.30383,     0.30481,     0.30679,      0.3081,     0.31068,     0.31406,     0.31379,     0.31603,     0.31835,     0.32082,     0.32365,     0.32604,     0.32825,     0.33101,     0.33264,     0.33347,     0.33463,     0.33504,     0.33429,     0.33628,     0.33787,\n",
              "            0.33811,     0.34235,     0.34371,     0.34431,      0.3462,     0.34977,     0.35208,     0.35329,     0.35453,     0.35461,     0.35622,     0.35686,     0.35991,     0.36489,     0.36646,     0.36794,     0.37175,     0.37292,     0.37366,     0.37518,     0.37835,     0.37911,     0.38007,\n",
              "            0.38103,     0.38237,     0.38349,     0.38552,      0.3877,     0.38866,     0.39206,     0.39422,     0.39501,     0.39578,     0.40043,     0.40316,     0.40375,     0.40454,     0.40522,     0.40667,     0.40711,     0.40848,     0.40903,     0.40954,     0.40995,     0.41036,      0.4121,\n",
              "            0.41436,      0.4159,     0.42059,     0.42214,     0.42247,     0.42312,     0.42394,     0.42727,     0.43114,     0.43231,     0.43301,     0.43467,     0.43526,      0.4361,      0.4388,     0.44009,     0.44086,     0.44199,     0.44166,     0.44107,     0.44101,     0.44172,     0.44258,\n",
              "            0.44372,     0.44498,     0.44569,     0.44621,     0.44847,     0.45108,      0.4523,     0.45605,     0.45796,     0.45901,     0.45989,     0.46061,      0.4627,     0.46602,     0.46855,     0.46999,     0.47078,      0.4727,     0.47362,     0.47647,      0.4767,     0.47693,     0.47717,\n",
              "             0.4774,     0.47763,      0.4785,     0.48068,     0.48197,     0.48267,     0.48392,     0.48911,     0.49292,     0.49335,     0.49379,     0.49422,     0.49467,      0.4995,     0.50595,     0.50801,       0.509,     0.51041,     0.51195,     0.51251,     0.51301,      0.5135,     0.51652,\n",
              "            0.51774,     0.51958,     0.52278,      0.5246,     0.52809,     0.52873,     0.52938,     0.53045,     0.53504,     0.53792,     0.54082,     0.54062,     0.54272,      0.5436,     0.54109,     0.54093,      0.5405,     0.54008,     0.53966,     0.54009,      0.5412,      0.5438,     0.54556,\n",
              "            0.54629,     0.54793,      0.5518,     0.55174,     0.55307,     0.55434,      0.5557,     0.55872,     0.55981,       0.559,      0.5595,     0.56049,      0.5596,     0.56111,     0.56173,     0.56235,     0.56314,     0.56572,     0.56695,     0.56753,     0.56811,     0.56869,     0.56935,\n",
              "            0.57008,      0.5708,     0.57223,     0.57323,     0.57375,     0.57427,     0.57478,     0.57781,     0.58099,     0.58299,     0.58739,     0.58842,     0.58929,     0.59037,     0.59167,     0.59356,     0.59345,      0.5961,      0.5979,     0.59884,     0.59803,     0.59888,     0.59974,\n",
              "            0.60259,     0.60309,      0.6036,      0.6041,     0.60487,     0.60725,     0.60827,     0.60924,     0.60979,     0.61034,     0.61089,     0.61145,     0.61319,     0.61799,     0.61912,     0.61964,     0.62017,      0.6207,     0.62373,     0.62545,     0.62465,     0.62421,     0.62389,\n",
              "            0.62356,     0.62324,     0.62293,     0.62264,     0.62235,     0.62207,     0.62178,      0.6216,      0.6227,      0.6238,     0.62484,     0.62586,     0.62752,     0.63117,     0.63052,     0.63039,     0.63088,     0.63138,     0.63187,     0.63236,     0.63321,     0.63457,     0.63577,\n",
              "             0.6368,     0.63783,      0.6375,     0.63919,     0.64067,     0.64447,     0.64492,     0.64538,     0.64583,     0.64629,     0.64674,     0.64953,     0.64853,     0.64929,     0.65056,     0.65157,      0.6524,     0.65323,     0.65415,     0.65531,     0.65647,     0.65573,     0.65754,\n",
              "            0.66276,     0.66339,     0.66286,     0.66233,     0.66382,     0.66558,     0.66759,     0.66868,     0.66943,     0.67017,     0.67092,      0.6742,     0.67376,     0.67332,     0.67288,     0.67254,     0.67227,       0.672,     0.67172,     0.67145,     0.67113,     0.67067,     0.67021,\n",
              "            0.66975,     0.67312,     0.67374,     0.67437,     0.67499,     0.67561,     0.67564,     0.67507,      0.6745,     0.67342,     0.67156,     0.67212,     0.67296,     0.67379,     0.67469,      0.6762,     0.67771,     0.67859,     0.67946,     0.68033,     0.68134,     0.68269,     0.68404,\n",
              "            0.69051,     0.68998,     0.68946,     0.69123,     0.69388,     0.69646,     0.69849,     0.69996,     0.70088,      0.7018,     0.70272,     0.70666,      0.7072,     0.70775,      0.7083,     0.70885,      0.7094,     0.70995,     0.70866,     0.70977,     0.71111,     0.71209,     0.71195,\n",
              "            0.71181,     0.71167,     0.71153,     0.71139,     0.71125,     0.71111,     0.71097,     0.71083,     0.71069,     0.71134,     0.71219,     0.71304,     0.71388,     0.71497,     0.71627,     0.71758,     0.72134,     0.72467,     0.72816,     0.72922,     0.73028,     0.73134,     0.73119,\n",
              "            0.73069,      0.7302,     0.72799,       0.727,     0.72529,     0.72317,     0.72414,     0.72511,     0.72608,     0.72671,     0.72646,     0.72622,     0.72598,     0.72573,     0.72549,     0.72519,     0.72446,     0.72417,     0.72737,     0.72669,     0.72728,      0.7301,     0.73118,\n",
              "             0.7321,     0.73302,     0.73394,     0.73425,     0.73376,     0.73327,     0.73345,     0.73484,     0.73622,     0.73684,     0.73595,     0.73539,     0.73501,     0.73463,     0.73426,     0.73385,     0.73342,       0.733,     0.73257,     0.73592,     0.74194,      0.7433,     0.74466,\n",
              "            0.74548,     0.74524,     0.74499,     0.74475,      0.7445,     0.74426,     0.74538,     0.74751,     0.74983,     0.75528,     0.75536,     0.75451,     0.75371,     0.75321,     0.75376,     0.75431,     0.75486,     0.75541,     0.75596,     0.75651,     0.75706,     0.75761,      0.7565,\n",
              "            0.75736,     0.75864,     0.75992,     0.75953,      0.7603,     0.76108,     0.76186,     0.76263,     0.76341,     0.76418,     0.76551,     0.76696,     0.76841,      0.7701,     0.77211,     0.77412,     0.77868,     0.78416,     0.78441,     0.78702,     0.78767,     0.78697,     0.78689,\n",
              "             0.7873,      0.7877,      0.7881,     0.78851,     0.78891,     0.78931,     0.78972,     0.79012,     0.79052,     0.79092,     0.79133,     0.79173,     0.79179,     0.79144,      0.7911,     0.79075,      0.7903,     0.78968,      0.7892,     0.79007,     0.79094,     0.79182,     0.79269,\n",
              "            0.79356,     0.79443,     0.79385,     0.79311,      0.7929,     0.79269,     0.79248,     0.79227,     0.79206,     0.79185,     0.79122,     0.79359,     0.79911,     0.80255,     0.80441,     0.80626,     0.80525,     0.80487,     0.80587,     0.80688,     0.80788,     0.80888,     0.80989,\n",
              "            0.80966,     0.80883,     0.80812,      0.8074,     0.80664,     0.80643,     0.81017,     0.81328,     0.81577,     0.81818,     0.81806,     0.81795,     0.81783,     0.81772,      0.8176,     0.81749,     0.81737,     0.81726,     0.81714,     0.81703,     0.81691,      0.8168,      0.8214,\n",
              "            0.82178,     0.82081,     0.81999,     0.81929,     0.81694,     0.82305,     0.82434,     0.82562,      0.8269,     0.82818,     0.83447,     0.83564,     0.83519,     0.83474,     0.83562,     0.83658,     0.83755,     0.83852,     0.83948,     0.84045,     0.84141,     0.84861,     0.84802,\n",
              "            0.84939,     0.85077,     0.85214,     0.85351,     0.85496,     0.85688,      0.8588,     0.86072,     0.86077,     0.86042,     0.86007,     0.85972,     0.85919,     0.85862,     0.85813,      0.8577,     0.85726,      0.8589,     0.86133,     0.86376,     0.87185,     0.87149,     0.87141,\n",
              "            0.87132,     0.87124,     0.87116,     0.87107,     0.87099,     0.87091,     0.87082,     0.87074,     0.87066,     0.87058,     0.87049,     0.87041,     0.86974,     0.86786,     0.86725,     0.86666,     0.86624,     0.86582,      0.8654,      0.8677,     0.87007,     0.87245,       0.876,\n",
              "            0.88109,     0.88228,     0.88219,     0.88209,       0.882,      0.8819,     0.88181,     0.88171,     0.88162,     0.88152,     0.88143,     0.88133,     0.88124,     0.88014,     0.87963,     0.87924,     0.87885,      0.8774,     0.87692,     0.87644,     0.88256,      0.8853,     0.88513,\n",
              "            0.88495,     0.88478,     0.88461,     0.88444,     0.88427,      0.8838,     0.88318,     0.88137,     0.89099,     0.89543,     0.89986,     0.90654,     0.91337,     0.92029,     0.91949,     0.91889,     0.91843,     0.91808,     0.91773,     0.91734,     0.91693,     0.91567,     0.91706,\n",
              "            0.91844,     0.91983,     0.92121,      0.9226,     0.92398,     0.92537,     0.92675,     0.92594,     0.92536,     0.92462,     0.92374,      0.9317,     0.94211,     0.94732,     0.94712,     0.94692,     0.94672,      0.9497,     0.95395,      0.9582,     0.95902,     0.95883,     0.95873,\n",
              "            0.95864,     0.95854,     0.95845,     0.95835,     0.95805,     0.95765,     0.95713,       0.957,     0.95686,     0.95673,     0.95659,     0.95643,     0.95622,     0.95601,     0.95544,     0.95497,     0.95466,     0.95383,     0.95374,     0.95364,     0.95354,     0.95345,     0.95335,\n",
              "            0.95325,     0.95316,     0.95293,     0.95263,     0.95235,     0.95214,     0.95193,     0.95172,     0.95113,     0.95069,     0.95049,     0.95029,     0.95009,     0.94985,     0.94956,     0.94928,     0.94857,     0.94699,     0.94619,     0.94584,      0.9455,      0.9451,     0.94469,\n",
              "            0.94338,     0.94311,     0.94284,     0.94257,     0.94229,     0.94172,     0.94111,     0.94014,     0.93747,      0.9373,     0.93713,     0.93697,      0.9368,     0.93663,     0.93647,      0.9363,     0.93583,     0.93454,     0.93379,     0.95307,     0.95221,     0.95119,     0.95089,\n",
              "            0.95059,     0.95029,     0.94999,      0.9496,      0.9492,     0.94881,     0.94847,     0.94815,     0.94783,     0.94751,     0.94723,     0.94699,     0.94674,      0.9465,     0.94625,       0.946,     0.94578,     0.94557,     0.94536,     0.94514,     0.94493,     0.94472,      0.9445,\n",
              "            0.94404,     0.94348,     0.94292,     0.94106,     0.94022,     0.93939,     0.93911,     0.93883,     0.93856,     0.93828,       0.938,     0.93772,     0.93608,     0.93462,     0.93366,     0.93282,     0.93203,     0.93124,      0.9277,     0.92643,     0.92451,     0.92235,     0.92048,\n",
              "            0.91863,     0.91679,     0.91457,     0.91271,     0.91166,     0.91062,     0.90958,     0.92261,     0.94815,     0.95219,     0.95197,     0.95174,     0.95151,     0.95129,     0.95106,     0.95084,     0.95061,     0.95038,     0.95016,     0.96327,           1,           1,           1,\n",
              "                  1,           1,           1,           1,           1,           1,           1,           1,           1,           1,           1,           1,           1,           1,           1,           1,           1,           1,           1,           1,           1,           1,           1,\n",
              "                  1,           1,           1,           1,           1,           1,           1,           1,           1,           1,           1,           1,           1,           1,           1,           1,           1,           1,           1,           1,           1,           1,           1,\n",
              "                  1,           1,           1,           1,           1,           1,           1,           1,           1,           1,           1,           1,           1,           1,           1,           1,           1,           1,           1,           1,           1,           1,           1,\n",
              "                  1,           1,           1,           1,           1,           1,           1,           1,           1,           1,           1,           1,           1,           1,           1,           1,           1,           1,           1,           1,           1,           1,           1,\n",
              "                  1,           1,           1,           1,           1,           1,           1,           1,           1,           1,           1,           1,           1,           1,           1,           1,           1,           1,           1,           1,           1,           1,           1,\n",
              "                  1,           1,           1,           1,           1,           1,           1,           1,           1,           1,           1]]), 'Confidence', 'Precision'], [array([          0,    0.001001,    0.002002,    0.003003,    0.004004,    0.005005,    0.006006,    0.007007,    0.008008,    0.009009,     0.01001,    0.011011,    0.012012,    0.013013,    0.014014,    0.015015,    0.016016,    0.017017,    0.018018,    0.019019,     0.02002,    0.021021,    0.022022,    0.023023,\n",
              "          0.024024,    0.025025,    0.026026,    0.027027,    0.028028,    0.029029,     0.03003,    0.031031,    0.032032,    0.033033,    0.034034,    0.035035,    0.036036,    0.037037,    0.038038,    0.039039,     0.04004,    0.041041,    0.042042,    0.043043,    0.044044,    0.045045,    0.046046,    0.047047,\n",
              "          0.048048,    0.049049,     0.05005,    0.051051,    0.052052,    0.053053,    0.054054,    0.055055,    0.056056,    0.057057,    0.058058,    0.059059,     0.06006,    0.061061,    0.062062,    0.063063,    0.064064,    0.065065,    0.066066,    0.067067,    0.068068,    0.069069,     0.07007,    0.071071,\n",
              "          0.072072,    0.073073,    0.074074,    0.075075,    0.076076,    0.077077,    0.078078,    0.079079,     0.08008,    0.081081,    0.082082,    0.083083,    0.084084,    0.085085,    0.086086,    0.087087,    0.088088,    0.089089,     0.09009,    0.091091,    0.092092,    0.093093,    0.094094,    0.095095,\n",
              "          0.096096,    0.097097,    0.098098,    0.099099,      0.1001,      0.1011,      0.1021,      0.1031,      0.1041,     0.10511,     0.10611,     0.10711,     0.10811,     0.10911,     0.11011,     0.11111,     0.11211,     0.11311,     0.11411,     0.11512,     0.11612,     0.11712,     0.11812,     0.11912,\n",
              "           0.12012,     0.12112,     0.12212,     0.12312,     0.12412,     0.12513,     0.12613,     0.12713,     0.12813,     0.12913,     0.13013,     0.13113,     0.13213,     0.13313,     0.13413,     0.13514,     0.13614,     0.13714,     0.13814,     0.13914,     0.14014,     0.14114,     0.14214,     0.14314,\n",
              "           0.14414,     0.14515,     0.14615,     0.14715,     0.14815,     0.14915,     0.15015,     0.15115,     0.15215,     0.15315,     0.15415,     0.15516,     0.15616,     0.15716,     0.15816,     0.15916,     0.16016,     0.16116,     0.16216,     0.16316,     0.16416,     0.16517,     0.16617,     0.16717,\n",
              "           0.16817,     0.16917,     0.17017,     0.17117,     0.17217,     0.17317,     0.17417,     0.17518,     0.17618,     0.17718,     0.17818,     0.17918,     0.18018,     0.18118,     0.18218,     0.18318,     0.18418,     0.18519,     0.18619,     0.18719,     0.18819,     0.18919,     0.19019,     0.19119,\n",
              "           0.19219,     0.19319,     0.19419,      0.1952,      0.1962,      0.1972,      0.1982,      0.1992,      0.2002,      0.2012,      0.2022,      0.2032,      0.2042,     0.20521,     0.20621,     0.20721,     0.20821,     0.20921,     0.21021,     0.21121,     0.21221,     0.21321,     0.21421,     0.21522,\n",
              "           0.21622,     0.21722,     0.21822,     0.21922,     0.22022,     0.22122,     0.22222,     0.22322,     0.22422,     0.22523,     0.22623,     0.22723,     0.22823,     0.22923,     0.23023,     0.23123,     0.23223,     0.23323,     0.23423,     0.23524,     0.23624,     0.23724,     0.23824,     0.23924,\n",
              "           0.24024,     0.24124,     0.24224,     0.24324,     0.24424,     0.24525,     0.24625,     0.24725,     0.24825,     0.24925,     0.25025,     0.25125,     0.25225,     0.25325,     0.25425,     0.25526,     0.25626,     0.25726,     0.25826,     0.25926,     0.26026,     0.26126,     0.26226,     0.26326,\n",
              "           0.26426,     0.26527,     0.26627,     0.26727,     0.26827,     0.26927,     0.27027,     0.27127,     0.27227,     0.27327,     0.27427,     0.27528,     0.27628,     0.27728,     0.27828,     0.27928,     0.28028,     0.28128,     0.28228,     0.28328,     0.28428,     0.28529,     0.28629,     0.28729,\n",
              "           0.28829,     0.28929,     0.29029,     0.29129,     0.29229,     0.29329,     0.29429,      0.2953,      0.2963,      0.2973,      0.2983,      0.2993,      0.3003,      0.3013,      0.3023,      0.3033,      0.3043,     0.30531,     0.30631,     0.30731,     0.30831,     0.30931,     0.31031,     0.31131,\n",
              "           0.31231,     0.31331,     0.31431,     0.31532,     0.31632,     0.31732,     0.31832,     0.31932,     0.32032,     0.32132,     0.32232,     0.32332,     0.32432,     0.32533,     0.32633,     0.32733,     0.32833,     0.32933,     0.33033,     0.33133,     0.33233,     0.33333,     0.33433,     0.33534,\n",
              "           0.33634,     0.33734,     0.33834,     0.33934,     0.34034,     0.34134,     0.34234,     0.34334,     0.34434,     0.34535,     0.34635,     0.34735,     0.34835,     0.34935,     0.35035,     0.35135,     0.35235,     0.35335,     0.35435,     0.35536,     0.35636,     0.35736,     0.35836,     0.35936,\n",
              "           0.36036,     0.36136,     0.36236,     0.36336,     0.36436,     0.36537,     0.36637,     0.36737,     0.36837,     0.36937,     0.37037,     0.37137,     0.37237,     0.37337,     0.37437,     0.37538,     0.37638,     0.37738,     0.37838,     0.37938,     0.38038,     0.38138,     0.38238,     0.38338,\n",
              "           0.38438,     0.38539,     0.38639,     0.38739,     0.38839,     0.38939,     0.39039,     0.39139,     0.39239,     0.39339,     0.39439,      0.3954,      0.3964,      0.3974,      0.3984,      0.3994,      0.4004,      0.4014,      0.4024,      0.4034,      0.4044,     0.40541,     0.40641,     0.40741,\n",
              "           0.40841,     0.40941,     0.41041,     0.41141,     0.41241,     0.41341,     0.41441,     0.41542,     0.41642,     0.41742,     0.41842,     0.41942,     0.42042,     0.42142,     0.42242,     0.42342,     0.42442,     0.42543,     0.42643,     0.42743,     0.42843,     0.42943,     0.43043,     0.43143,\n",
              "           0.43243,     0.43343,     0.43443,     0.43544,     0.43644,     0.43744,     0.43844,     0.43944,     0.44044,     0.44144,     0.44244,     0.44344,     0.44444,     0.44545,     0.44645,     0.44745,     0.44845,     0.44945,     0.45045,     0.45145,     0.45245,     0.45345,     0.45445,     0.45546,\n",
              "           0.45646,     0.45746,     0.45846,     0.45946,     0.46046,     0.46146,     0.46246,     0.46346,     0.46446,     0.46547,     0.46647,     0.46747,     0.46847,     0.46947,     0.47047,     0.47147,     0.47247,     0.47347,     0.47447,     0.47548,     0.47648,     0.47748,     0.47848,     0.47948,\n",
              "           0.48048,     0.48148,     0.48248,     0.48348,     0.48448,     0.48549,     0.48649,     0.48749,     0.48849,     0.48949,     0.49049,     0.49149,     0.49249,     0.49349,     0.49449,      0.4955,      0.4965,      0.4975,      0.4985,      0.4995,      0.5005,      0.5015,      0.5025,      0.5035,\n",
              "            0.5045,     0.50551,     0.50651,     0.50751,     0.50851,     0.50951,     0.51051,     0.51151,     0.51251,     0.51351,     0.51451,     0.51552,     0.51652,     0.51752,     0.51852,     0.51952,     0.52052,     0.52152,     0.52252,     0.52352,     0.52452,     0.52553,     0.52653,     0.52753,\n",
              "           0.52853,     0.52953,     0.53053,     0.53153,     0.53253,     0.53353,     0.53453,     0.53554,     0.53654,     0.53754,     0.53854,     0.53954,     0.54054,     0.54154,     0.54254,     0.54354,     0.54454,     0.54555,     0.54655,     0.54755,     0.54855,     0.54955,     0.55055,     0.55155,\n",
              "           0.55255,     0.55355,     0.55455,     0.55556,     0.55656,     0.55756,     0.55856,     0.55956,     0.56056,     0.56156,     0.56256,     0.56356,     0.56456,     0.56557,     0.56657,     0.56757,     0.56857,     0.56957,     0.57057,     0.57157,     0.57257,     0.57357,     0.57457,     0.57558,\n",
              "           0.57658,     0.57758,     0.57858,     0.57958,     0.58058,     0.58158,     0.58258,     0.58358,     0.58458,     0.58559,     0.58659,     0.58759,     0.58859,     0.58959,     0.59059,     0.59159,     0.59259,     0.59359,     0.59459,      0.5956,      0.5966,      0.5976,      0.5986,      0.5996,\n",
              "            0.6006,      0.6016,      0.6026,      0.6036,      0.6046,     0.60561,     0.60661,     0.60761,     0.60861,     0.60961,     0.61061,     0.61161,     0.61261,     0.61361,     0.61461,     0.61562,     0.61662,     0.61762,     0.61862,     0.61962,     0.62062,     0.62162,     0.62262,     0.62362,\n",
              "           0.62462,     0.62563,     0.62663,     0.62763,     0.62863,     0.62963,     0.63063,     0.63163,     0.63263,     0.63363,     0.63463,     0.63564,     0.63664,     0.63764,     0.63864,     0.63964,     0.64064,     0.64164,     0.64264,     0.64364,     0.64464,     0.64565,     0.64665,     0.64765,\n",
              "           0.64865,     0.64965,     0.65065,     0.65165,     0.65265,     0.65365,     0.65465,     0.65566,     0.65666,     0.65766,     0.65866,     0.65966,     0.66066,     0.66166,     0.66266,     0.66366,     0.66466,     0.66567,     0.66667,     0.66767,     0.66867,     0.66967,     0.67067,     0.67167,\n",
              "           0.67267,     0.67367,     0.67467,     0.67568,     0.67668,     0.67768,     0.67868,     0.67968,     0.68068,     0.68168,     0.68268,     0.68368,     0.68468,     0.68569,     0.68669,     0.68769,     0.68869,     0.68969,     0.69069,     0.69169,     0.69269,     0.69369,     0.69469,      0.6957,\n",
              "            0.6967,      0.6977,      0.6987,      0.6997,      0.7007,      0.7017,      0.7027,      0.7037,      0.7047,     0.70571,     0.70671,     0.70771,     0.70871,     0.70971,     0.71071,     0.71171,     0.71271,     0.71371,     0.71471,     0.71572,     0.71672,     0.71772,     0.71872,     0.71972,\n",
              "           0.72072,     0.72172,     0.72272,     0.72372,     0.72472,     0.72573,     0.72673,     0.72773,     0.72873,     0.72973,     0.73073,     0.73173,     0.73273,     0.73373,     0.73473,     0.73574,     0.73674,     0.73774,     0.73874,     0.73974,     0.74074,     0.74174,     0.74274,     0.74374,\n",
              "           0.74474,     0.74575,     0.74675,     0.74775,     0.74875,     0.74975,     0.75075,     0.75175,     0.75275,     0.75375,     0.75475,     0.75576,     0.75676,     0.75776,     0.75876,     0.75976,     0.76076,     0.76176,     0.76276,     0.76376,     0.76476,     0.76577,     0.76677,     0.76777,\n",
              "           0.76877,     0.76977,     0.77077,     0.77177,     0.77277,     0.77377,     0.77477,     0.77578,     0.77678,     0.77778,     0.77878,     0.77978,     0.78078,     0.78178,     0.78278,     0.78378,     0.78478,     0.78579,     0.78679,     0.78779,     0.78879,     0.78979,     0.79079,     0.79179,\n",
              "           0.79279,     0.79379,     0.79479,      0.7958,      0.7968,      0.7978,      0.7988,      0.7998,      0.8008,      0.8018,      0.8028,      0.8038,      0.8048,     0.80581,     0.80681,     0.80781,     0.80881,     0.80981,     0.81081,     0.81181,     0.81281,     0.81381,     0.81481,     0.81582,\n",
              "           0.81682,     0.81782,     0.81882,     0.81982,     0.82082,     0.82182,     0.82282,     0.82382,     0.82482,     0.82583,     0.82683,     0.82783,     0.82883,     0.82983,     0.83083,     0.83183,     0.83283,     0.83383,     0.83483,     0.83584,     0.83684,     0.83784,     0.83884,     0.83984,\n",
              "           0.84084,     0.84184,     0.84284,     0.84384,     0.84484,     0.84585,     0.84685,     0.84785,     0.84885,     0.84985,     0.85085,     0.85185,     0.85285,     0.85385,     0.85485,     0.85586,     0.85686,     0.85786,     0.85886,     0.85986,     0.86086,     0.86186,     0.86286,     0.86386,\n",
              "           0.86486,     0.86587,     0.86687,     0.86787,     0.86887,     0.86987,     0.87087,     0.87187,     0.87287,     0.87387,     0.87487,     0.87588,     0.87688,     0.87788,     0.87888,     0.87988,     0.88088,     0.88188,     0.88288,     0.88388,     0.88488,     0.88589,     0.88689,     0.88789,\n",
              "           0.88889,     0.88989,     0.89089,     0.89189,     0.89289,     0.89389,     0.89489,      0.8959,      0.8969,      0.8979,      0.8989,      0.8999,      0.9009,      0.9019,      0.9029,      0.9039,      0.9049,     0.90591,     0.90691,     0.90791,     0.90891,     0.90991,     0.91091,     0.91191,\n",
              "           0.91291,     0.91391,     0.91491,     0.91592,     0.91692,     0.91792,     0.91892,     0.91992,     0.92092,     0.92192,     0.92292,     0.92392,     0.92492,     0.92593,     0.92693,     0.92793,     0.92893,     0.92993,     0.93093,     0.93193,     0.93293,     0.93393,     0.93493,     0.93594,\n",
              "           0.93694,     0.93794,     0.93894,     0.93994,     0.94094,     0.94194,     0.94294,     0.94394,     0.94494,     0.94595,     0.94695,     0.94795,     0.94895,     0.94995,     0.95095,     0.95195,     0.95295,     0.95395,     0.95495,     0.95596,     0.95696,     0.95796,     0.95896,     0.95996,\n",
              "           0.96096,     0.96196,     0.96296,     0.96396,     0.96496,     0.96597,     0.96697,     0.96797,     0.96897,     0.96997,     0.97097,     0.97197,     0.97297,     0.97397,     0.97497,     0.97598,     0.97698,     0.97798,     0.97898,     0.97998,     0.98098,     0.98198,     0.98298,     0.98398,\n",
              "           0.98498,     0.98599,     0.98699,     0.98799,     0.98899,     0.98999,     0.99099,     0.99199,     0.99299,     0.99399,     0.99499,       0.996,       0.997,       0.998,       0.999,           1]), array([[    0.77174,     0.77174,        0.75,     0.73913,     0.73913,     0.73188,     0.72464,     0.72101,     0.71739,     0.71377,     0.71014,     0.71014,     0.71014,     0.71014,     0.71014,     0.71014,     0.71014,      0.7029,      0.7029,      0.7029,     0.69928,     0.69928,     0.69928,\n",
              "            0.69203,     0.68841,     0.68841,     0.68841,     0.68478,     0.68478,     0.67754,     0.67754,     0.67754,     0.67754,     0.67754,     0.67754,     0.67754,     0.67391,     0.67391,     0.67391,     0.67391,     0.67391,     0.67029,     0.67029,     0.67029,     0.67029,     0.66667,\n",
              "            0.66667,     0.66667,     0.66667,     0.66667,     0.66667,     0.66667,     0.66667,     0.65942,     0.65942,     0.65942,     0.65942,     0.65942,     0.65942,     0.65942,     0.65942,     0.65942,     0.65942,     0.65942,     0.65942,     0.65942,     0.65942,     0.65942,     0.65942,\n",
              "            0.65942,     0.65942,     0.65942,     0.65942,     0.65942,     0.65827,      0.6558,     0.65526,     0.65217,     0.65217,     0.65217,     0.65217,     0.65217,     0.65217,     0.65217,     0.65217,     0.65217,     0.64855,     0.64855,     0.64855,     0.64493,     0.64493,     0.64493,\n",
              "            0.64223,      0.6413,      0.6413,      0.6413,     0.63768,     0.63768,     0.63768,     0.63768,     0.63683,     0.63406,     0.63406,     0.63406,     0.63406,     0.63406,     0.63406,     0.63406,     0.63406,     0.63406,     0.63406,     0.63406,     0.63406,     0.63043,     0.63043,\n",
              "            0.63043,     0.63043,     0.63043,     0.63043,     0.63043,     0.63043,     0.63043,     0.63043,     0.63043,     0.63043,     0.63043,     0.63043,     0.63043,     0.63043,     0.63043,     0.63043,     0.63043,     0.63043,     0.63043,     0.63043,     0.63043,     0.63043,     0.63043,\n",
              "            0.63043,     0.63043,     0.63043,     0.63043,     0.62814,     0.62681,     0.62681,     0.62681,     0.62681,     0.62681,     0.62681,     0.62681,     0.62681,     0.62681,     0.62681,     0.62319,     0.62319,     0.62319,     0.62192,     0.62045,     0.61957,     0.61957,     0.61957,\n",
              "            0.61957,     0.61957,     0.61957,     0.61957,     0.61957,     0.61957,     0.61957,     0.61957,     0.61957,     0.61957,     0.61957,     0.61957,     0.61957,     0.61957,     0.61957,     0.61957,     0.61957,     0.61957,     0.61957,     0.61957,     0.61957,     0.61957,     0.61957,\n",
              "            0.61957,     0.61957,     0.61957,     0.61957,     0.61957,     0.61957,     0.61957,     0.61957,     0.61957,     0.61957,     0.61957,     0.61957,     0.61594,     0.61594,     0.61594,     0.61594,     0.61594,     0.61594,     0.61594,     0.61594,     0.61594,     0.61594,     0.61594,\n",
              "            0.61594,     0.61594,     0.61594,     0.61594,     0.61594,     0.61594,     0.61594,     0.61232,     0.61232,     0.61232,     0.61232,      0.6087,      0.6087,      0.6087,     0.60235,     0.59769,     0.59668,     0.59566,     0.59465,      0.5942,      0.5942,      0.5942,      0.5942,\n",
              "             0.5942,      0.5942,      0.5942,     0.59058,     0.59058,     0.59058,     0.59058,     0.59058,     0.59058,     0.58785,     0.58696,      0.5868,      0.5847,     0.58333,     0.58333,     0.58333,     0.58333,     0.58333,     0.58333,     0.58333,     0.58333,     0.58333,     0.58333,\n",
              "            0.58333,     0.58333,     0.58333,     0.58333,     0.58333,     0.58333,     0.58333,     0.58333,     0.58333,     0.58333,     0.58333,     0.58333,     0.58333,     0.58333,     0.58333,     0.58333,     0.57971,     0.57971,     0.57971,     0.57873,     0.57609,     0.57609,     0.57609,\n",
              "            0.57609,     0.57609,     0.57609,     0.57609,     0.57609,     0.57609,     0.57609,     0.57609,     0.57609,     0.57609,     0.57609,     0.57609,     0.57609,     0.57609,     0.57609,     0.57609,     0.57609,     0.57609,     0.57609,     0.57609,     0.57281,     0.57174,     0.57096,\n",
              "            0.57017,     0.56939,     0.56863,     0.56794,     0.56724,     0.56655,     0.56586,     0.56522,     0.56522,     0.56522,     0.56522,     0.56522,     0.56522,     0.56522,     0.56265,     0.56159,     0.56159,     0.56159,     0.56159,     0.56159,     0.56159,     0.56159,     0.56159,\n",
              "            0.56159,     0.56159,     0.55797,     0.55797,     0.55797,     0.55797,     0.55797,     0.55797,     0.55797,     0.55797,     0.55797,     0.55733,      0.5549,     0.55435,     0.55435,     0.55435,     0.55435,     0.55435,     0.55435,     0.55435,     0.55435,      0.5521,     0.55072,\n",
              "            0.55072,     0.54982,     0.54852,     0.54722,      0.5471,      0.5471,      0.5471,      0.5471,      0.5471,      0.5471,      0.5471,     0.53984,     0.53876,     0.53768,      0.5366,     0.53579,     0.53512,     0.53446,     0.53379,     0.53313,     0.53236,     0.53126,     0.53015,\n",
              "            0.52905,     0.52899,     0.52899,     0.52899,     0.52899,     0.52899,      0.5283,     0.52692,     0.52555,     0.52299,     0.51858,     0.51812,     0.51812,     0.51812,     0.51812,     0.51812,     0.51812,     0.51812,     0.51812,     0.51812,     0.51812,     0.51812,     0.51812,\n",
              "            0.51736,     0.51609,     0.51483,     0.51449,     0.51449,     0.51449,     0.51449,     0.51449,     0.51449,     0.51449,     0.51449,     0.51449,     0.51449,     0.51449,     0.51449,     0.51449,     0.51449,     0.51449,     0.51116,     0.51087,     0.51087,     0.51078,     0.51044,\n",
              "            0.51009,     0.50974,      0.5094,     0.50905,      0.5087,     0.50835,     0.50801,     0.50766,     0.50731,     0.50725,     0.50725,     0.50725,     0.50725,     0.50725,     0.50725,     0.50725,     0.50647,     0.50362,     0.50362,     0.50362,     0.50362,     0.50362,     0.50264,\n",
              "            0.50137,      0.5001,     0.49454,     0.49207,     0.48787,     0.48188,     0.48188,     0.48188,     0.48188,     0.48172,     0.48113,     0.48054,     0.47995,     0.47937,     0.47878,     0.47806,     0.47631,     0.47464,     0.47368,     0.47205,     0.47101,     0.47101,     0.47101,\n",
              "            0.47101,     0.47101,     0.47101,     0.47051,     0.46933,     0.46815,     0.46739,     0.46739,     0.46739,     0.46667,     0.46453,     0.46319,      0.4623,      0.4614,      0.4605,     0.45955,     0.45855,     0.45756,     0.45656,     0.45652,     0.45652,     0.45652,     0.45652,\n",
              "            0.45633,     0.45574,     0.45516,     0.45458,     0.45399,     0.45341,      0.4529,     0.45053,     0.44928,     0.44928,     0.44749,     0.44543,     0.44351,     0.44203,     0.44203,     0.44203,     0.44203,     0.44203,     0.44203,     0.44203,     0.44203,     0.44203,     0.43899,\n",
              "            0.43841,     0.43841,     0.43841,     0.43478,     0.43478,     0.43478,     0.43478,     0.43478,     0.43478,     0.43478,     0.43478,     0.43478,     0.43478,     0.43478,     0.43478,     0.43478,     0.43478,     0.43478,     0.43116,     0.43116,      0.4301,     0.42831,     0.42754,\n",
              "            0.42754,     0.42754,     0.42754,     0.42754,     0.42754,     0.42754,     0.42754,     0.42754,     0.42754,     0.42754,     0.42754,     0.42754,     0.42712,     0.42623,     0.42534,     0.42445,     0.42329,     0.42172,     0.42029,     0.42029,     0.42029,     0.42029,     0.42029,\n",
              "            0.42029,     0.42029,     0.41858,     0.41668,     0.41614,     0.41561,     0.41508,     0.41456,     0.41403,      0.4135,     0.41193,     0.40942,     0.40942,     0.40942,     0.40942,     0.40942,     0.40451,     0.40217,     0.40217,     0.40217,     0.40217,     0.40217,     0.40217,\n",
              "            0.40073,     0.39858,     0.39674,     0.39491,     0.39299,      0.3913,      0.3913,      0.3913,      0.3913,     0.39129,     0.39099,     0.39069,     0.39039,     0.39009,     0.38979,     0.38949,     0.38919,     0.38889,     0.38859,     0.38829,     0.38799,     0.38769,     0.38768,\n",
              "            0.38426,     0.38173,     0.37961,     0.37782,      0.3719,     0.36957,     0.36957,     0.36957,     0.36957,     0.36957,     0.36957,     0.36842,     0.36722,     0.36601,     0.36594,     0.36594,     0.36594,     0.36594,     0.36594,     0.36594,     0.36594,     0.36558,     0.36232,\n",
              "            0.36232,     0.36232,     0.36232,     0.36232,     0.36232,     0.36232,     0.36232,     0.36232,      0.3584,     0.35736,     0.35632,     0.35528,     0.35373,     0.35206,     0.35066,     0.34942,     0.34817,     0.34783,     0.34783,     0.34783,     0.34511,     0.34399,     0.34374,\n",
              "            0.34348,     0.34323,     0.34298,     0.34272,     0.34247,     0.34222,     0.34196,     0.34171,     0.34146,     0.34121,     0.34095,      0.3407,     0.33868,     0.33315,      0.3314,     0.32968,     0.32849,      0.3273,     0.32612,     0.32609,     0.32609,     0.32609,     0.32609,\n",
              "            0.32609,     0.32587,     0.32557,     0.32528,     0.32498,     0.32469,     0.32439,      0.3241,      0.3238,     0.32351,     0.32321,     0.32292,     0.32262,     0.31926,     0.31775,     0.31658,     0.31541,     0.31116,     0.30979,     0.30841,     0.30797,     0.30761,      0.3071,\n",
              "            0.30658,     0.30606,     0.30555,     0.30503,     0.30451,     0.30313,     0.30132,     0.29612,     0.29348,     0.29348,     0.29348,     0.29348,     0.29348,     0.29348,     0.28966,     0.28735,     0.28555,     0.28423,     0.28292,     0.28146,     0.27996,     0.27536,     0.27536,\n",
              "            0.27536,     0.27536,     0.27536,     0.27536,     0.27536,     0.27536,     0.27536,     0.27179,     0.26953,     0.26665,     0.26334,     0.26087,     0.26087,     0.26061,     0.25958,     0.25856,     0.25754,     0.25725,     0.25725,     0.25725,     0.25436,     0.25313,     0.25253,\n",
              "            0.25193,     0.25133,     0.25073,     0.25013,     0.24824,     0.24577,     0.24269,      0.2419,     0.24112,     0.24033,     0.23955,     0.23859,     0.23742,     0.23625,      0.2331,     0.23052,     0.22885,     0.22458,     0.22409,      0.2236,     0.22312,     0.22263,     0.22214,\n",
              "            0.22166,     0.22117,     0.22005,     0.21862,     0.21725,     0.21625,     0.21526,     0.21426,     0.21157,     0.20955,     0.20868,      0.2078,     0.20693,     0.20587,     0.20465,     0.20342,     0.20048,      0.1942,     0.19112,     0.18986,     0.18859,     0.18714,     0.18565,\n",
              "            0.18112,     0.18022,     0.17932,     0.17842,     0.17749,     0.17564,     0.17372,     0.17074,     0.16295,      0.1625,     0.16204,     0.16159,     0.16113,     0.16068,     0.16023,     0.15977,     0.15853,      0.1552,     0.15332,     0.15217,      0.1444,     0.14123,     0.14033,\n",
              "            0.13944,     0.13855,     0.13765,     0.13654,     0.13543,     0.13432,      0.1334,     0.13254,     0.13169,     0.13083,     0.13009,     0.12947,     0.12884,     0.12821,     0.12759,     0.12696,     0.12642,     0.12591,     0.12539,     0.12488,     0.12436,     0.12385,     0.12333,\n",
              "            0.12227,     0.12099,     0.11971,      0.1157,     0.11401,     0.11232,     0.11178,     0.11125,     0.11072,     0.11018,     0.10965,     0.10911,     0.10614,     0.10361,       0.102,     0.10064,    0.099397,    0.098156,    0.093008,    0.091268,    0.088775,    0.086098,    0.083902,\n",
              "           0.081849,    0.079847,     0.07761,    0.075778,    0.074823,    0.073868,    0.072913,    0.072464,    0.072464,    0.072177,    0.071833,    0.071489,    0.071145,    0.070801,    0.070457,    0.070113,    0.069769,    0.069425,    0.069081,    0.068841,    0.068665,    0.067627,    0.066589,\n",
              "            0.06555,    0.064029,    0.062279,    0.060609,     0.05899,    0.056857,    0.054176,    0.053141,    0.052106,    0.051071,    0.050353,    0.049795,    0.049237,    0.048678,     0.04812,    0.047562,    0.043352,    0.042455,    0.041558,    0.040661,    0.039803,    0.039285,    0.038768,\n",
              "            0.03825,    0.037732,    0.037215,    0.036697,    0.035791,    0.032511,    0.032149,    0.031787,    0.031426,    0.031064,    0.030702,    0.030341,    0.029979,    0.029617,    0.029255,    0.028071,    0.025167,     0.02438,    0.023594,    0.022807,     0.02202,    0.017867,    0.016666,\n",
              "           0.015465,    0.014392,    0.013867,    0.013341,    0.012815,     0.01229,    0.011764,    0.011238,    0.010678,    0.010036,   0.0093948,   0.0087533,   0.0081118,   0.0074702,   0.0070701,   0.0067993,   0.0065286,   0.0062578,   0.0059871,   0.0057163,   0.0054455,   0.0051748,    0.004904,\n",
              "          0.0046333,   0.0043625,   0.0040917,    0.003821,           0,           0,           0,           0,           0,           0,           0,           0,           0,           0,           0,           0,           0,           0,           0,           0,           0,           0,           0,\n",
              "                  0,           0,           0,           0,           0,           0,           0,           0,           0,           0,           0,           0,           0,           0,           0,           0,           0,           0,           0,           0,           0,           0,           0,\n",
              "                  0,           0,           0,           0,           0,           0,           0,           0,           0,           0,           0]]), 'Confidence', 'Recall']]\n",
              "fitness: np.float64(0.7029369725268193)\n",
              "keys: ['metrics/precision(B)', 'metrics/recall(B)', 'metrics/mAP50(B)', 'metrics/mAP50-95(B)', 'metrics/precision(M)', 'metrics/recall(M)', 'metrics/mAP50(M)', 'metrics/mAP50-95(M)']\n",
              "maps: array([    0.64859])\n",
              "names: {0: 'Camo'}\n",
              "nt_per_class: array([276])\n",
              "nt_per_image: array([250])\n",
              "results_dict: {'metrics/precision(B)': np.float64(0.7080063785785483), 'metrics/recall(B)': np.float64(0.5543478260869565), 'metrics/mAP50(B)': np.float64(0.6357257105965921), 'metrics/mAP50-95(B)': np.float64(0.35494868956820924), 'metrics/precision(M)': np.float64(0.6406681854041788), 'metrics/recall(M)': np.float64(0.5579710144927537), 'metrics/mAP50(M)': np.float64(0.5563396554148876), 'metrics/mAP50-95(M)': np.float64(0.2936406836825366), 'fitness': np.float64(0.7029369725268193)}\n",
              "save_dir: PosixPath('/content/drive/MyDrive/Colab Notebooks/Dataset/CAMO/runs/yolo_seg_CAMO7')\n",
              "seg: ultralytics.utils.metrics.Metric object\n",
              "speed: {'preprocess': 0.407524359980016, 'inference': 87.60938460002944, 'loss': 0.00010737199045252055, 'postprocess': 1.8018362399889156}\n",
              "stats: {'tp': [], 'conf': [], 'pred_cls': [], 'target_cls': [], 'target_img': [], 'tp_m': []}\n",
              "task: 'segment'"
            ]
          },
          "metadata": {},
          "execution_count": 5
        }
      ]
    },
    {
      "cell_type": "markdown",
      "source": [
        "Evaluate the Model\n",
        "To get metrics\n"
      ],
      "metadata": {
        "id": "7RlLS0QoeZuy"
      }
    },
    {
      "cell_type": "code",
      "source": [
        "from ultralytics import YOLO\n",
        "model = YOLO(\"path_to_best.pt\")\n",
        "metrics = model.val()\n",
        "metrics = model.val()\n",
        "print(metrics.box)   # For bounding box metrics\n",
        "print(metrics.mask)  # For segmentation mask metrics\n"
      ],
      "metadata": {
        "colab": {
          "base_uri": "https://localhost:8080/",
          "height": 356
        },
        "id": "CM-rNrv7CHJO",
        "outputId": "3f258555-135d-4a2f-b8c3-b8c1409849f0"
      },
      "execution_count": null,
      "outputs": [
        {
          "output_type": "error",
          "ename": "FileNotFoundError",
          "evalue": "[Errno 2] No such file or directory: 'path_to_best.pt'",
          "traceback": [
            "\u001b[0;31m---------------------------------------------------------------------------\u001b[0m",
            "\u001b[0;31mFileNotFoundError\u001b[0m                         Traceback (most recent call last)",
            "\u001b[0;32m/tmp/ipython-input-6-2463126597.py\u001b[0m in \u001b[0;36m<cell line: 0>\u001b[0;34m()\u001b[0m\n\u001b[1;32m      1\u001b[0m \u001b[0;32mfrom\u001b[0m \u001b[0multralytics\u001b[0m \u001b[0;32mimport\u001b[0m \u001b[0mYOLO\u001b[0m\u001b[0;34m\u001b[0m\u001b[0;34m\u001b[0m\u001b[0m\n\u001b[0;32m----> 2\u001b[0;31m \u001b[0mmodel\u001b[0m \u001b[0;34m=\u001b[0m \u001b[0mYOLO\u001b[0m\u001b[0;34m(\u001b[0m\u001b[0;34m\"path_to_best.pt\"\u001b[0m\u001b[0;34m)\u001b[0m\u001b[0;34m\u001b[0m\u001b[0;34m\u001b[0m\u001b[0m\n\u001b[0m\u001b[1;32m      3\u001b[0m \u001b[0mmetrics\u001b[0m \u001b[0;34m=\u001b[0m \u001b[0mmodel\u001b[0m\u001b[0;34m.\u001b[0m\u001b[0mval\u001b[0m\u001b[0;34m(\u001b[0m\u001b[0;34m)\u001b[0m\u001b[0;34m\u001b[0m\u001b[0;34m\u001b[0m\u001b[0m\n\u001b[1;32m      4\u001b[0m \u001b[0mmetrics\u001b[0m \u001b[0;34m=\u001b[0m \u001b[0mmodel\u001b[0m\u001b[0;34m.\u001b[0m\u001b[0mval\u001b[0m\u001b[0;34m(\u001b[0m\u001b[0;34m)\u001b[0m\u001b[0;34m\u001b[0m\u001b[0;34m\u001b[0m\u001b[0m\n\u001b[1;32m      5\u001b[0m \u001b[0mprint\u001b[0m\u001b[0;34m(\u001b[0m\u001b[0mmetrics\u001b[0m\u001b[0;34m.\u001b[0m\u001b[0mbox\u001b[0m\u001b[0;34m)\u001b[0m   \u001b[0;31m# For bounding box metrics\u001b[0m\u001b[0;34m\u001b[0m\u001b[0;34m\u001b[0m\u001b[0m\n",
            "\u001b[0;32m/usr/local/lib/python3.11/dist-packages/ultralytics/models/yolo/model.py\u001b[0m in \u001b[0;36m__init__\u001b[0;34m(self, model, task, verbose)\u001b[0m\n\u001b[1;32m     77\u001b[0m         \u001b[0;32melse\u001b[0m\u001b[0;34m:\u001b[0m\u001b[0;34m\u001b[0m\u001b[0;34m\u001b[0m\u001b[0m\n\u001b[1;32m     78\u001b[0m             \u001b[0;31m# Continue with default YOLO initialization\u001b[0m\u001b[0;34m\u001b[0m\u001b[0;34m\u001b[0m\u001b[0m\n\u001b[0;32m---> 79\u001b[0;31m             \u001b[0msuper\u001b[0m\u001b[0;34m(\u001b[0m\u001b[0;34m)\u001b[0m\u001b[0;34m.\u001b[0m\u001b[0m__init__\u001b[0m\u001b[0;34m(\u001b[0m\u001b[0mmodel\u001b[0m\u001b[0;34m=\u001b[0m\u001b[0mmodel\u001b[0m\u001b[0;34m,\u001b[0m \u001b[0mtask\u001b[0m\u001b[0;34m=\u001b[0m\u001b[0mtask\u001b[0m\u001b[0;34m,\u001b[0m \u001b[0mverbose\u001b[0m\u001b[0;34m=\u001b[0m\u001b[0mverbose\u001b[0m\u001b[0;34m)\u001b[0m\u001b[0;34m\u001b[0m\u001b[0;34m\u001b[0m\u001b[0m\n\u001b[0m\u001b[1;32m     80\u001b[0m             \u001b[0;32mif\u001b[0m \u001b[0mhasattr\u001b[0m\u001b[0;34m(\u001b[0m\u001b[0mself\u001b[0m\u001b[0;34m.\u001b[0m\u001b[0mmodel\u001b[0m\u001b[0;34m,\u001b[0m \u001b[0;34m\"model\"\u001b[0m\u001b[0;34m)\u001b[0m \u001b[0;32mand\u001b[0m \u001b[0;34m\"RTDETR\"\u001b[0m \u001b[0;32min\u001b[0m \u001b[0mself\u001b[0m\u001b[0;34m.\u001b[0m\u001b[0mmodel\u001b[0m\u001b[0;34m.\u001b[0m\u001b[0mmodel\u001b[0m\u001b[0;34m[\u001b[0m\u001b[0;34m-\u001b[0m\u001b[0;36m1\u001b[0m\u001b[0;34m]\u001b[0m\u001b[0;34m.\u001b[0m\u001b[0m_get_name\u001b[0m\u001b[0;34m(\u001b[0m\u001b[0;34m)\u001b[0m\u001b[0;34m:\u001b[0m  \u001b[0;31m# if RTDETR head\u001b[0m\u001b[0;34m\u001b[0m\u001b[0;34m\u001b[0m\u001b[0m\n\u001b[1;32m     81\u001b[0m                 \u001b[0;32mfrom\u001b[0m \u001b[0multralytics\u001b[0m \u001b[0;32mimport\u001b[0m \u001b[0mRTDETR\u001b[0m\u001b[0;34m\u001b[0m\u001b[0;34m\u001b[0m\u001b[0m\n",
            "\u001b[0;32m/usr/local/lib/python3.11/dist-packages/ultralytics/engine/model.py\u001b[0m in \u001b[0;36m__init__\u001b[0;34m(self, model, task, verbose)\u001b[0m\n\u001b[1;32m    149\u001b[0m             \u001b[0mself\u001b[0m\u001b[0;34m.\u001b[0m\u001b[0m_new\u001b[0m\u001b[0;34m(\u001b[0m\u001b[0mmodel\u001b[0m\u001b[0;34m,\u001b[0m \u001b[0mtask\u001b[0m\u001b[0;34m=\u001b[0m\u001b[0mtask\u001b[0m\u001b[0;34m,\u001b[0m \u001b[0mverbose\u001b[0m\u001b[0;34m=\u001b[0m\u001b[0mverbose\u001b[0m\u001b[0;34m)\u001b[0m\u001b[0;34m\u001b[0m\u001b[0;34m\u001b[0m\u001b[0m\n\u001b[1;32m    150\u001b[0m         \u001b[0;32melse\u001b[0m\u001b[0;34m:\u001b[0m\u001b[0;34m\u001b[0m\u001b[0;34m\u001b[0m\u001b[0m\n\u001b[0;32m--> 151\u001b[0;31m             \u001b[0mself\u001b[0m\u001b[0;34m.\u001b[0m\u001b[0m_load\u001b[0m\u001b[0;34m(\u001b[0m\u001b[0mmodel\u001b[0m\u001b[0;34m,\u001b[0m \u001b[0mtask\u001b[0m\u001b[0;34m=\u001b[0m\u001b[0mtask\u001b[0m\u001b[0;34m)\u001b[0m\u001b[0;34m\u001b[0m\u001b[0;34m\u001b[0m\u001b[0m\n\u001b[0m\u001b[1;32m    152\u001b[0m \u001b[0;34m\u001b[0m\u001b[0m\n\u001b[1;32m    153\u001b[0m         \u001b[0;31m# Delete super().training for accessing self.model.training\u001b[0m\u001b[0;34m\u001b[0m\u001b[0;34m\u001b[0m\u001b[0m\n",
            "\u001b[0;32m/usr/local/lib/python3.11/dist-packages/ultralytics/engine/model.py\u001b[0m in \u001b[0;36m_load\u001b[0;34m(self, weights, task)\u001b[0m\n\u001b[1;32m    293\u001b[0m \u001b[0;34m\u001b[0m\u001b[0m\n\u001b[1;32m    294\u001b[0m         \u001b[0;32mif\u001b[0m \u001b[0mstr\u001b[0m\u001b[0;34m(\u001b[0m\u001b[0mweights\u001b[0m\u001b[0;34m)\u001b[0m\u001b[0;34m.\u001b[0m\u001b[0mrpartition\u001b[0m\u001b[0;34m(\u001b[0m\u001b[0;34m\".\"\u001b[0m\u001b[0;34m)\u001b[0m\u001b[0;34m[\u001b[0m\u001b[0;34m-\u001b[0m\u001b[0;36m1\u001b[0m\u001b[0;34m]\u001b[0m \u001b[0;34m==\u001b[0m \u001b[0;34m\"pt\"\u001b[0m\u001b[0;34m:\u001b[0m\u001b[0;34m\u001b[0m\u001b[0;34m\u001b[0m\u001b[0m\n\u001b[0;32m--> 295\u001b[0;31m             \u001b[0mself\u001b[0m\u001b[0;34m.\u001b[0m\u001b[0mmodel\u001b[0m\u001b[0;34m,\u001b[0m \u001b[0mself\u001b[0m\u001b[0;34m.\u001b[0m\u001b[0mckpt\u001b[0m \u001b[0;34m=\u001b[0m \u001b[0mattempt_load_one_weight\u001b[0m\u001b[0;34m(\u001b[0m\u001b[0mweights\u001b[0m\u001b[0;34m)\u001b[0m\u001b[0;34m\u001b[0m\u001b[0;34m\u001b[0m\u001b[0m\n\u001b[0m\u001b[1;32m    296\u001b[0m             \u001b[0mself\u001b[0m\u001b[0;34m.\u001b[0m\u001b[0mtask\u001b[0m \u001b[0;34m=\u001b[0m \u001b[0mself\u001b[0m\u001b[0;34m.\u001b[0m\u001b[0mmodel\u001b[0m\u001b[0;34m.\u001b[0m\u001b[0mtask\u001b[0m\u001b[0;34m\u001b[0m\u001b[0;34m\u001b[0m\u001b[0m\n\u001b[1;32m    297\u001b[0m             \u001b[0mself\u001b[0m\u001b[0;34m.\u001b[0m\u001b[0moverrides\u001b[0m \u001b[0;34m=\u001b[0m \u001b[0mself\u001b[0m\u001b[0;34m.\u001b[0m\u001b[0mmodel\u001b[0m\u001b[0;34m.\u001b[0m\u001b[0margs\u001b[0m \u001b[0;34m=\u001b[0m \u001b[0mself\u001b[0m\u001b[0;34m.\u001b[0m\u001b[0m_reset_ckpt_args\u001b[0m\u001b[0;34m(\u001b[0m\u001b[0mself\u001b[0m\u001b[0;34m.\u001b[0m\u001b[0mmodel\u001b[0m\u001b[0;34m.\u001b[0m\u001b[0margs\u001b[0m\u001b[0;34m)\u001b[0m\u001b[0;34m\u001b[0m\u001b[0;34m\u001b[0m\u001b[0m\n",
            "\u001b[0;32m/usr/local/lib/python3.11/dist-packages/ultralytics/nn/tasks.py\u001b[0m in \u001b[0;36mattempt_load_one_weight\u001b[0;34m(weight, device, inplace, fuse)\u001b[0m\n\u001b[1;32m   1549\u001b[0m         \u001b[0mckpt\u001b[0m \u001b[0;34m(\u001b[0m\u001b[0mdict\u001b[0m\u001b[0;34m)\u001b[0m\u001b[0;34m:\u001b[0m \u001b[0mModel\u001b[0m \u001b[0mcheckpoint\u001b[0m \u001b[0mdictionary\u001b[0m\u001b[0;34m.\u001b[0m\u001b[0;34m\u001b[0m\u001b[0;34m\u001b[0m\u001b[0m\n\u001b[1;32m   1550\u001b[0m     \"\"\"\n\u001b[0;32m-> 1551\u001b[0;31m     \u001b[0mckpt\u001b[0m\u001b[0;34m,\u001b[0m \u001b[0mweight\u001b[0m \u001b[0;34m=\u001b[0m \u001b[0mtorch_safe_load\u001b[0m\u001b[0;34m(\u001b[0m\u001b[0mweight\u001b[0m\u001b[0;34m)\u001b[0m  \u001b[0;31m# load ckpt\u001b[0m\u001b[0;34m\u001b[0m\u001b[0;34m\u001b[0m\u001b[0m\n\u001b[0m\u001b[1;32m   1552\u001b[0m     \u001b[0margs\u001b[0m \u001b[0;34m=\u001b[0m \u001b[0;34m{\u001b[0m\u001b[0;34m**\u001b[0m\u001b[0mDEFAULT_CFG_DICT\u001b[0m\u001b[0;34m,\u001b[0m \u001b[0;34m**\u001b[0m\u001b[0;34m(\u001b[0m\u001b[0mckpt\u001b[0m\u001b[0;34m.\u001b[0m\u001b[0mget\u001b[0m\u001b[0;34m(\u001b[0m\u001b[0;34m\"train_args\"\u001b[0m\u001b[0;34m,\u001b[0m \u001b[0;34m{\u001b[0m\u001b[0;34m}\u001b[0m\u001b[0;34m)\u001b[0m\u001b[0;34m)\u001b[0m\u001b[0;34m}\u001b[0m  \u001b[0;31m# combine model and default args, preferring model args\u001b[0m\u001b[0;34m\u001b[0m\u001b[0;34m\u001b[0m\u001b[0m\n\u001b[1;32m   1553\u001b[0m     \u001b[0mmodel\u001b[0m \u001b[0;34m=\u001b[0m \u001b[0;34m(\u001b[0m\u001b[0mckpt\u001b[0m\u001b[0;34m.\u001b[0m\u001b[0mget\u001b[0m\u001b[0;34m(\u001b[0m\u001b[0;34m\"ema\"\u001b[0m\u001b[0;34m)\u001b[0m \u001b[0;32mor\u001b[0m \u001b[0mckpt\u001b[0m\u001b[0;34m[\u001b[0m\u001b[0;34m\"model\"\u001b[0m\u001b[0;34m]\u001b[0m\u001b[0;34m)\u001b[0m\u001b[0;34m.\u001b[0m\u001b[0mto\u001b[0m\u001b[0;34m(\u001b[0m\u001b[0mdevice\u001b[0m\u001b[0;34m)\u001b[0m\u001b[0;34m.\u001b[0m\u001b[0mfloat\u001b[0m\u001b[0;34m(\u001b[0m\u001b[0;34m)\u001b[0m  \u001b[0;31m# FP32 model\u001b[0m\u001b[0;34m\u001b[0m\u001b[0;34m\u001b[0m\u001b[0m\n",
            "\u001b[0;32m/usr/local/lib/python3.11/dist-packages/ultralytics/nn/tasks.py\u001b[0m in \u001b[0;36mtorch_safe_load\u001b[0;34m(weight, safe_only)\u001b[0m\n\u001b[1;32m   1447\u001b[0m                     \u001b[0mckpt\u001b[0m \u001b[0;34m=\u001b[0m \u001b[0mtorch_load\u001b[0m\u001b[0;34m(\u001b[0m\u001b[0mf\u001b[0m\u001b[0;34m,\u001b[0m \u001b[0mpickle_module\u001b[0m\u001b[0;34m=\u001b[0m\u001b[0msafe_pickle\u001b[0m\u001b[0;34m)\u001b[0m\u001b[0;34m\u001b[0m\u001b[0;34m\u001b[0m\u001b[0m\n\u001b[1;32m   1448\u001b[0m             \u001b[0;32melse\u001b[0m\u001b[0;34m:\u001b[0m\u001b[0;34m\u001b[0m\u001b[0;34m\u001b[0m\u001b[0m\n\u001b[0;32m-> 1449\u001b[0;31m                 \u001b[0mckpt\u001b[0m \u001b[0;34m=\u001b[0m \u001b[0mtorch_load\u001b[0m\u001b[0;34m(\u001b[0m\u001b[0mfile\u001b[0m\u001b[0;34m,\u001b[0m \u001b[0mmap_location\u001b[0m\u001b[0;34m=\u001b[0m\u001b[0;34m\"cpu\"\u001b[0m\u001b[0;34m)\u001b[0m\u001b[0;34m\u001b[0m\u001b[0;34m\u001b[0m\u001b[0m\n\u001b[0m\u001b[1;32m   1450\u001b[0m \u001b[0;34m\u001b[0m\u001b[0m\n\u001b[1;32m   1451\u001b[0m     \u001b[0;32mexcept\u001b[0m \u001b[0mModuleNotFoundError\u001b[0m \u001b[0;32mas\u001b[0m \u001b[0me\u001b[0m\u001b[0;34m:\u001b[0m  \u001b[0;31m# e.name is missing module name\u001b[0m\u001b[0;34m\u001b[0m\u001b[0;34m\u001b[0m\u001b[0m\n",
            "\u001b[0;32m/usr/local/lib/python3.11/dist-packages/ultralytics/utils/patches.py\u001b[0m in \u001b[0;36mtorch_load\u001b[0;34m(*args, **kwargs)\u001b[0m\n\u001b[1;32m    116\u001b[0m         \u001b[0mkwargs\u001b[0m\u001b[0;34m[\u001b[0m\u001b[0;34m\"weights_only\"\u001b[0m\u001b[0;34m]\u001b[0m \u001b[0;34m=\u001b[0m \u001b[0;32mFalse\u001b[0m\u001b[0;34m\u001b[0m\u001b[0;34m\u001b[0m\u001b[0m\n\u001b[1;32m    117\u001b[0m \u001b[0;34m\u001b[0m\u001b[0m\n\u001b[0;32m--> 118\u001b[0;31m     \u001b[0;32mreturn\u001b[0m \u001b[0mtorch\u001b[0m\u001b[0;34m.\u001b[0m\u001b[0mload\u001b[0m\u001b[0;34m(\u001b[0m\u001b[0;34m*\u001b[0m\u001b[0margs\u001b[0m\u001b[0;34m,\u001b[0m \u001b[0;34m**\u001b[0m\u001b[0mkwargs\u001b[0m\u001b[0;34m)\u001b[0m\u001b[0;34m\u001b[0m\u001b[0;34m\u001b[0m\u001b[0m\n\u001b[0m\u001b[1;32m    119\u001b[0m \u001b[0;34m\u001b[0m\u001b[0m\n\u001b[1;32m    120\u001b[0m \u001b[0;34m\u001b[0m\u001b[0m\n",
            "\u001b[0;32m/usr/local/lib/python3.11/dist-packages/torch/serialization.py\u001b[0m in \u001b[0;36mload\u001b[0;34m(f, map_location, pickle_module, weights_only, mmap, **pickle_load_args)\u001b[0m\n\u001b[1;32m   1423\u001b[0m         \u001b[0mpickle_load_args\u001b[0m\u001b[0;34m[\u001b[0m\u001b[0;34m\"encoding\"\u001b[0m\u001b[0;34m]\u001b[0m \u001b[0;34m=\u001b[0m \u001b[0;34m\"utf-8\"\u001b[0m\u001b[0;34m\u001b[0m\u001b[0;34m\u001b[0m\u001b[0m\n\u001b[1;32m   1424\u001b[0m \u001b[0;34m\u001b[0m\u001b[0m\n\u001b[0;32m-> 1425\u001b[0;31m     \u001b[0;32mwith\u001b[0m \u001b[0m_open_file_like\u001b[0m\u001b[0;34m(\u001b[0m\u001b[0mf\u001b[0m\u001b[0;34m,\u001b[0m \u001b[0;34m\"rb\"\u001b[0m\u001b[0;34m)\u001b[0m \u001b[0;32mas\u001b[0m \u001b[0mopened_file\u001b[0m\u001b[0;34m:\u001b[0m\u001b[0;34m\u001b[0m\u001b[0;34m\u001b[0m\u001b[0m\n\u001b[0m\u001b[1;32m   1426\u001b[0m         \u001b[0;32mif\u001b[0m \u001b[0m_is_zipfile\u001b[0m\u001b[0;34m(\u001b[0m\u001b[0mopened_file\u001b[0m\u001b[0;34m)\u001b[0m\u001b[0;34m:\u001b[0m\u001b[0;34m\u001b[0m\u001b[0;34m\u001b[0m\u001b[0m\n\u001b[1;32m   1427\u001b[0m             \u001b[0;31m# The zipfile reader is going to advance the current file position.\u001b[0m\u001b[0;34m\u001b[0m\u001b[0;34m\u001b[0m\u001b[0m\n",
            "\u001b[0;32m/usr/local/lib/python3.11/dist-packages/torch/serialization.py\u001b[0m in \u001b[0;36m_open_file_like\u001b[0;34m(name_or_buffer, mode)\u001b[0m\n\u001b[1;32m    749\u001b[0m \u001b[0;32mdef\u001b[0m \u001b[0m_open_file_like\u001b[0m\u001b[0;34m(\u001b[0m\u001b[0mname_or_buffer\u001b[0m\u001b[0;34m,\u001b[0m \u001b[0mmode\u001b[0m\u001b[0;34m)\u001b[0m\u001b[0;34m:\u001b[0m\u001b[0;34m\u001b[0m\u001b[0;34m\u001b[0m\u001b[0m\n\u001b[1;32m    750\u001b[0m     \u001b[0;32mif\u001b[0m \u001b[0m_is_path\u001b[0m\u001b[0;34m(\u001b[0m\u001b[0mname_or_buffer\u001b[0m\u001b[0;34m)\u001b[0m\u001b[0;34m:\u001b[0m\u001b[0;34m\u001b[0m\u001b[0;34m\u001b[0m\u001b[0m\n\u001b[0;32m--> 751\u001b[0;31m         \u001b[0;32mreturn\u001b[0m \u001b[0m_open_file\u001b[0m\u001b[0;34m(\u001b[0m\u001b[0mname_or_buffer\u001b[0m\u001b[0;34m,\u001b[0m \u001b[0mmode\u001b[0m\u001b[0;34m)\u001b[0m\u001b[0;34m\u001b[0m\u001b[0;34m\u001b[0m\u001b[0m\n\u001b[0m\u001b[1;32m    752\u001b[0m     \u001b[0;32melse\u001b[0m\u001b[0;34m:\u001b[0m\u001b[0;34m\u001b[0m\u001b[0;34m\u001b[0m\u001b[0m\n\u001b[1;32m    753\u001b[0m         \u001b[0;32mif\u001b[0m \u001b[0;34m\"w\"\u001b[0m \u001b[0;32min\u001b[0m \u001b[0mmode\u001b[0m\u001b[0;34m:\u001b[0m\u001b[0;34m\u001b[0m\u001b[0;34m\u001b[0m\u001b[0m\n",
            "\u001b[0;32m/usr/local/lib/python3.11/dist-packages/torch/serialization.py\u001b[0m in \u001b[0;36m__init__\u001b[0;34m(self, name, mode)\u001b[0m\n\u001b[1;32m    730\u001b[0m \u001b[0;32mclass\u001b[0m \u001b[0m_open_file\u001b[0m\u001b[0;34m(\u001b[0m\u001b[0m_opener\u001b[0m\u001b[0;34m)\u001b[0m\u001b[0;34m:\u001b[0m\u001b[0;34m\u001b[0m\u001b[0;34m\u001b[0m\u001b[0m\n\u001b[1;32m    731\u001b[0m     \u001b[0;32mdef\u001b[0m \u001b[0m__init__\u001b[0m\u001b[0;34m(\u001b[0m\u001b[0mself\u001b[0m\u001b[0;34m,\u001b[0m \u001b[0mname\u001b[0m\u001b[0;34m,\u001b[0m \u001b[0mmode\u001b[0m\u001b[0;34m)\u001b[0m\u001b[0;34m:\u001b[0m\u001b[0;34m\u001b[0m\u001b[0;34m\u001b[0m\u001b[0m\n\u001b[0;32m--> 732\u001b[0;31m         \u001b[0msuper\u001b[0m\u001b[0;34m(\u001b[0m\u001b[0;34m)\u001b[0m\u001b[0;34m.\u001b[0m\u001b[0m__init__\u001b[0m\u001b[0;34m(\u001b[0m\u001b[0mopen\u001b[0m\u001b[0;34m(\u001b[0m\u001b[0mname\u001b[0m\u001b[0;34m,\u001b[0m \u001b[0mmode\u001b[0m\u001b[0;34m)\u001b[0m\u001b[0;34m)\u001b[0m\u001b[0;34m\u001b[0m\u001b[0;34m\u001b[0m\u001b[0m\n\u001b[0m\u001b[1;32m    733\u001b[0m \u001b[0;34m\u001b[0m\u001b[0m\n\u001b[1;32m    734\u001b[0m     \u001b[0;32mdef\u001b[0m \u001b[0m__exit__\u001b[0m\u001b[0;34m(\u001b[0m\u001b[0mself\u001b[0m\u001b[0;34m,\u001b[0m \u001b[0;34m*\u001b[0m\u001b[0margs\u001b[0m\u001b[0;34m)\u001b[0m\u001b[0;34m:\u001b[0m\u001b[0;34m\u001b[0m\u001b[0;34m\u001b[0m\u001b[0m\n",
            "\u001b[0;31mFileNotFoundError\u001b[0m: [Errno 2] No such file or directory: 'path_to_best.pt'"
          ]
        }
      ]
    },
    {
      "cell_type": "markdown",
      "source": [
        "Visualize Metrics and Curves"
      ],
      "metadata": {
        "id": "42ljpoVefBOY"
      }
    },
    {
      "cell_type": "code",
      "source": [
        "import matplotlib.pyplot as plt\n",
        "\n",
        "# Visualizing one of the evaluation curves\n",
        "metrics.plot_curve(curve='Precision-Recall(M)')  # Mask-based PR curve\n"
      ],
      "metadata": {
        "id": "DlXaVXLHe9HQ"
      },
      "execution_count": null,
      "outputs": []
    },
    {
      "cell_type": "markdown",
      "source": [
        "Visualize Detection with Mask + Label"
      ],
      "metadata": {
        "id": "Fao5bMX-fGYB"
      }
    },
    {
      "cell_type": "code",
      "source": [
        "import cv2\n",
        "import numpy as np\n",
        "from PIL import Image\n",
        "from pathlib import Path\n",
        "\n",
        "image_path = \"/content/your_path/images/test/camourflage_01234.jpg\"\n",
        "mask_path = \"/content/your_path/labels/test/camourflage_01234.txt\"\n",
        "\n",
        "image = cv2.imread(image_path)\n",
        "h, w, _ = image.shape\n",
        "\n",
        "with open(mask_path, 'r') as f:\n",
        "    for line in f:\n",
        "        cls, *points = map(float, line.strip().split())\n",
        "        points = np.array(points).reshape(-1, 2) * [w, h]\n",
        "        cv2.polylines(image, [points.astype(int)], isClosed=True, color=(0,255,0), thickness=2)\n",
        "        cv2.putText(image, \"Camo\", tuple(points[0].astype(int)), cv2.FONT_HERSHEY_SIMPLEX, 0.6, (0,0,255), 2)\n",
        "\n",
        "plt.imshow(cv2.cvtColor(image, cv2.COLOR_BGR2RGB))\n",
        "plt.axis(\"off\")\n",
        "plt.show()\n"
      ],
      "metadata": {
        "id": "k869vnbDfCeQ"
      },
      "execution_count": null,
      "outputs": []
    },
    {
      "cell_type": "markdown",
      "source": [
        "Test Code for displaying single image"
      ],
      "metadata": {
        "id": "5tYccmzKXuec"
      }
    },
    {
      "cell_type": "code",
      "source": [
        "import matplotlib.pyplot as plt\n",
        "import matplotlib.patches as patches\n",
        "import cv2\n",
        "import os\n",
        "\n",
        "# Choose a file to visualize (you can change this)\n",
        "img_name = 'camourflage_00001.jpg'  # make sure this exists\n",
        "image_path = f'/content/drive/MyDrive/Colab Notebooks/Dataset/CAMO/images/train/{img_name}'\n",
        "label_path = f'/content/drive/MyDrive/Colab Notebooks/Dataset/CAMO/labels/Train/{img_name.replace(\".jpg\", \".txt\")}'\n",
        "\n",
        "# Load image\n",
        "image = cv2.imread(image_path)\n",
        "image = cv2.cvtColor(image, cv2.COLOR_BGR2RGB)\n",
        "h, w, _ = image.shape\n",
        "\n",
        "# Draw polygons from label file\n",
        "with open(label_path, 'r') as f:\n",
        "    lines = f.readlines()\n",
        "\n",
        "for line in lines:\n",
        "    parts = list(map(float, line.strip().split()))\n",
        "    class_id = int(parts[0])\n",
        "    coords = np.array(parts[1:]).reshape(-1, 2)  # [x, y] pairs\n",
        "    coords *= [w, h]  # convert to pixel coordinates\n",
        "    coords = coords.astype(int)\n",
        "\n",
        "    cv2.polylines(image, [coords], isClosed=True, color=(255, 0, 0), thickness=2)\n",
        "\n",
        "# Show the image\n",
        "plt.figure(figsize=(10, 10))\n",
        "plt.imshow(image)\n",
        "plt.title(f'Segmentation mask: {img_name}')\n",
        "plt.axis('off')\n",
        "plt.show()\n"
      ],
      "metadata": {
        "collapsed": true,
        "id": "WH_mt-kcSJrb"
      },
      "execution_count": null,
      "outputs": []
    }
  ]
}